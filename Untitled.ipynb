{
 "cells": [
  {
   "cell_type": "code",
   "execution_count": null,
   "metadata": {},
   "outputs": [],
   "source": [
    "import $ivy.`com.github.melrief::purecsv:0.1.1`"
   ]
  },
  {
   "cell_type": "code",
   "execution_count": null,
   "metadata": {},
   "outputs": [],
   "source": [
    "import scala.util.Try"
   ]
  },
  {
   "cell_type": "code",
   "execution_count": null,
   "metadata": {},
   "outputs": [],
   "source": [
    "case class Item(offset: Int, idx: Int, hash1: Int, hash2: Int, fileId: Int) {}"
   ]
  },
  {
   "cell_type": "code",
   "execution_count": null,
   "metadata": {},
   "outputs": [],
   "source": [
    "case class DubItem(id: Int, paragraph: Int, offset: Int) {}\n"
   ]
  },
  {
   "cell_type": "code",
   "execution_count": null,
   "metadata": {},
   "outputs": [],
   "source": [
    "case class GroupIterator[T, K, V](iter: Iterator[T], split: T => (K, V), reduce: (V, V) => V) extends Iterator[(K, V)] {\n",
    "  var currentOutputKey: Option[K] = None\n",
    "  var currentKey: Option[K] = None\n",
    "  var currentValue: Option[V] = None\n",
    "  var localValue: Option[V] = None\n",
    "  val queue = scala.collection.mutable.Queue[(K, V)]()\n",
    "\n",
    "  def read(): (Option[K], Option[V]) = {\n",
    "    if (iter.hasNext) {\n",
    "      val r = iter.next()\n",
    "      val (key, value) = split(r)\n",
    "\n",
    "      (Some(key), Some(value))\n",
    "    } else {\n",
    "      (None, None)\n",
    "    }\n",
    "  }\n",
    "\n",
    "  override def hasNext: Boolean = {\n",
    "    if (!iter.hasNext && queue.isEmpty) {\n",
    "      if (currentOutputKey.isDefined) {\n",
    "        queue.enqueue((currentOutputKey.get, currentValue.get))\n",
    "        currentOutputKey = None\n",
    "        true\n",
    "      } else {\n",
    "        false\n",
    "      }\n",
    "    } else if (!iter.hasNext && queue.nonEmpty) {\n",
    "      true\n",
    "    } else {\n",
    "      if (currentOutputKey.isEmpty) {\n",
    "        val (key, value) = read()\n",
    "        currentKey = key\n",
    "        currentOutputKey = key\n",
    "        currentValue = value\n",
    "      }\n",
    "\n",
    "      while (currentKey.isDefined && currentOutputKey == currentKey) {\n",
    "        val (key, value) = read()\n",
    "        currentKey = key\n",
    "        localValue = value\n",
    "        if (value.isDefined && currentOutputKey == currentKey) {\n",
    "          currentValue = currentValue.map(x => reduce(x, value.get))\n",
    "        }\n",
    "      }\n",
    "\n",
    "      queue.enqueue((currentOutputKey.get, currentValue.get))\n",
    "      currentOutputKey = currentKey\n",
    "      currentValue = localValue\n",
    "\n",
    "      true\n",
    "    }\n",
    "  }\n",
    "\n",
    "  override def next(): (K, V) = {\n",
    "    queue.dequeue()\n",
    "  }\n",
    "}"
   ]
  },
  {
   "cell_type": "code",
   "execution_count": null,
   "metadata": {},
   "outputs": [],
   "source": [
    "import java.io._\n",
    "import java.nio.file.{Files, Paths}\n",
    "\n",
    "import scala.reflect.io\n",
    "import scala.reflect.io.Directory\n",
    "\n",
    "/**\n",
    "  * Utility object for File access.\n",
    "  */\n",
    "object FileUtils {\n",
    "\n",
    "  type FileName = String\n",
    "  type Dir = String\n",
    "\n",
    "  def withFile[A](fileName: FileName)(func: PrintWriter => A): Unit = {\n",
    "    val file = new File(fileName)\n",
    "    val write = new PrintWriter(file)\n",
    "    try {\n",
    "      func(write)\n",
    "    } finally {\n",
    "      write.close()\n",
    "    }\n",
    "  }\n",
    "\n",
    "  /**\n",
    "    * Directory list\n",
    "    *\n",
    "    * @param dir dir\n",
    "    * @return only filenames, i.e. \"/tmp/1/2/3\" -> \"3\"\n",
    "    */\n",
    "  def list(dir: Dir): List[FileName] = {\n",
    "    filesInDir(dir).map(_.name).toList\n",
    "  }\n",
    "\n",
    "  /**\n",
    "    * Full directory list\n",
    "    *\n",
    "    * @param dir dir\n",
    "    * @return full path filenames, i.e. \"/tmp/1/2/3\"\n",
    "    */\n",
    "  def fullList(dir: Dir): List[FileName] = {\n",
    "    list(dir).map(fileName => s\"$dir/$fileName\")\n",
    "  }\n",
    "\n",
    "  def fromFile(filePath: FileName, encoding: String = \"iso-8859-1\"): Iterator[String] = scala.io.Source.fromFile(filePath, encoding).getLines\n",
    "\n",
    "  def readFile(filePath: FileName, encoding: String = \"iso-8859-1\"): String = fromFile(filePath, encoding).mkString(\"\\n\")\n",
    "\n",
    "  def readBinaryFile(fileName: FileName): Array[Byte] = {\n",
    "    Files.readAllBytes(Paths.get(fileName))\n",
    "  }\n",
    "\n",
    "  def filesInDir(dir: Dir, fileNameFilter: (FileName => Boolean) = (x => true)): Array[io.File] = {\n",
    "    Directory(dir).files.toArray.filter(file => fileNameFilter(file.name)).sortBy(x => x.name)\n",
    "  }\n",
    "\n",
    "  // scalastyle:off regex\n",
    "  def write(fileName: FileName, iterator: Iterator[String]): Unit = {\n",
    "    withFile(fileName) { output =>\n",
    "      iterator.foreach(line => output.println(line))\n",
    "    }\n",
    "  }\n",
    "\n",
    "  // scalastyle:on regex\n",
    "\n",
    "  def write(fileName: FileName, value: String): Unit = {\n",
    "    write(fileName, Iterator.single(value))\n",
    "  }\n",
    "\n",
    "  def write(fileName: FileName, array: Array[Byte]): Unit = {\n",
    "    import java.io.FileOutputStream\n",
    "    val fos = new FileOutputStream(fileName)\n",
    "    fos.write(array)\n",
    "    fos.close()\n",
    "  }\n",
    "\n",
    "  def write(fileName: FileName, stream: InputStream): Unit = {\n",
    "    Files.copy(stream, new java.io.File(fileName).toPath)\n",
    "  }\n",
    "\n",
    "  def copyFile(srcPath: String, destPath: String): Unit = {\n",
    "    val src = new File(srcPath)\n",
    "    val dest = new File(destPath)\n",
    "    new FileOutputStream(dest).getChannel.transferFrom(\n",
    "      new FileInputStream(src).getChannel, 0, Long.MaxValue)\n",
    "  }\n",
    "\n",
    "  def exist(path: String): Boolean = {\n",
    "    new java.io.File(path).exists\n",
    "  }\n",
    "\n",
    "  def delete(fileName: FileName): Boolean = {\n",
    "    new File(fileName).delete()\n",
    "  }\n",
    "\n",
    "  def deleteNonEmptyDir(dir: Dir): Boolean = {\n",
    "    filesInDir(dir).foreach(x => delete(x.path))\n",
    "    new Directory(new File(dir)).delete()\n",
    "  }\n",
    "\n",
    "  def fileSize(fileName: FileName): Long = {\n",
    "    new File(fileName).length()\n",
    "  }\n",
    "\n",
    "  def appendLine(fileName: FileName, value: String): Unit = {\n",
    "    val fileWriter = new FileWriter(fileName, true)\n",
    "    try {\n",
    "      fileWriter.write(value)\n",
    "      fileWriter.write(\"\\n\")\n",
    "    } finally {\n",
    "      fileWriter.close()\n",
    "    }\n",
    "  }\n",
    "}\n"
   ]
  },
  {
   "cell_type": "code",
   "execution_count": null,
   "metadata": {},
   "outputs": [],
   "source": [
    "\n",
    "import java.io._\n",
    "\n",
    "\n",
    "/**\n",
    "  * Utility methods for serialization/deserialization\n",
    "  */\n",
    "object SerializationUtils {\n",
    "  def serialize(obj: Any, outputStream: OutputStream): Unit = {\n",
    "    val out = new ObjectOutputStream(outputStream)\n",
    "    out.writeObject(obj)\n",
    "    out.close()\n",
    "  }\n",
    "\n",
    "  def serialize(obj: Any, fileName: String): Unit = {\n",
    "    serialize(obj, new FileOutputStream(new File(fileName)))\n",
    "  }\n",
    "\n",
    "  def serialize(obj: Any): Array[Byte] = {\n",
    "    val stream = new ByteArrayOutputStream()\n",
    "    serialize(obj, stream)\n",
    "    stream.toByteArray\n",
    "  }\n",
    "\n",
    "  def deserialize[T](inputStream: InputStream): T = {\n",
    "    val objReader = new ObjectInputStream(inputStream)\n",
    "    val res = objReader.readObject().asInstanceOf[T]\n",
    "    res\n",
    "  }\n",
    "\n",
    "\n",
    "  def cache[T](fileName: String)(block: => T): T = {\n",
    "    if (FileUtils.exist(fileName)) {\n",
    "      deserialize[T](new DataInputStream(new FileInputStream(new File(fileName))))\n",
    "    } else {\n",
    "      val value: T = block\n",
    "      SerializationUtils.serialize(value, new FileOutputStream(new File(fileName)))\n",
    "      value\n",
    "    }\n",
    "  }\n",
    "}\n"
   ]
  },
  {
   "cell_type": "code",
   "execution_count": null,
   "metadata": {},
   "outputs": [],
   "source": [
    "val all_back: Map[Int, String] = scala.io.Source.fromFile(\"all\").getLines().drop(1).map(_.split(\" \").last).toList.zipWithIndex.map(x => (x._2, x._1)).toMap\n",
    "val all: Map[String, Int] = scala.io.Source.fromFile(\"all\").getLines().drop(1).map(_.split(\" \").last).toList.zipWithIndex.toMap \n",
    "val allSet = all.keysIterator.map(_.split(\"\\\\.\").head).toSet"
   ]
  },
  {
   "cell_type": "code",
   "execution_count": null,
   "metadata": {},
   "outputs": [],
   "source": [
    "    def hash(str: String, seed: Int): Int = {\n",
    "      var res = 1\n",
    "      for (c <- str) {\n",
    "        res = res * seed + c.toInt\n",
    "      }\n",
    "\n",
    "      res\n",
    "    }\n",
    "\n",
    "    def convert(str: String): String = {\n",
    "      str.filter(ch => (ch >= 'а' && ch <= 'Я') || (ch >= '\\u0410' && ch <= '\\u044F')).toUpperCase\n",
    "    }\n",
    "\n",
    "\n",
    "    def dirHandle(dir: String, outputFileName: String) = {\n",
    "      println(dir)\n",
    "\n",
    "      val iter: Iterator[String] = FileUtils.filesInDir(dir, x => x.endsWith(\".txt\")).iterator.flatMap { file =>\n",
    "        val fileName = file.name\n",
    "        fileHandle(file.path, all(fileName))\n",
    "      }\n",
    "\n",
    "      FileUtils.write(outputFileName, iter)\n",
    "    }\n",
    "\n",
    "    def fileHandle(fileName: String, fileId: Int): Iterator[String] = {\n",
    "      import scala.util.Try\n",
    "\n",
    "      //      println(s\"$fileName $fileId\")\n",
    "      Try {\n",
    "        val a = Try{\n",
    "          scala.io.Source.fromFile(fileName, \"UTF-8\").getLines().toList.mkString(\"\\n\")\n",
    "        }.getOrElse{\n",
    "          import java.io._\n",
    "          val br = new BufferedReader(new InputStreamReader(\n",
    "            new FileInputStream(fileName), \"UTF-8\"))\n",
    "          br.lines().toArray.toList.map(_.toString).mkString(\"\\n\")\n",
    "        }\n",
    "\n",
    "        val off = List(-1) ++ a.zipWithIndex.filter {\n",
    "          case (a, _) if a == '.' => true\n",
    "          case _ => false\n",
    "        }.map(_._2).toList\n",
    "\n",
    "        val indexedSplit = a.split(\"\\\\.\").zipWithIndex\n",
    "\n",
    "        val filtered = indexedSplit.map {\n",
    "          case (str, idx) => (convert(str), idx)\n",
    "        }.\n",
    "          filter {\n",
    "            case (str, _) => str.length >= 60\n",
    "          }\n",
    "\n",
    "        val items = filtered.map {\n",
    "          case (str, idx) => Item(off(idx) + 1, idx, hash(str, 5), hash(str, 7), fileId)\n",
    "        }\n",
    "\n",
    "        val fingerprint = items.map(x => List[Int](x.hash1, x.hash2, fileId, x.idx, x.offset).mkString(\"\\t\"))\n",
    "        fingerprint.iterator\n",
    "      }.getOrElse(Iterator.empty)\n",
    "    }\n"
   ]
  },
  {
   "cell_type": "code",
   "execution_count": null,
   "metadata": {},
   "outputs": [],
   "source": [
    "//dirHandle(\"2\", \"2.o\")"
   ]
  },
  {
   "cell_type": "code",
   "execution_count": null,
   "metadata": {},
   "outputs": [],
   "source": [
    "   for (i <- 0 to 999) {\n",
    "     dirHandle(i.toString, s\"${i.toString}.o\")\n",
    "   }\n"
   ]
  },
  {
   "cell_type": "code",
   "execution_count": null,
   "metadata": {},
   "outputs": [],
   "source": []
  },
  {
   "cell_type": "code",
   "execution_count": null,
   "metadata": {},
   "outputs": [],
   "source": [
    "all_back(917785)"
   ]
  },
  {
   "cell_type": "code",
   "execution_count": null,
   "metadata": {
    "scrolled": true
   },
   "outputs": [],
   "source": [
    "    (0 to 999).par.foreach { i =>\n",
    "      dirHandle(i.toString, s\"${i.toString}.o\")\n",
    "    }\n"
   ]
  },
  {
   "cell_type": "code",
   "execution_count": null,
   "metadata": {
    "scrolled": true
   },
   "outputs": [],
   "source": [
    "val forbidden = scala.io.Source.fromFile(\"dubfiles\").getLines().flatMap(_.split(\"\\t\").drop(2).toList).map(_.split(\"/\").last).map(x => all(x)).toSet"
   ]
  },
  {
   "cell_type": "code",
   "execution_count": null,
   "metadata": {},
   "outputs": [],
   "source": [
    "    val loc: Map[String, String] = scala.io.Source.fromFile(\"copy\").getLines().map(_.split(\" \").last).map { x =>\n",
    "      val split = x.split(\"/\")\n",
    "      (split(1), split(0))\n",
    "    }.toMap\n"
   ]
  },
  {
   "cell_type": "code",
   "execution_count": null,
   "metadata": {},
   "outputs": [],
   "source": [
    "    def readById(id: Int): String = {\n",
    "      val fileName = all_back(id)\n",
    "      val dir = loc(fileName)\n",
    "      scala.io.Source.fromFile(s\"$dir/$fileName\", \"UTF-8\").getLines().mkString(\"\\n\")\n",
    "    }\n",
    "    def read(fstId: Int, sndId: Int, offsetFst: Int, offsetSnd: Int) = {\n",
    "      println(readById(fstId).drop(offsetFst).take(1000))\n",
    "      println(\"******************************************\")\n",
    "      println(readById(sndId).drop(offsetSnd).take(1000))\n",
    "\n",
    "    }\n",
    "    def readHeader(id: Int) = {\n",
    "      println(readById(id).take(1000))\n",
    "    }\n",
    "\n"
   ]
  },
  {
   "cell_type": "code",
   "execution_count": null,
   "metadata": {},
   "outputs": [],
   "source": [
    "read(824365, 891511, 4500, 63444)"
   ]
  },
  {
   "cell_type": "code",
   "execution_count": null,
   "metadata": {},
   "outputs": [],
   "source": [
    "read(603023, 783887, 28747, 25987)"
   ]
  },
  {
   "cell_type": "code",
   "execution_count": null,
   "metadata": {},
   "outputs": [],
   "source": [
    "readHeader(603023)"
   ]
  },
  {
   "cell_type": "code",
   "execution_count": null,
   "metadata": {},
   "outputs": [],
   "source": [
    "readHeader(783887)"
   ]
  },
  {
   "cell_type": "code",
   "execution_count": null,
   "metadata": {},
   "outputs": [],
   "source": [
    "    val iter = scala.io.Source.fromFile(\"sort\").getLines()\n",
    "\n",
    "    val it: Iterator[String] = GroupIterator[String, String, List[String]](iter, line => {\n",
    "      val split = line.split(\"\\t\")\n",
    "      (split.take(2).mkString(\"\\t\"), List(split.drop(2).mkString(\"\\t\")))\n",
    "    },\n",
    "      {\n",
    "        (a, b) => a ++ b\n",
    "      }\n",
    "    )\n",
    "      .flatMap(x => {\n",
    "        val set = x._2.map(_.split(\"\\t\").head).map(z => z.toInt).filterNot(z => forbidden.contains(z)).distinct\n",
    "        if (set.size >= 2 && set.size <= 3) {\n",
    "          Some(x)\n",
    "        } else {\n",
    "          None\n",
    "        }\n",
    "      })\n",
    "      .filter(x => {\n",
    "        val s = x._2.size\n",
    "        (s == 2 || s == 3) && x._2.map(_.split(\"\\t\").head).distinct.size > 1\n",
    "      }).flatMap { x =>\n",
    "      for (t <- x._2) yield s\"${x._1}\\t$t\\t${all_back(t.split(\"\\t\").head.toInt)}\"\n",
    "    }\n",
    "\n",
    "    FileUtils.write(\"dub.csv\", it)\n"
   ]
  },
  {
   "cell_type": "code",
   "execution_count": null,
   "metadata": {},
   "outputs": [],
   "source": [
    "forbidden.contains(464040)"
   ]
  },
  {
   "cell_type": "code",
   "execution_count": null,
   "metadata": {},
   "outputs": [],
   "source": [
    "//     val map = scala.io.Source.fromFile(\"dub.csv\").getLines().map(_.split(\"\\t\").apply(2).toInt).toList.groupBy(identity).mapValues(_.size)\n",
    "//     map.toList.sortBy(_._2)(Ordering[Int].reverse).take(10)\n"
   ]
  },
  {
   "cell_type": "code",
   "execution_count": null,
   "metadata": {},
   "outputs": [],
   "source": [
    "readById(973898)"
   ]
  },
  {
   "cell_type": "code",
   "execution_count": null,
   "metadata": {},
   "outputs": [],
   "source": [
    "read(973898, 967551, 981460, 1031332)"
   ]
  },
  {
   "cell_type": "code",
   "execution_count": null,
   "metadata": {},
   "outputs": [],
   "source": [
    "readById(967551)"
   ]
  },
  {
   "cell_type": "code",
   "execution_count": null,
   "metadata": {},
   "outputs": [],
   "source": [
    "    val iter1 = scala.io.Source.fromFile(\"dub.csv\").getLines()\n",
    "\n",
    "    val it1 = GroupIterator[String, String, List[String]](iter1, line => {\n",
    "      val split = line.split(\"\\t\")\n",
    "      (split.take(2).mkString(\"\\t\"), List(split.drop(2).head))\n",
    "    },\n",
    "      {\n",
    "        (a, b) => a ++ b\n",
    "      }\n",
    "    ).flatMap { x =>\n",
    "      val set = x._2.toSet.toList\n",
    "      set.combinations(2).toList.toIterator.map(_.sorted.mkString(\"\\t\"))\n",
    "    }\n",
    "\n",
    "    FileUtils.write(\"pairs\", it1)\n"
   ]
  },
  {
   "cell_type": "code",
   "execution_count": null,
   "metadata": {},
   "outputs": [],
   "source": [
    "    val top = scala.io.Source.fromFile(\"pairs\").getLines().toList.groupBy(identity).mapValues(_.size)\n",
    "    val toptop = top.toList.sortBy(_._2)(Ordering[Int].reverse).filter(x => x._2 >= 10)\n"
   ]
  },
  {
   "cell_type": "code",
   "execution_count": null,
   "metadata": {},
   "outputs": [],
   "source": [
    "readById(977533) == readById(978779)"
   ]
  },
  {
   "cell_type": "code",
   "execution_count": null,
   "metadata": {},
   "outputs": [],
   "source": [
    "readById(48475)"
   ]
  },
  {
   "cell_type": "code",
   "execution_count": null,
   "metadata": {},
   "outputs": [],
   "source": [
    "readById(68268)"
   ]
  },
  {
   "cell_type": "code",
   "execution_count": null,
   "metadata": {},
   "outputs": [],
   "source": [
    "    val uno = scala.io.Source.fromFile(\"pairs\").getLines().flatMap(_.split(\"\\t\").map(_.toInt)).toList.groupBy(identity).mapValues(_.size)\n",
    "    val topUno = uno.toList.sortBy(_._2)(Ordering[Int].reverse)\n"
   ]
  },
  {
   "cell_type": "code",
   "execution_count": null,
   "metadata": {},
   "outputs": [],
   "source": [
    "uno(852025)"
   ]
  },
  {
   "cell_type": "code",
   "execution_count": null,
   "metadata": {},
   "outputs": [],
   "source": [
    "uno.size"
   ]
  },
  {
   "cell_type": "code",
   "execution_count": null,
   "metadata": {},
   "outputs": [],
   "source": [
    "    val itmd5 = GroupIterator[String, String, List[String]](scala.io.Source.fromFile(\"allmd5_s\").getLines(), line => {\n",
    "      val split = line.split(\" \").filterNot(_.isEmpty)\n",
    "      (split.head, List(split.last))\n",
    "    },\n",
    "      {\n",
    "        (a, b) => a ++ b\n",
    "      }\n",
    "    ).filter(_._2.size > 1).map(x => s\"${x._1}\\t${x._2.mkString(\"\\t\")}\")\n",
    "\n",
    "    FileUtils.write(\"dubfiles\", itmd5)\n"
   ]
  },
  {
   "cell_type": "code",
   "execution_count": null,
   "metadata": {},
   "outputs": [],
   "source": []
  },
  {
   "cell_type": "code",
   "execution_count": null,
   "metadata": {},
   "outputs": [],
   "source": [
    "forbidden.size"
   ]
  },
  {
   "cell_type": "code",
   "execution_count": null,
   "metadata": {},
   "outputs": [],
   "source": [
    "readById(628248)"
   ]
  },
  {
   "cell_type": "code",
   "execution_count": null,
   "metadata": {},
   "outputs": [],
   "source": [
    "readById(688260)"
   ]
  },
  {
   "cell_type": "code",
   "execution_count": null,
   "metadata": {},
   "outputs": [],
   "source": [
    "topUno.filter(_._2 >= 1000).size"
   ]
  },
  {
   "cell_type": "code",
   "execution_count": null,
   "metadata": {},
   "outputs": [],
   "source": [
    "toptop.size"
   ]
  },
  {
   "cell_type": "code",
   "execution_count": null,
   "metadata": {},
   "outputs": [],
   "source": [
    "val lastNames = scala.io.Source.fromFile(\"russian_surnames.csv\", \"UTF-8\").getLines.drop(1).map(_.split(\";\")(1).toUpperCase).toSet"
   ]
  },
  {
   "cell_type": "code",
   "execution_count": null,
   "metadata": {},
   "outputs": [],
   "source": [
    "val forbidLastNames = scala.io.Source.fromFile(\"forbidLastNames.txt\", \"UTF-8\").getLines.map(_.drop(1).split(\",\").head).toSet"
   ]
  },
  {
   "cell_type": "code",
   "execution_count": null,
   "metadata": {},
   "outputs": [],
   "source": [
    "println(lastNames.head)"
   ]
  },
  {
   "cell_type": "code",
   "execution_count": null,
   "metadata": {},
   "outputs": [],
   "source": [
    "    def getAuthor(id: Int): String = {\n",
    "      Try {\n",
    "        val fileName = all_back(id)\n",
    "        val dir = loc(fileName)\n",
    "        scala.io.Source.fromFile(s\"$dir/$fileName\", \"UTF-8\").getLines().flatMap(x => x.split(\" \").map(_.toUpperCase).filter(x => lastNames.contains(x) && !forbidLastNames.contains(x))).take(1).toList.headOption.getOrElse(\"\")\n",
    "      }.getOrElse(\"\")\n",
    "    }\n"
   ]
  },
  {
   "cell_type": "code",
   "execution_count": null,
   "metadata": {},
   "outputs": [],
   "source": [
    "println(getAuthor(688260))"
   ]
  },
  {
   "cell_type": "code",
   "execution_count": null,
   "metadata": {},
   "outputs": [],
   "source": [
    "    val allAuthor = all.valuesIterator.toList.par.map {\n",
    "      id =>\n",
    "        (id, getAuthor(id))\n",
    "    }.toList.toMap\n"
   ]
  },
  {
   "cell_type": "code",
   "execution_count": null,
   "metadata": {},
   "outputs": [],
   "source": [
    "println(allAuthor(769962))"
   ]
  },
  {
   "cell_type": "code",
   "execution_count": null,
   "metadata": {},
   "outputs": [],
   "source": [
    "val topAutor = allAuthor.valuesIterator.toList.groupBy(identity).mapValues(_.size).toList.sortBy(_._2)(Ordering[Int].reverse).take(300)"
   ]
  },
  {
   "cell_type": "code",
   "execution_count": null,
   "metadata": {},
   "outputs": [],
   "source": [
    "topAutor.foreach(println)"
   ]
  },
  {
   "cell_type": "code",
   "execution_count": null,
   "metadata": {},
   "outputs": [],
   "source": [
    "println(allAuthor(48475))\n",
    "println(allAuthor(68268))\n",
    "\n",
    "println(allAuthor(781561))\n",
    "println(allAuthor(808504))\n",
    "\n",
    "println(allAuthor(628248))\n",
    "println(allAuthor(688260))\n"
   ]
  },
  {
   "cell_type": "code",
   "execution_count": null,
   "metadata": {},
   "outputs": [],
   "source": [
    "all_back(967551)"
   ]
  },
  {
   "cell_type": "code",
   "execution_count": null,
   "metadata": {},
   "outputs": [],
   "source": [
    "all_back(973898)"
   ]
  },
  {
   "cell_type": "code",
   "execution_count": null,
   "metadata": {},
   "outputs": [],
   "source": []
  },
  {
   "cell_type": "code",
   "execution_count": null,
   "metadata": {},
   "outputs": [],
   "source": [
    "import purecsv.unsafe.CSVReader\n",
    "\n",
    "case class MetaData(id: String, city: String, title: String, author: String, year: String, specs: String, grade: String, sciArea: String, univer: String, board: String) {\n",
    "  def lastName = author.split(\" \").head.toUpperCase\n",
    "}\n",
    "\n",
    "object MetaData {\n",
    "  lazy val err: MetaData = MetaData(\"\", \"\", \"\", \"\", \"\", \"\", \"\", \"\", \"\", \"\")\n",
    "  \n",
    "  def fromString(value: String): MetaData = {\n",
    "    Try {\n",
    "      CSVReader[MetaData].readCSVFromString(value, delimiter = ',').head\n",
    "    }.getOrElse(err)\n",
    "  }\n",
    "\n",
    "  def fromFile(fileName: String): List[MetaData] = {\n",
    "    scala.io.Source.fromFile(fileName, \"UTF-8\").getLines().drop(1).map(fromString).toList\n",
    "  }\n",
    "}\n"
   ]
  },
  {
   "cell_type": "code",
   "execution_count": null,
   "metadata": {},
   "outputs": [],
   "source": [
    "val md = MetaData.fromFile(\"dump.csv\")"
   ]
  },
  {
   "cell_type": "code",
   "execution_count": null,
   "metadata": {},
   "outputs": [],
   "source": [
    "md.size"
   ]
  },
  {
   "cell_type": "code",
   "execution_count": null,
   "metadata": {},
   "outputs": [],
   "source": [
    "val metaMap = md.map(x => (all.getOrElse(s\"${x.id}.txt\", 0), x)).toMap"
   ]
  },
  {
   "cell_type": "code",
   "execution_count": null,
   "metadata": {},
   "outputs": [],
   "source": [
    "println(metaMap.head._2.lastName)"
   ]
  },
  {
   "cell_type": "code",
   "execution_count": null,
   "metadata": {},
   "outputs": [],
   "source": [
    "    val dubs: List[(Set[Int], List[DubItem])] = GroupIterator[String, String, List[DubItem]](scala.io.Source.fromFile(\"dub.csv\").getLines(), line => {\n",
    "      val split = line.split(\"\\t\")\n",
    "      val item = DubItem(split(2).toInt, split(3).toInt, split(4).toInt)\n",
    "\n",
    "      (split.take(2).mkString(\"\\t\"), List(item))\n",
    "    },\n",
    "      {\n",
    "        (a, b) => a ++ b\n",
    "      }\n",
    "    ).filter(x => x._2.size == 2).map(x => (x._2.map(_.id).toSet, x._2)).toList\n"
   ]
  },
  {
   "cell_type": "code",
   "execution_count": null,
   "metadata": {},
   "outputs": [],
   "source": [
    "    def find(id: Int) = {\n",
    "      val main = dubs.filter(_._1.contains(id))\n",
    "      val otherSet = (main.map(_._1).foldLeft(Set[Int]())(_++_) -- Set(id))\n",
    "      val other = otherSet.toList.sorted\n",
    "\n",
    "      val cnt: Map[Int, Int] = main.flatMap(x => x._2).map(_.id).filter(otherSet.contains).groupBy(identity).mapValues(_.size)\n",
    "\n",
    "\n",
    "      (main, other, cnt)\n",
    "    }\n"
   ]
  },
  {
   "cell_type": "code",
   "execution_count": null,
   "metadata": {},
   "outputs": [],
   "source": [
    "all(\"01004871947.txt\")"
   ]
  },
  {
   "cell_type": "code",
   "execution_count": null,
   "metadata": {},
   "outputs": [],
   "source": [
    "val ff = find(719249)"
   ]
  },
  {
   "cell_type": "code",
   "execution_count": null,
   "metadata": {},
   "outputs": [],
   "source": [
    "ff._2"
   ]
  },
  {
   "cell_type": "code",
   "execution_count": null,
   "metadata": {},
   "outputs": [],
   "source": [
    "all_back(674257)"
   ]
  },
  {
   "cell_type": "code",
   "execution_count": null,
   "metadata": {},
   "outputs": [],
   "source": [
    "readById(674257)"
   ]
  },
  {
   "cell_type": "code",
   "execution_count": null,
   "metadata": {},
   "outputs": [],
   "source": [
    "readById(719249)"
   ]
  },
  {
   "cell_type": "code",
   "execution_count": null,
   "metadata": {},
   "outputs": [],
   "source": [
    "print(readById(899737))"
   ]
  },
  {
   "cell_type": "code",
   "execution_count": null,
   "metadata": {},
   "outputs": [],
   "source": [
    "all(\"01004874764.txt\")"
   ]
  },
  {
   "cell_type": "code",
   "execution_count": null,
   "metadata": {},
   "outputs": [],
   "source": [
    "val ff = find(719592)"
   ]
  },
  {
   "cell_type": "code",
   "execution_count": null,
   "metadata": {},
   "outputs": [],
   "source": [
    "readById(670800)"
   ]
  },
  {
   "cell_type": "code",
   "execution_count": null,
   "metadata": {},
   "outputs": [],
   "source": [
    "ff._3"
   ]
  },
  {
   "cell_type": "code",
   "execution_count": null,
   "metadata": {},
   "outputs": [],
   "source": [
    "readById(656455)"
   ]
  },
  {
   "cell_type": "code",
   "execution_count": null,
   "metadata": {},
   "outputs": [],
   "source": [
    "dubs.size"
   ]
  },
  {
   "cell_type": "code",
   "execution_count": null,
   "metadata": {},
   "outputs": [],
   "source": [
    "    val dubsAll: List[(Int, (DubItem, DubItem))] = dubs.flatMap { case (_, list) =>\n",
    "      list.flatMap { item =>\n",
    "        list.filterNot(_.id == item.id).map(x => (item.id, (item, x)))\n",
    "      }\n",
    "    }\n"
   ]
  },
  {
   "cell_type": "code",
   "execution_count": null,
   "metadata": {},
   "outputs": [],
   "source": [
    "    val dubsGrouped: Map[Int, List[(DubItem, DubItem)]] = dubsAll.groupBy(_._1).mapValues(_.map(_._2)).map(identity).withDefaultValue(List())\n",
    "//    val dubsGrouped: Map[Int, List[(DubItem, DubItem)]] = SerializationUtils.cache(\"dubsGrouped.bin.ser\"){dubsAll.groupBy(_._1).mapValues(_.map(_._2)).map(identity)}\n",
    "//    val dubsGrouped: Map[Int, List[(DubItem, DubItem)]] = SerializationUtils.cache(\"dubsGrouped.bin.ser\"){???}\n"
   ]
  },
  {
   "cell_type": "code",
   "execution_count": null,
   "metadata": {},
   "outputs": [],
   "source": [
    "//SerializationUtils.cache(\"dubsGrouped.bin.ser\"){dubsGrouped.map(identity)}"
   ]
  },
  {
   "cell_type": "code",
   "execution_count": null,
   "metadata": {},
   "outputs": [],
   "source": [
    "dubsGrouped(769962).size"
   ]
  },
  {
   "cell_type": "code",
   "execution_count": null,
   "metadata": {},
   "outputs": [],
   "source": [
    "dubsGrouped.size"
   ]
  },
  {
   "cell_type": "code",
   "execution_count": null,
   "metadata": {},
   "outputs": [],
   "source": []
  },
  {
   "cell_type": "code",
   "execution_count": null,
   "metadata": {},
   "outputs": [],
   "source": [
    "dubsGrouped.count(_._2.size > 10)"
   ]
  },
  {
   "cell_type": "code",
   "execution_count": null,
   "metadata": {},
   "outputs": [],
   "source": [
    "    def find1(id: Int) = {\n",
    "      val main: List[(DubItem, DubItem)] = dubsGrouped(id)\n",
    "      val otherSet = main.map(_._2.id).toSet\n",
    "      val other = otherSet.toList.sorted\n",
    "\n",
    "      val cnt: Map[Int, Int] = main.map(x => x._2.id).groupBy(identity).mapValues(_.size)\n",
    "\n",
    "      (main, other, cnt)\n",
    "    }\n"
   ]
  },
  {
   "cell_type": "code",
   "execution_count": null,
   "metadata": {},
   "outputs": [],
   "source": [
    "find1(719592)._2"
   ]
  },
  {
   "cell_type": "code",
   "execution_count": null,
   "metadata": {},
   "outputs": [],
   "source": [
    "//     def gen(id: Int) = {\n",
    "//       val f: (List[(DubItem, DubItem)], List[Int], Map[Int, Int]) = find1(id)\n",
    "\n",
    "//       val main = readById(id)\n",
    "//       val others: Map[Int, String] = f._2.map(x => (x, readById(x))).toMap\n",
    "\n",
    "//       val z: Map[Int, List[(DubItem, DubItem)]] = f._1.groupBy(x => x._2.id).mapValues(x => x.sortBy(_._1.offset))\n",
    "\n",
    "//       val res: List[(String, String)] = z.toList.flatMap { case (otherId, listDubs) =>\n",
    "//         listDubs.map {\n",
    "//           case (d1, d2) =>\n",
    "//             val left = main\n",
    "//             val right = others(otherId)\n",
    "\n",
    "\n",
    "//             val l = left.drop(d1.offset).takeWhile(_ != '.')\n",
    "//             val r = right.drop(d2.offset).takeWhile(_ != '.')\n",
    "\n",
    "//             val prevL = left.take(d1.offset).takeRight(150)\n",
    "//             val prevR = right.take(d2.offset).takeRight(150)\n",
    "\n",
    "//             val afterL = left.slice(d1.offset + l.size, d1.offset + l.size + 150)\n",
    "//             val afterR = right.slice(d2.offset + r.size, d2.offset + r.size + 150)\n",
    "\n",
    "//             (s\"${d1.id} $prevL//$l//$afterL\", s\" ${d2.id} **************$prevR//$r//$afterR\")\n",
    "//         }\n",
    "\n",
    "//       }\n",
    "\n",
    "//       res\n",
    "//     }\n"
   ]
  },
  {
   "cell_type": "code",
   "execution_count": null,
   "metadata": {},
   "outputs": [],
   "source": []
  },
  {
   "cell_type": "code",
   "execution_count": null,
   "metadata": {},
   "outputs": [],
   "source": [
    "println(gen(all(\"01004871947.txt\")).mkString(\"\\n\\n\\n\"))"
   ]
  },
  {
   "cell_type": "code",
   "execution_count": null,
   "metadata": {},
   "outputs": [],
   "source": [
    "val allLastNames = md.map(_.lastName).filter(_.size >= 3).toSet.toList.sorted\n",
    "val allLastNamesSet = md.map(_.lastName).filter(_.size >= 3).toSet"
   ]
  },
  {
   "cell_type": "code",
   "execution_count": null,
   "metadata": {},
   "outputs": [],
   "source": [
    "val forbidLastNames1 = scala.io.Source.fromFile(\"forbidLastNames1.txt\", \"UTF-8\").getLines.map(_.drop(1).split(\",\").head).toSet"
   ]
  },
  {
   "cell_type": "code",
   "execution_count": null,
   "metadata": {},
   "outputs": [],
   "source": [
    "allLastNames.slice(20000, 20010).foreach(println)"
   ]
  },
  {
   "cell_type": "code",
   "execution_count": null,
   "metadata": {},
   "outputs": [],
   "source": [
    "    def getAuthor1(id: Int): String = {\n",
    "      Try {\n",
    "        val fileName = all_back(id)\n",
    "        val dir = loc(fileName)\n",
    "        scala.io.Source.fromFile(s\"$dir/$fileName\", \"UTF-8\").getLines().flatMap(x => x.split(\" \").map(_.toUpperCase).filter(x => allLastNamesSet.contains(x) && !forbidLastNames1.contains(x))).take(1).toList.headOption.getOrElse(\"\")\n",
    "      }.getOrElse(\"\")\n",
    "    }\n"
   ]
  },
  {
   "cell_type": "code",
   "execution_count": null,
   "metadata": {},
   "outputs": [],
   "source": [
    "println(getAuthor1(all(\"01004871947.txt\")))"
   ]
  },
  {
   "cell_type": "code",
   "execution_count": null,
   "metadata": {},
   "outputs": [],
   "source": []
  },
  {
   "cell_type": "code",
   "execution_count": null,
   "metadata": {},
   "outputs": [],
   "source": [
    "find1(all(\"01005083865.txt\"))._3.map(case (k, v) => (getAuthor1(k), v))"
   ]
  },
  {
   "cell_type": "code",
   "execution_count": null,
   "metadata": {},
   "outputs": [],
   "source": [
    "getAuthor1(683533)"
   ]
  },
  {
   "cell_type": "code",
   "execution_count": null,
   "metadata": {},
   "outputs": [],
   "source": [
    "find1(all(\"01005083865.txt\"))._2.map(getAuthor1).foreach(println)"
   ]
  },
  {
   "cell_type": "code",
   "execution_count": null,
   "metadata": {},
   "outputs": [],
   "source": [
    "find1(all(\"01005083865.txt\"))._3"
   ]
  },
  {
   "cell_type": "code",
   "execution_count": null,
   "metadata": {},
   "outputs": [],
   "source": [
    "allLastNames.filter(_.size == 4).take(100).foreach(println)"
   ]
  },
  {
   "cell_type": "code",
   "execution_count": null,
   "metadata": {},
   "outputs": [],
   "source": [
    "readById(592650)"
   ]
  },
  {
   "cell_type": "code",
   "execution_count": null,
   "metadata": {},
   "outputs": [],
   "source": [
    "    val allAuthor1 = all.valuesIterator.toList.par.map {\n",
    "      id =>\n",
    "        (id, getAuthor1(id))\n",
    "    }.toList.toMap\n"
   ]
  },
  {
   "cell_type": "code",
   "execution_count": null,
   "metadata": {},
   "outputs": [],
   "source": [
    "val topAutor1 = allAuthor1.valuesIterator.toList.groupBy(identity).mapValues(_.size).toList.sortBy(_._2)(Ordering[Int].reverse).take(300)"
   ]
  },
  {
   "cell_type": "code",
   "execution_count": null,
   "metadata": {},
   "outputs": [],
   "source": [
    "topAutor1.foreach(println)"
   ]
  },
  {
   "cell_type": "code",
   "execution_count": null,
   "metadata": {},
   "outputs": [],
   "source": [
    "topAutor1.head._1.size"
   ]
  },
  {
   "cell_type": "code",
   "execution_count": null,
   "metadata": {},
   "outputs": [],
   "source": [
    "    case class Profile(id: Int, dubs: List[(DubItem, DubItem)], others: List[Int], cnt: Map[Int, Int]) {\n",
    "      lazy val currentLastName = getAuthor1(id)\n",
    "\n",
    "      lazy val otherCnt: Map[String, Int] = cnt.map {\n",
    "        case (idOther, cnt) => (getAuthor1(idOther), cnt)\n",
    "      }\n",
    "\n",
    "      lazy val otherLastNames: Map[Int, String] = others.map(x => (x, getAuthor1(x))).toMap\n",
    "\n",
    "      def toCheck = {\n",
    "        otherCnt.toList.filterNot {\n",
    "          case (other, _) => other == currentLastName\n",
    "        }.count {\n",
    "          case (_, a) => a >= 10\n",
    "        } > 0\n",
    "      }\n",
    "\n",
    "      def toCheck1 = {\n",
    "        otherCnt.toList.filterNot {\n",
    "          case (other, _) => other == currentLastName\n",
    "        }.count {\n",
    "          case (_, a) => a >= 10\n",
    "        } > 1\n",
    "      }\n",
    "\n",
    "\n",
    "    }\n"
   ]
  },
  {
   "cell_type": "code",
   "execution_count": null,
   "metadata": {},
   "outputs": [],
   "source": [
    "    def find1(id: Int) = {\n",
    "      val main: List[(DubItem, DubItem)] = dubsGrouped(id)\n",
    "      val otherSet = main.map(_._2.id).toSet\n",
    "      val other: List[Int] = otherSet.toList.sorted\n",
    "\n",
    "      val cnt: Map[Int, Int] = main.map(x => x._2.id).groupBy(identity).mapValues(_.size)\n",
    "\n",
    "      Profile(id, main, other, cnt)\n",
    "    }\n"
   ]
  },
  {
   "cell_type": "code",
   "execution_count": null,
   "metadata": {},
   "outputs": [],
   "source": [
    "val bb = all_back.keysIterator.map(x => find1(x)).filter(_.toCheck1).take(5).toList"
   ]
  },
  {
   "cell_type": "code",
   "execution_count": null,
   "metadata": {},
   "outputs": [],
   "source": [
    "bb.map(_.id)"
   ]
  },
  {
   "cell_type": "code",
   "execution_count": null,
   "metadata": {},
   "outputs": [],
   "source": [
    "readById(224780)"
   ]
  },
  {
   "cell_type": "code",
   "execution_count": null,
   "metadata": {},
   "outputs": [],
   "source": [
    "readById(797144)"
   ]
  },
  {
   "cell_type": "code",
   "execution_count": null,
   "metadata": {},
   "outputs": [],
   "source": [
    "find1(797144).otherCnt.foreach(println)"
   ]
  },
  {
   "cell_type": "code",
   "execution_count": null,
   "metadata": {},
   "outputs": [],
   "source": [
    "find1(797144).cnt"
   ]
  },
  {
   "cell_type": "code",
   "execution_count": null,
   "metadata": {},
   "outputs": [],
   "source": [
    "    def gen(id: Int) = {\n",
    "      val profile: Profile = find1(id)\n",
    "      val main = readById(id)\n",
    "      val others: Map[Int, String] = profile.others.map(x => (x, readById(x))).toMap\n",
    "\n",
    "      val mainAuthor = profile.currentLastName\n",
    "      val otherLastNames: Map[Int, String] = profile.otherLastNames\n",
    "\n",
    "      val toGen: Map[Int, List[(DubItem, DubItem)]] = profile.dubs.groupBy(x => x._2.id).mapValues(x => x.sortBy(_._1.offset).take(50)).filterKeys(id1 => otherLastNames(id1) != mainAuthor)\n",
    "\n",
    "      var header =\n",
    "        s\"\"\"<tr>\n",
    "           |<td>\n",
    "           |currentLastName=${profile.currentLastName}\n",
    "           |</td>\n",
    "           |<td>\n",
    "           |otherCnt=${profile.otherCnt.toString}\n",
    "           |</td>\n",
    "           |<td>\n",
    "           |cnt=${profile.cnt.toString}\n",
    "           |</td>\n",
    "           |</tr>\n",
    "           |\"\"\".stripMargin\n",
    "\n",
    "      val res: List[String] = toGen.toList.flatMap { case (otherId, listDubs) =>\n",
    "        listDubs.map {\n",
    "          case (d1, d2) =>\n",
    "            val left = main\n",
    "            val right = others(otherId)\n",
    "            val l = left.drop(d1.offset).takeWhile(_ != '.')\n",
    "            val r = right.drop(d2.offset).takeWhile(_ != '.')\n",
    "\n",
    "            val prevL = left.take(d1.offset).takeRight(150)\n",
    "            val prevR = right.take(d2.offset).takeRight(150)\n",
    "\n",
    "            val afterL = left.slice(d1.offset + l.size, d1.offset + l.size + 150)\n",
    "            val afterR = right.slice(d2.offset + r.size, d2.offset + r.size + 150)\n",
    "\n",
    "            s\"\"\"<tr>\n",
    "               |<td>\n",
    "               |${all_back(d1.id)}/${mainAuthor}/${d1.id}/${d1.offset}\n",
    "               |<p style=\"background-color:powderblue;\">$prevL</p>\n",
    "               |<p style=\"background-color:tomato;\">$l</p>\n",
    "               |<p style=\"background-color:forestgreen;\">$afterL</p>\n",
    "               |</td>\n",
    "               |\n",
    "               |<td>\n",
    "               |${all_back(d2.id)}/${otherLastNames(d2.id)}/${d2.id}/${d2.offset}\n",
    "               |<p style=\"background-color:powderblue;\">$prevR</p>\n",
    "               |<p style=\"background-color:tomato;\">$r</p>\n",
    "               |<p style=\"background-color:forestgreen;\">$afterR</p>\n",
    "               |</td>\n",
    "               |               |\n",
    "               |</tr>\n",
    "               |\"\"\".stripMargin\n",
    "        }\n",
    "\n",
    "      }\n",
    "\n",
    "      s\"\"\"\n",
    "         |<style>\n",
    "         |table, th, td {\n",
    "         |  border: 1px solid black;\n",
    "         |  border-collapse: collapse;\n",
    "         |}\n",
    "         |</style>\n",
    "         |<table>\n",
    "         |$header\n",
    "         |</table>\n",
    "         |<table>\n",
    "         |${res.mkString(\"\\n\\n\")}\n",
    "         |</table>\n",
    "         |\"\"\".stripMargin\n",
    "    }\n"
   ]
  },
  {
   "cell_type": "code",
   "execution_count": null,
   "metadata": {},
   "outputs": [],
   "source": [
    "val g = gen(797144)"
   ]
  },
  {
   "cell_type": "code",
   "execution_count": null,
   "metadata": {},
   "outputs": [],
   "source": [
    "FileUtils.write(\"bb.html\", gen(797144))"
   ]
  },
  {
   "cell_type": "code",
   "execution_count": null,
   "metadata": {},
   "outputs": [],
   "source": [
    "FileUtils.write(\"aa.html\", gen(224780))"
   ]
  },
  {
   "cell_type": "code",
   "execution_count": null,
   "metadata": {},
   "outputs": [],
   "source": [
    "FileUtils.write(\"zz.html\", gen(all(\"01004341844.txt\")))"
   ]
  },
  {
   "cell_type": "code",
   "execution_count": null,
   "metadata": {},
   "outputs": [],
   "source": [
    "all_back(547399)"
   ]
  },
  {
   "cell_type": "code",
   "execution_count": null,
   "metadata": {},
   "outputs": [],
   "source": [
    "readById(all(\"01004341844.txt\"))"
   ]
  },
  {
   "cell_type": "code",
   "execution_count": null,
   "metadata": {},
   "outputs": [],
   "source": [
    "readById(all(\"01004616645.txt\"))"
   ]
  },
  {
   "cell_type": "code",
   "execution_count": null,
   "metadata": {},
   "outputs": [],
   "source": [
    "readById(all(\"01004871947.txt\"))"
   ]
  },
  {
   "cell_type": "code",
   "execution_count": null,
   "metadata": {},
   "outputs": [],
   "source": [
    "    val disBad: Map[(String, Int), List[((String, Int), String)]] = scala.io.Source.fromFile(\"DISBASE.txt\").getLines().toList.map { x =>\n",
    "        val split = x.split(\"\\\\|\").toList\n",
    "      val lastName = split(1).toUpperCase\n",
    "      val year = split(0).takeRight(4).toInt\n",
    "      ((lastName, year), x)\n",
    "    }.groupBy(x => x._1)\n"
   ]
  },
  {
   "cell_type": "code",
   "execution_count": null,
   "metadata": {},
   "outputs": [],
   "source": [
    "case class MetaData2(id: String, _type: String, city: String, title: String, author: String, year: String, specs: String, grade: String, sciArea: String, univer: String, board: String) {\n",
    "  lazy val y: Int = Try {\n",
    "    val res = year.toInt\n",
    "    assert(res > 1970 && res < 2021)\n",
    "    res\n",
    "  }.getOrElse(0)\n",
    "  \n",
    "  def lastName = author.split(\" \").head.toUpperCase\n",
    "}\n",
    "\n",
    "object MetaData2 {\n",
    "  lazy val err: MetaData2 = MetaData2(\"\", \"\", \"\", \"\", \"\", \"\", \"\", \"\", \"\", \"\", \"\")\n",
    "\n",
    "  def fromString(value: String): MetaData2 = {\n",
    "    Try {\n",
    "      CSVReader[MetaData2].readCSVFromString(value, delimiter = ',').head\n",
    "    }.getOrElse(err)\n",
    "  }\n",
    "\n",
    "  def fromFile(fileName: String): Iterator[MetaData2] = {\n",
    "    scala.io.Source.fromFile(fileName, \"UTF-8\").getLines().drop(1).map(fromString)\n",
    "  }\n",
    "}\n"
   ]
  },
  {
   "cell_type": "code",
   "execution_count": null,
   "metadata": {},
   "outputs": [],
   "source": [
    "val meta2 = MetaData2.fromFile(\"text.csv\").filter(x => allSet.contains(x.id)).map(x => (x.id, x)).toMap"
   ]
  },
  {
   "cell_type": "code",
   "execution_count": null,
   "metadata": {},
   "outputs": [],
   "source": [
    "meta2.size"
   ]
  },
  {
   "cell_type": "code",
   "execution_count": null,
   "metadata": {},
   "outputs": [],
   "source": [
    "all.size"
   ]
  },
  {
   "cell_type": "code",
   "execution_count": null,
   "metadata": {},
   "outputs": [],
   "source": [
    "meta2.head"
   ]
  },
  {
   "cell_type": "code",
   "execution_count": null,
   "metadata": {},
   "outputs": [],
   "source": []
  }
 ],
 "metadata": {
  "kernelspec": {
   "display_name": "Scala 2.12",
   "language": "scala",
   "name": "scala212"
  },
  "language_info": {
   "codemirror_mode": "text/x-scala",
   "file_extension": ".scala",
   "mimetype": "text/x-scala",
   "name": "scala",
   "nbconvert_exporter": "script",
   "version": "2.12.10"
  }
 },
 "nbformat": 4,
 "nbformat_minor": 2
}
