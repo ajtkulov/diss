{
 "cells": [
  {
   "cell_type": "code",
   "execution_count": 3,
   "metadata": {},
   "outputs": [
    {
     "name": "stdout",
     "output_type": "stream",
     "text": [
      "Compiling /home/jovyan/data/(console)Compiling /home/jovyan/data/(console)"
     ]
    }
   ],
   "source": [
    "repl.load(os.read(os.pwd/'git/'src/'main/'scala/\"import.sc\"))\n",
    "// repl.load(os.read(os.pwd/\"a.sc\"))\n",
    "repl.load(os.read(os.pwd/'git/'src/'main/'scala/\"a.scala\"))\n",
    "// repl.load(os.read(os.pwd/'git/'diss/'src/'main/'scala/\"b.sc\"))\n"
   ]
  },
  {
   "cell_type": "code",
   "execution_count": 4,
   "metadata": {},
   "outputs": [
    {
     "data": {
      "text/plain": [
       "\u001b[32mimport \u001b[39m\u001b[36mDiss._\u001b[39m"
      ]
     },
     "execution_count": 4,
     "metadata": {},
     "output_type": "execute_result"
    }
   ],
   "source": [
    "import Diss._"
   ]
  },
  {
   "cell_type": "code",
   "execution_count": 5,
   "metadata": {},
   "outputs": [
    {
     "name": "stdout",
     "output_type": "stream",
     "text": [
      "(1995,16908)\n",
      "(1996,17838)\n",
      "(1997,18894)\n",
      "(1998,19506)\n",
      "(1999,20886)\n",
      "(2000,27326)\n",
      "(2001,18144)\n",
      "(2002,26079)\n",
      "(2003,26279)\n",
      "(2004,34417)\n",
      "(2005,32384)\n",
      "(2006,35069)\n",
      "(2007,30148)\n",
      "(2008,25869)\n",
      "(2009,32029)\n",
      "(2010,26062)\n",
      "(2011,28469)\n",
      "(2012,25330)\n",
      "(2013,23847)\n",
      "(2014,14887)\n",
      "(2015,16427)\n",
      "(2016,14146)\n",
      "(2017,12372)\n",
      "(2018,11849)\n",
      "(2019,10430)\n",
      "(2020,7600)\n"
     ]
    },
    {
     "data": {
      "text/plain": [
       "\u001b[36mperYearAuto\u001b[39m: \u001b[32mMap\u001b[39m[\u001b[32mInt\u001b[39m, \u001b[32mInt\u001b[39m] = \u001b[33mMap\u001b[39m(\n",
       "  \u001b[32m1995\u001b[39m -> \u001b[32m16908\u001b[39m,\n",
       "  \u001b[32m2014\u001b[39m -> \u001b[32m14887\u001b[39m,\n",
       "  \u001b[32m1999\u001b[39m -> \u001b[32m20886\u001b[39m,\n",
       "  \u001b[32m2020\u001b[39m -> \u001b[32m7600\u001b[39m,\n",
       "  \u001b[32m2010\u001b[39m -> \u001b[32m26062\u001b[39m,\n",
       "  \u001b[32m2007\u001b[39m -> \u001b[32m30148\u001b[39m,\n",
       "  \u001b[32m2017\u001b[39m -> \u001b[32m12372\u001b[39m,\n",
       "  \u001b[32m2002\u001b[39m -> \u001b[32m26079\u001b[39m,\n",
       "  \u001b[32m2011\u001b[39m -> \u001b[32m28469\u001b[39m,\n",
       "  \u001b[32m2000\u001b[39m -> \u001b[32m27326\u001b[39m,\n",
       "  \u001b[32m2015\u001b[39m -> \u001b[32m16427\u001b[39m,\n",
       "  \u001b[32m2006\u001b[39m -> \u001b[32m35069\u001b[39m,\n",
       "  \u001b[32m1996\u001b[39m -> \u001b[32m17838\u001b[39m,\n",
       "  \u001b[32m2001\u001b[39m -> \u001b[32m18144\u001b[39m,\n",
       "  \u001b[32m2016\u001b[39m -> \u001b[32m14146\u001b[39m,\n",
       "  \u001b[32m1997\u001b[39m -> \u001b[32m18894\u001b[39m,\n",
       "  \u001b[32m2005\u001b[39m -> \u001b[32m32384\u001b[39m,\n",
       "  \u001b[32m2012\u001b[39m -> \u001b[32m25330\u001b[39m,\n",
       "  \u001b[32m2013\u001b[39m -> \u001b[32m23847\u001b[39m,\n",
       "  \u001b[32m1998\u001b[39m -> \u001b[32m19506\u001b[39m,\n",
       "  \u001b[32m2004\u001b[39m -> \u001b[32m34417\u001b[39m,\n",
       "  \u001b[32m2009\u001b[39m -> \u001b[32m32029\u001b[39m,\n",
       "  \u001b[32m2019\u001b[39m -> \u001b[32m10430\u001b[39m,\n",
       "  \u001b[32m2003\u001b[39m -> \u001b[32m26279\u001b[39m,\n",
       "  \u001b[32m2008\u001b[39m -> \u001b[32m25869\u001b[39m,\n",
       "  \u001b[32m2018\u001b[39m -> \u001b[32m11849\u001b[39m\n",
       ")"
      ]
     },
     "execution_count": 5,
     "metadata": {},
     "output_type": "execute_result"
    }
   ],
   "source": [
    "val perYearAuto: Map[Int, Int] = meta2all.filter(_._type != \"disser\").filter(x => x.y >= 1995).groupBy(_.y).mapValues(_.size)\n",
    "perYearAuto.toList.sortBy(_._1).foreach(println)"
   ]
  },
  {
   "cell_type": "code",
   "execution_count": null,
   "metadata": {},
   "outputs": [],
   "source": [
    "val perYear: Map[Int, Int] = meta2all.filter(_._type == \"disser\").filter(x => x.y >= 1995).groupBy(_.y).mapValues(_.size)"
   ]
  },
  {
   "cell_type": "code",
   "execution_count": null,
   "metadata": {},
   "outputs": [],
   "source": [
    "perYear.toList.sortBy(_._1).foreach(println)"
   ]
  },
  {
   "cell_type": "code",
   "execution_count": null,
   "metadata": {},
   "outputs": [],
   "source": [
    "  val perYearExists: Map[Int, Int] = meta2all.filter(_._type == \"disser\").filter(x => x.y >= 1995).filter(x => allSet.contains(x.id)).groupBy(_.y).mapValues(_.size)\n",
    "  perYearExists.toList.sortBy(_._1).foreach(println)\n"
   ]
  },
  {
   "cell_type": "code",
   "execution_count": null,
   "metadata": {},
   "outputs": [],
   "source": [
    "  val perYearEconomy: Map[Int, Int] = meta2all.filter(_._type == \"disser\").filter(x => x.y >= 1995).filter(_.sciArea == \"экономических\").groupBy(_.y).mapValues(_.size)\n",
    "  perYearEconomy.toList.sortBy(_._1).foreach(println)\n"
   ]
  },
  {
   "cell_type": "code",
   "execution_count": null,
   "metadata": {},
   "outputs": [],
   "source": [
    "  val perYearTech: Map[Int, Int] = meta2all.filter(_._type == \"disser\").filter(x => x.y >= 1995).filter(_.sciArea == \"технических\").groupBy(_.y).mapValues(_.size)\n",
    "  perYearTech.toList.sortBy(_._1).foreach(println)\n"
   ]
  },
  {
   "cell_type": "code",
   "execution_count": null,
   "metadata": {},
   "outputs": [],
   "source": [
    "  val perYearMath: Map[Int, Int] = meta2all.filter(_._type == \"disser\").filter(x => x.y >= 1995).filter(_.sciArea == \"физико-математических\").groupBy(_.y).mapValues(_.size)\n",
    "  perYearMath.toList.sortBy(_._1).foreach(println)\n"
   ]
  },
  {
   "cell_type": "code",
   "execution_count": null,
   "metadata": {},
   "outputs": [],
   "source": [
    "  val map: scala.collection.mutable.Map[(String, String), Int] = scala.collection.mutable.Map[(String, String), Int]().withDefaultValue(0)\n",
    "  meta2.values.foreach { m =>\n",
    "    val dissId = all(s\"${m.id}.txt\")\n",
    "    val d = ngGrouped(DissRef(dissId)).collect {\n",
    "      case xx@DissRef(x) => xx\n",
    "    }\n",
    "\n",
    "\n",
    "\n",
    "    scala.util.Try {\n",
    "      d.foreach { dd =>\n",
    "        val mm = getDissMeta(dd.id)\n",
    "        map((m.sciArea, mm.sciArea)) = map(m.sciArea -> mm.sciArea) + 1\n",
    "      }\n",
    "    }\n",
    "  }\n"
   ]
  },
  {
   "cell_type": "code",
   "execution_count": null,
   "metadata": {},
   "outputs": [],
   "source": [
    "val susp = meta2.filter(x => x._2.board == \"063.15.13\" && x._2.y >= 1995 && x._2.y <= 2005).toVector"
   ]
  },
  {
   "cell_type": "code",
   "execution_count": null,
   "metadata": {},
   "outputs": [],
   "source": [
    "susp.size"
   ]
  },
  {
   "cell_type": "code",
   "execution_count": null,
   "metadata": {},
   "outputs": [],
   "source": [
    "susp.foreach(println)"
   ]
  },
  {
   "cell_type": "code",
   "execution_count": null,
   "metadata": {},
   "outputs": [],
   "source": []
  }
 ],
 "metadata": {
  "kernelspec": {
   "display_name": "Scala 2.12",
   "language": "scala",
   "name": "scala212"
  },
  "language_info": {
   "codemirror_mode": "text/x-scala",
   "file_extension": ".scala",
   "mimetype": "text/x-scala",
   "name": "scala",
   "nbconvert_exporter": "script",
   "version": "2.12.10"
  }
 },
 "nbformat": 4,
 "nbformat_minor": 2
}
