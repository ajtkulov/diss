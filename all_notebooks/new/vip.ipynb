{
 "cells": [
  {
   "cell_type": "code",
   "execution_count": 3,
   "metadata": {},
   "outputs": [
    {
     "name": "stdout",
     "output_type": "stream",
     "text": [
      "Compiling /home/jovyan/data/(console)Compiling /home/jovyan/data/(console)"
     ]
    }
   ],
   "source": [
    "repl.load(os.read(os.pwd/'git/'src/'main/'scala/\"import.sc\"))\n",
    "// repl.load(os.read(os.pwd/\"a.sc\"))\n",
    "repl.load(os.read(os.pwd/'git/'src/'main/'scala/\"a.scala\"))\n",
    "// repl.load(os.read(os.pwd/'git/'diss/'src/'main/'scala/\"b.sc\"))\n"
   ]
  },
  {
   "cell_type": "code",
   "execution_count": 4,
   "metadata": {},
   "outputs": [
    {
     "data": {
      "text/plain": [
       "\u001b[32mimport \u001b[39m\u001b[36mDiss._\u001b[39m"
      ]
     },
     "execution_count": 4,
     "metadata": {},
     "output_type": "execute_result"
    }
   ],
   "source": [
    "import Diss._"
   ]
  },
  {
   "cell_type": "code",
   "execution_count": null,
   "metadata": {},
   "outputs": [],
   "source": [
    "  lazy val set = Set[String](\"ГОРНЫЙ\", \"САНКТ\")\n",
    "  lazy val notset = Set[String](\"АКАДЕМИЯ\", \"МОСК\")\n",
    "  def checkFile(fileName: String) = {\n",
    "    val file = read(fileName)\n",
    "    val prefix = file.take(2048)\n",
    "\n",
    "    if ((set.forall { prefix.contains }) && (notset.forall(x => !prefix.contains(x)))) {\n",
    "      List(s\"$fileName\")\n",
    "    } else {\n",
    "      Nil\n",
    "    }.iterator\n",
    "  }\n",
    "\n",
    "  \n",
    "  def dirCheck(id: Int) = {\n",
    "    println(id)\n",
    "    val dir = \"data1\"\n",
    "    val outputFileName = s\"$id.vip\"\n",
    "    val iter = FileUtils.filesInDir(s\"$dir/$id\").flatMap { f =>\n",
    "      checkFile(f.path)\n",
    "    }.iterator\n",
    "    FileUtils.write(outputFileName, iter)\n",
    "  }\n"
   ]
  },
  {
   "cell_type": "code",
   "execution_count": null,
   "metadata": {},
   "outputs": [],
   "source": [
    "dirCheck(1)"
   ]
  },
  {
   "cell_type": "code",
   "execution_count": null,
   "metadata": {},
   "outputs": [],
   "source": [
    "checkFile(\"data1/1/01000012524.txt\")"
   ]
  },
  {
   "cell_type": "code",
   "execution_count": null,
   "metadata": {},
   "outputs": [],
   "source": [
    "(0 to 999).toList.par.foreach(dirCheck)"
   ]
  },
  {
   "cell_type": "code",
   "execution_count": null,
   "metadata": {},
   "outputs": [],
   "source": [
    "meta2"
   ]
  },
  {
   "cell_type": "code",
   "execution_count": null,
   "metadata": {},
   "outputs": [],
   "source": [
    "  val gor = scala.io.Source.fromFile(\"vip.vip\").getLines().map{line =>\n",
    "    val split = line.split(\"/\")\n",
    "    meta2(split.last.dropRight(4))\n",
    "  }.toVector\n"
   ]
  },
  {
   "cell_type": "code",
   "execution_count": null,
   "metadata": {},
   "outputs": [],
   "source": [
    "gor.foreach(println)"
   ]
  },
  {
   "cell_type": "code",
   "execution_count": null,
   "metadata": {},
   "outputs": [],
   "source": [
    "gor.filter(_.y <= 2005).foreach(println)"
   ]
  },
  {
   "cell_type": "code",
   "execution_count": 7,
   "metadata": {},
   "outputs": [
    {
     "data": {
      "text/plain": [
       "\u001b[36mnotScaned\u001b[39m: \u001b[32mVector\u001b[39m[\u001b[32mMetaData2\u001b[39m] = \u001b[33mVector\u001b[39m(\n",
       "  \u001b[33mMetaData2\u001b[39m(\n",
       "    \u001b[32m\"01000189066\"\u001b[39m,\n",
       "    \u001b[32m\"disser\"\u001b[39m,\n",
       "    \u001b[32m\"Санкт-Петербург\"\u001b[39m,\n",
       "    \u001b[32m\"Комплекс организационно-технических решений для повышения экономического предела эксплуатации добывающих скважин на месторождениях высоковязких нефтей\"\u001b[39m,\n",
       "    \u001b[32m\"Азимов Рахим Азизбоевич\"\u001b[39m,\n",
       "    \u001b[32m\"1998\"\u001b[39m,\n",
       "    \u001b[32m\"[\\\"08.00.28\\\"]\"\u001b[39m,\n",
       "    \u001b[32m\"кандидата\"\u001b[39m,\n",
       "    \u001b[32m\"технических\"\u001b[39m,\n",
       "    \u001b[32m\"\"\u001b[39m,\n",
       "    \u001b[32m\"063.15.13\"\u001b[39m\n",
       "  ),\n",
       "  \u001b[33mMetaData2\u001b[39m(\n",
       "    \u001b[32m\"01002250217\"\u001b[39m,\n",
       "    \u001b[32m\"disser\"\u001b[39m,\n",
       "    \u001b[32m\"Магадан\"\u001b[39m,\n",
       "    \u001b[32m\"Обоснование стратегии развития системы топливоснабжения Чукотки\"\u001b[39m,\n",
       "    \u001b[32m\"Гальцева Наталья Васильевна\"\u001b[39m,\n",
       "    \u001b[32m\"1993\"\u001b[39m,\n",
       "    \u001b[32m\"[\\\"08.00.05\\\"]\"\u001b[39m,\n",
       "    \u001b[32m\"кандидата\"\u001b[39m,\n",
       "    \u001b[32m\"экономических\"\u001b[39m,\n",
       "    \u001b[32m\"\"\u001b[39m,\n",
       "    \u001b[32m\"063.15.13\"\u001b[39m\n",
       "  ),\n",
       "  \u001b[33mMetaData2\u001b[39m(\n",
       "    \u001b[32m\"01002250516\"\u001b[39m,\n",
       "    \u001b[32m\"disser\"\u001b[39m,\n",
       "    \u001b[32m\"Санкт-Петербург\"\u001b[39m,\n",
       "    \u001b[32m\"Разработка механизма экономического управления малоотходным горнопромышленным комплексом\"\u001b[39m,\n",
       "    \u001b[32m\"Кузьмив Игорь Иванович\"\u001b[39m,\n",
       "    \u001b[32m\"1993\"\u001b[39m,\n",
       "    \u001b[32m\"[\\\"08.00.05\\\"]\"\u001b[39m,\n",
       "    \u001b[32m\"кандидата\"\u001b[39m,\n",
       "    \u001b[32m\"экономических\"\u001b[39m,\n",
       "..."
      ]
     },
     "execution_count": 7,
     "metadata": {},
     "output_type": "execute_result"
    }
   ],
   "source": [
    "val notScaned = meta2all.filter(x => x.y <= 2005 && x.board == \"063.15.13\").filter(x => !meta2.contains(x.id))"
   ]
  },
  {
   "cell_type": "code",
   "execution_count": 8,
   "metadata": {},
   "outputs": [
    {
     "data": {
      "text/plain": [
       "\u001b[36mres7\u001b[39m: \u001b[32mInt\u001b[39m = \u001b[32m5\u001b[39m"
      ]
     },
     "execution_count": 8,
     "metadata": {},
     "output_type": "execute_result"
    }
   ],
   "source": [
    "notScaned.size"
   ]
  },
  {
   "cell_type": "code",
   "execution_count": 9,
   "metadata": {},
   "outputs": [
    {
     "name": "stdout",
     "output_type": "stream",
     "text": [
      "MetaData2(01000189066,disser,Санкт-Петербург,Комплекс организационно-технических решений для повышения экономического предела эксплуатации добывающих скважин на месторождениях высоковязких нефтей,Азимов Рахим Азизбоевич,1998,[\"08.00.28\"],кандидата,технических,,063.15.13)\n",
      "MetaData2(01002250217,disser,Магадан,Обоснование стратегии развития системы топливоснабжения Чукотки,Гальцева Наталья Васильевна,1993,[\"08.00.05\"],кандидата,экономических,,063.15.13)\n",
      "MetaData2(01002250516,disser,Санкт-Петербург,Разработка механизма экономического управления малоотходным горнопромышленным комплексом,Кузьмив Игорь Иванович,1993,[\"08.00.05\"],кандидата,экономических,,063.15.13)\n",
      "MetaData2(01007899595,disser,Москва,Цена разведанных запасов в новом хозяйственном механизме минерально-сырьевого комплекса страны,Гольдман Ефим Лазаревич,1992,[\"08.00.05\"],доктора,экономических,,063.15.13)\n",
      "MetaData2(01008000547,disser,Санкт-Петербург,Совершенствование механизма хозяйственного расчета геологических организаций в условиях перехода к рыночным отношениям,Зоря Наталья Николаевна,1992,[\"08.00.05\"],кандидата,экономических,,063.15.13)\n"
     ]
    }
   ],
   "source": [
    "notScaned.foreach(println)"
   ]
  },
  {
   "cell_type": "code",
   "execution_count": null,
   "metadata": {},
   "outputs": [],
   "source": []
  }
 ],
 "metadata": {
  "kernelspec": {
   "display_name": "Scala 2.12",
   "language": "scala",
   "name": "scala212"
  },
  "language_info": {
   "codemirror_mode": "text/x-scala",
   "file_extension": ".sc",
   "mimetype": "text/x-scala",
   "name": "scala",
   "nbconvert_exporter": "script",
   "version": "2.12.16"
  }
 },
 "nbformat": 4,
 "nbformat_minor": 2
}
