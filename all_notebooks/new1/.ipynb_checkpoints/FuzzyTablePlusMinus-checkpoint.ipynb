{
 "cells": [
  {
   "cell_type": "code",
   "execution_count": null,
   "metadata": {},
   "outputs": [
    {
     "name": "stdout",
     "output_type": "stream",
     "text": [
      "Compiling /home/jovyan/data/(console)\n",
      "Compiling /home/jovyan/data/(console)\n"
     ]
    }
   ],
   "source": [
    "repl.load(os.read(os.pwd/'git/'src/'main/'scala/\"import.sc\"))\n",
    "// repl.load(os.read(os.pwd/\"a.sc\"))\n",
    "repl.load(os.read(os.pwd/'git/'src/'main/'scala/\"a.scala\"))\n",
    "// repl.load(os.read(os.pwd/'git/'diss/'src/'main/'scala/\"b.sc\"))\n"
   ]
  },
  {
   "cell_type": "code",
   "execution_count": 12,
   "metadata": {},
   "outputs": [
    {
     "data": {
      "text/plain": [
       "\u001b[32mimport \u001b[39m\u001b[36mDiss._\u001b[39m"
      ]
     },
     "execution_count": 12,
     "metadata": {},
     "output_type": "execute_result"
    }
   ],
   "source": [
    "import Diss._"
   ]
  },
  {
   "cell_type": "code",
   "execution_count": 13,
   "metadata": {},
   "outputs": [
    {
     "data": {
      "text/plain": [
       "defined \u001b[32mfunction\u001b[39m \u001b[36mextractNumPm\u001b[39m\n",
       "defined \u001b[32mfunction\u001b[39m \u001b[36mfileHandleToNum\u001b[39m"
      ]
     },
     "execution_count": 13,
     "metadata": {},
     "output_type": "execute_result"
    }
   ],
   "source": [
    "  def extractNumPm(str: String): List[String] = {\n",
    "    val main = str.replaceAll(\"[.,]\", \"\").map(c => if (c.isDigit || c == 177.toChar) c else ' ')\n",
    "    val split = main.split(177.toChar)\n",
    "    val list = split.map(x => x.split(\" \").filter(_.nonEmpty))\n",
    "    (for { i <- 1 to list.size - 1\n",
    "      if list(i - 1).size >= 2 && list(i).size >= 2 && list(i - 1).last.length > 1 && list(i).head.length > 1\n",
    "    } yield s\"${list(i - 1).last}/${list(i).head}\").toList\n",
    "  }\n",
    "\n",
    "  def fileHandleToNum(fileName: String): List[(List[String], Int)] = {\n",
    "    val bibList = List[String](\n",
    "      \"СПИСОК ЛИТЕРАТУРЫ\", \"СПИСОК ИСПОЛЬЗОВАННОЙ\", \"СПИСОК ИСПОЛЬЗУЕМОЙ\", \"СПИСОКЛИТЕРАТУРЫ\", \"УКАЗАТЕЛЬ ЛИТЕРАТУРЫ\",\n",
    "      \"СПИСОК ЦИТИРУЕМОЙ\", \"ИСПОЛЬЗОВАННАЯ ЛИТЕРАТУРА\", \"БИБЛИОГРАФИЧЕСКИЙ СПИСОК\", \"СПИСОК ИСПОЛЬЗОВАННЫХ\",\n",
    "      \"БИБЛИОГРАФИЧЕСКИЙ\", \"БИБЛИОГРАФИЯ\", \"СПИСОК ИСТОЧНИКОВ\", \"ЛИТЕРАТУРА\")\n",
    "\n",
    "    val endList = List[String](\"ВЫВОДЫ\", \"ЗАКЛЮЧЕНИЕ\")\n",
    "\n",
    "    import scala.util.Try\n",
    "    val numbers: List[(List[String], Int)] = Try {\n",
    "\n",
    "      val a: Array[String] = {\n",
    "        import java.io._\n",
    "        val br = new BufferedReader(new InputStreamReader(\n",
    "          new FileInputStream(fileName), \"UTF-8\"))\n",
    "        val res = br.lines().toArray.toList.map(_.toString).mkString(\" \").split(12.toChar)\n",
    "        br.close()\n",
    "        res\n",
    "      }\n",
    "\n",
    "      val zip: Array[(String, Int)] = a.zipWithIndex\n",
    "      val rev = zip.reverse\n",
    "\n",
    "      val bib: Option[Int] = rev.take((rev.size * 3 / 4).toInt).find { case (str, _) =>\n",
    "        val list = str.take(100).toUpperCase.filter(x => x.isLetter || x == ' ').split(\" \").filter(_.nonEmpty)\n",
    "        val head = list.mkString(\" \")\n",
    "        bibList.exists(prefix => head.startsWith(prefix))\n",
    "      }.map(_._2)\n",
    "\n",
    "      val end: Option[Int] = rev.take((rev.size * 3 / 4).toInt).find { case (str, _) =>\n",
    "        val list = str.take(100).toUpperCase.filter(x => x.isLetter || x == ' ').split(\" \").filter(_.nonEmpty)\n",
    "        val head = list.mkString(\" \")\n",
    "        endList.exists(prefix => head.startsWith(prefix))\n",
    "      }.map(_._2)\n",
    "\n",
    "      val endPos = (bib, end) match {\n",
    "        case (Some(b), Some(e)) => scala.math.min(b, e)\n",
    "        case (None, Some(e)) => e\n",
    "        case (Some(b), None) => b\n",
    "        case _ => a.size - 10\n",
    "      }\n",
    "\n",
    "      val sub: List[(String, Int)] = zip.toList.slice(30, endPos).sliding(3).toList.flatMap { array =>\n",
    "        if (array(1)._1.toUpperCase.contains(\"ТАБЛИЦ\")) {\n",
    "          array\n",
    "        } else {\n",
    "          List.empty\n",
    "        }\n",
    "      }.distinct.sortBy(_._2)\n",
    "\n",
    "      val res: List[(List[String], Int)] = sub.map(x => (extractNumPm(x._1), x._2))\n",
    "\n",
    "      res.filter(_._1.size >= 10)\n",
    "    }.getOrElse(List())\n",
    "\n",
    "    numbers\n",
    "  }\n"
   ]
  },
  {
   "cell_type": "code",
   "execution_count": 15,
   "metadata": {},
   "outputs": [
    {
     "data": {
      "text/plain": [
       "\u001b[32mimport \u001b[39m\u001b[36mscala.math._\u001b[39m\n",
       "defined \u001b[32mfunction\u001b[39m \u001b[36mgetFileLocation\u001b[39m\n",
       "defined \u001b[32mfunction\u001b[39m \u001b[36msplitPair\u001b[39m\n",
       "defined \u001b[32mfunction\u001b[39m \u001b[36mcomparePair\u001b[39m\n",
       "defined \u001b[32mfunction\u001b[39m \u001b[36msimilarity\u001b[39m\n",
       "defined \u001b[32mfunction\u001b[39m \u001b[36msimilarityLinear\u001b[39m\n",
       "defined \u001b[32mfunction\u001b[39m \u001b[36mcompareTwoTables\u001b[39m\n",
       "defined \u001b[32mfunction\u001b[39m \u001b[36mcompareTwoWorks\u001b[39m"
      ]
     },
     "execution_count": 15,
     "metadata": {},
     "output_type": "execute_result"
    }
   ],
   "source": [
    "import scala.math._\n",
    "\n",
    "\n",
    "  def getFileLocation(dissRef: DissRef): String = {\n",
    "    val fileName = all_back(dissRef.id)\n",
    "    val dir = loc(fileName)\n",
    "    s\"data1/$dir/${fileName}\"\n",
    "  }\n",
    "\n",
    "  def splitPair(value: String): (String, String) = {\n",
    "    val split = value.split(\"/\")\n",
    "    split.head -> split.last\n",
    "  }\n",
    "\n",
    "\n",
    "  def comparePair(fst: String, snd: String): Boolean = {\n",
    "    val (fa, fb) = splitPair(fst)\n",
    "    val (sa, sb) = splitPair(snd)\n",
    "\n",
    "\n",
    "    val lev1 = editDist(fa, sa)\n",
    "    val lev2 = editDist(fb, sb)\n",
    "\n",
    "//     val ff1 = scala.util.Try{s\"${fa.take(1)}.${fa.drop(1)}\".toDouble}.getOrElse(0.1)\n",
    "//     val ss1 = scala.util.Try{s\"${sa.take(1)}.${sa.drop(1)}\".toDouble}.getOrElse(0.1)\n",
    "\n",
    "\n",
    "    (fst, snd, lev1, lev2) match {\n",
    "      case (f, s, l1, l2) if l1 + l2 <= 1 && fst.length == snd.length => true\n",
    "        \n",
    "//       case (f, s, l1, l2) if l1 + l2 <= 1 && fst.length != snd.length => true\n",
    "//       case (f, s, l1, l2) if l1 <= 1 && l2 <= 1 => true        \n",
    "//       case (f, s, l1, l2) if scala.math.abs(ff1 - ss1) / ss1 <= 0.2 && l2 <= 1 => true\n",
    "//      case (f, s, mi, ma, diff, l) if min >= 5 && l <= 2 => true\n",
    "//      case (f, s, mi, ma, diff, l) if min == 2 && max == 2 && (f.startsWith(\"0\") || f.startsWith(\"1\")) && (s.startsWith(\"0\") || s.startsWith(\"1\")) => true\n",
    "//      case (f, s, mi, ma, diff, l) if (!f.startsWith(\"0\") && !s.startsWith(\"0\")) && scala.math.abs(f.toDouble - s.toDouble) / f.toDouble < 0.2 => true\n",
    "      case _ => false\n",
    "    }\n",
    "  }\n",
    "\n",
    "//   def compareNgram(fst: List[String], snd: List[String]): Boolean = {\n",
    "//     (fst zip snd).forall(x => comparePair(x._1, x._2))\n",
    "//   }\n",
    "\n",
    "\n",
    "//   def nonTrivialVector(value: List[String]): Boolean = {\n",
    "//     value.distinct.size == value.size && value(0) >= value(1) && value.forall(_.length >= 2) && value.exists(_.length >= 3)\n",
    "//   }\n",
    "\n",
    "  def similarity(list: List[(Int, Int)]): Double = {\n",
    "    val s = list.sortBy(_._1).toVector\n",
    "    var res = 0\n",
    "    for { i <- s.indices\n",
    "      j <- i + 1 until s.size\n",
    "      if s(i)._2 > s(j)._2\n",
    "    } {\n",
    "      res = res + 1\n",
    "    }\n",
    "\n",
    "    1 - (res.toDouble / (s.size * s.size))\n",
    "  }\n",
    "\n",
    "  def similarityLinear(list: List[(Int, Int)]): Double = {\n",
    "    val s = list.sortBy(_._1).toVector\n",
    "    var res = 0\n",
    "    for { i <- 0 until s.size - 2\n",
    "      if s(i)._2 > s(i + 1)._2\n",
    "    } {\n",
    "      res = res + 1\n",
    "    }\n",
    "\n",
    "    1 - (res.toDouble / (s.size - 1))\n",
    "  }\n",
    "\n",
    "\n",
    "  def compareTwoTables(fst: List[String], snd: List[String]): (Int, Int, Int, Int, Double, Double, Int, Int, Int, Int) = {\n",
    "    val fstU = fst.zipWithIndex\n",
    "    val sndSet = snd.toSet\n",
    "    val sndZip = snd.zipWithIndex\n",
    "\n",
    "    val fuzzy: List[(Int, Int)] = fstU.filter(x => !sndSet.contains(x._1)).flatMap {\n",
    "      f => sndZip.find(s => comparePair(f._1, s._1)).map(s => (f._2, s._2))\n",
    "    }\n",
    "\n",
    "    val eq: List[(Int, Int)] = fstU.filter { case (f, idx) =>\n",
    "      sndSet.contains(f)\n",
    "    }.flatMap(f => sndZip.find(x => f._1 == x._1).map(x => (f._2, x._2)))\n",
    "\n",
    "    val tuples: List[(Int, Int)] = fuzzy ++ eq\n",
    "\n",
    "    val f1 = tuples.map(p => fst(p._1)).distinct.size\n",
    "    val s1 = tuples.map(p => snd(p._2)).distinct.size\n",
    "\n",
    "    (fuzzy.size, eq.size, fst.size, snd.size, similarity(tuples), similarityLinear(tuples), fst.distinct.size, snd.distinct.size, f1, s1)\n",
    "  }\n",
    "\n",
    "  // (page, page)\n",
    "  def compareTwoWorks(fst: List[(List[String], Int)], snd: List[(List[String], Int)]): List[(Res, Res, Res, Res, Res, Int, Double, Double, Int, Int, Int, Int)] = {\n",
    "    for {\n",
    "      fstPage <- fst\n",
    "      sndPage <- snd\n",
    "      s2 = compareTwoTables(fstPage._1, sndPage._1)\n",
    "      if s2._1 + s2._2 >= 15 && (s2._1 + s2._2 + 0.1) / s2._3 >= 0.5 && s2._5 >= 0.95 // && s2._2 > 5 && s2._2 >= s2._1 / 2\n",
    "    } yield (fstPage._2, sndPage._2, s2._1, s2._2, s2._3, s2._4, s2._5, s2._6, s2._7, s2._8, s2._9, s2._10)\n",
    "  }\n"
   ]
  },
  {
   "cell_type": "code",
   "execution_count": 16,
   "metadata": {},
   "outputs": [
    {
     "data": {
      "text/plain": [
       "\u001b[36mexistPdf\u001b[39m: \u001b[32mSet\u001b[39m[\u001b[32mString\u001b[39m] = \u001b[32m[lazy]\u001b[39m\n",
       "defined \u001b[32mfunction\u001b[39m \u001b[36mexistPdfStr\u001b[39m"
      ]
     },
     "execution_count": 16,
     "metadata": {},
     "output_type": "execute_result"
    }
   ],
   "source": [
    "  lazy val existPdf: Set[String] = scala.io.Source.fromFile(\"pdf.ex\").getLines().toSet\n",
    "\n",
    "  def existPdfStr(id: String): String = {\n",
    "    if (existPdf.contains(id)) {\n",
    "      \" [existPdf]\"\n",
    "    } else {\n",
    "      \"\"\n",
    "    }\n",
    "  }\n"
   ]
  },
  {
   "cell_type": "code",
   "execution_count": null,
   "metadata": {},
   "outputs": [],
   "source": [
    "  val sciArea: Set[String] = Set(\n",
    "//       \"экономических\",\n",
    "//       \"педагогических\",\n",
    "//        \"биологических\",\n",
    "//       \"сельскохозяйственных\",\n",
    "//     \"медицинских\",\n",
    "    //    \"фармацевтических\"\n",
    "//       \"ветеринарных\",\n",
    "//       \"ветеринарних\",  \n",
    "      \"географических\",\n",
    "\"геолого-минералогических\"\n",
    "      \n",
    "  )\n",
    "lazy val y = 2012\n",
    "//   lazy val metaSort = meta2.toVector.filter { case (_, m) => sciArea.contains(m.sciArea) }.sortBy(_._2.y).filter(_._2.y == y)\n",
    "  lazy val metaSort = meta2.toVector.filter(_._2.y == y)\n",
    "  \n"
   ]
  },
  {
   "cell_type": "code",
   "execution_count": null,
   "metadata": {},
   "outputs": [],
   "source": [
    "  def traverseAllYear(year: Int) = {\n",
    "    val sciArea: Set[String] = Set(\n",
    "//         \"технических\",\n",
    "//         \"физико-математических\",\n",
    "//         \"химических\",\n",
    "//             \"экономических\",\n",
    "//             \"педагогических\",\n",
    "//       \"биологических\",\n",
    "//       \"сельскохозяйственных\",\n",
    "//       \"медицинских\",\n",
    "//          \"фармацевтических\",\n",
    "//       \"ветеринарных\",\n",
    "//       \"ветеринарних\"\n",
    "      \"географических\",\n",
    "\"геолого-минералогических\"\n",
    "    )\n",
    "\n",
    "    val metaSort = meta2.toVector.filter { case (_, m) => sciArea.contains(m.sciArea) }.filter(_._2.y == year)\n",
    "    metaSort.par.flatMap { case (_, m) =>\n",
    "      scala.util.Try {\n",
    "        val dissId = all(s\"${m.id}.txt\")\n",
    "        val mainDiss = DissRef(dissId)\n",
    "        val mainMeta = getDissMeta(mainDiss.id)\n",
    "\n",
    "        val bads: Vector[DissRef] = ngGrouped(mainDiss).collect {\n",
    "          case x@DissRef(_) if (mainMeta.y > getDissMeta(x.id).y) || (mainMeta.y == getDissMeta(x.id).y && mainMeta.id < getDissMeta(x.id).id) => x\n",
    "        }\n",
    "\n",
    "        if (bads.nonEmpty) {\n",
    "          val mainTables = fileHandleToNum(getFileLocation(mainDiss))\n",
    "          bads.par.flatMap { otherDissRef: DissRef =>\n",
    "            val otherTables = fileHandleToNum(getFileLocation(otherDissRef))\n",
    "            val otherMeta = getDissMeta(otherDissRef.id)\n",
    "            val header = List[String](mainMeta.id + existPdfStr(mainMeta.id), mainMeta.y.toString, mainMeta.toString, otherMeta.id + existPdfStr(otherMeta.id), otherMeta.y.toString, otherMeta.toString)\n",
    "\n",
    "            val tuples = compareTwoWorks(mainTables, otherTables)\n",
    "\n",
    "            if (tuples.nonEmpty) {\n",
    "              List(header.mkString(\"\\t\")) ++\n",
    "                tuples.map {\n",
    "                  case (page1, page2, f, eq, total1, total2, sim, simL, fstUniq, sndUniq, f1, s1) =>\n",
    "                    val list = List[String](\"\", \"\", \"\", \"\", \"\", \"\", (page1 + 1).toString, (page2 + 1).toString, f.toString, eq.toString, total1.toString, total2.toString, sim.toString, simL.toString, fstUniq.toString, sndUniq.toString, f1.toString, s1.toString)\n",
    "                    list.mkString(\"\\t\")\n",
    "                }\n",
    "            } else {\n",
    "              Nil\n",
    "            }\n",
    "          }.toVector.iterator\n",
    "        } else {\n",
    "          Iterator.empty\n",
    "        }\n",
    "      }.getOrElse {\n",
    "        println(m.id)\n",
    "        Iterator.empty\n",
    "      }\n",
    "    }.iterator\n",
    "  }\n"
   ]
  },
  {
   "cell_type": "code",
   "execution_count": null,
   "metadata": {},
   "outputs": [],
   "source": [
    "  for {i <- 2000 to 2020} {\n",
    "    FileUtils.write(s\"fuzzyTableGeo${i}Replace1V4.csv\", traverseAllYear(i))\n",
    "  }\n"
   ]
  },
  {
   "cell_type": "code",
   "execution_count": null,
   "metadata": {},
   "outputs": [],
   "source": [
    "  def dirTraverse(id: Int) = {\n",
    "    println(id)\n",
    "    val dir = \"data1\"\n",
    "    val outputDir = \"tablePm\"\n",
    "\n",
    "    FileUtils.filesInDir(s\"$dir/$id\").foreach { f =>\n",
    "\n",
    "      val fileName = s\"$dir/$id/${f.name}\"\n",
    "      val outputFileName = s\"$outputDir/$id/${f.name}.tts\"\n",
    "      val tables: List[(List[String], Int)] = fileHandleToNum(fileName)\n",
    "      val iter = tables.map(x => s\"${x._2}\\t${x._1.mkString(\";\")}\").iterator\n",
    "      FileUtils.write(outputFileName, iter)\n",
    "    }\n",
    "  }\n"
   ]
  },
  {
   "cell_type": "code",
   "execution_count": null,
   "metadata": {},
   "outputs": [],
   "source": [
    "(0 to 999).toList.par.foreach(dirTraverse)"
   ]
  },
  {
   "cell_type": "code",
   "execution_count": null,
   "metadata": {},
   "outputs": [],
   "source": [
    "  def fileHandleToNumCy(fileName: String): List[(List[String], Int)] = {\n",
    "    import scala.util.Try\n",
    "    val numbers: List[(List[String], Int)] = Try {\n",
    "\n",
    "      val a: String = {\n",
    "        import java.io._\n",
    "        val br = new BufferedReader(new InputStreamReader(\n",
    "          new FileInputStream(fileName), \"UTF-8\"))\n",
    "        val res = br.lines().toArray.toList.map(_.toString).mkString(\" \")\n",
    "        br.close()\n",
    "        res\n",
    "      }\n",
    "\n",
    "      if (a.toUpperCase.contains(\"ТАБЛИЦ\")) {\n",
    "        val allnumbers = extractNumPm(a)\n",
    "        if (allnumbers.size >= 10) {\n",
    "          val slid = allnumbers.sliding(100, 50).toList\n",
    "          slid.zipWithIndex\n",
    "        } else {\n",
    "          Nil\n",
    "        }\n",
    "\n",
    "      } else {\n",
    "        Nil\n",
    "      }\n",
    "    }.getOrElse(List())\n",
    "\n",
    "    numbers\n",
    "  }\n",
    "\n",
    "  def dirTraveseCy(id: Int): Unit = {\n",
    "    println(id)\n",
    "    val dir = \"c\"\n",
    "    val outputDir = \"tablePmCy\"\n",
    "\n",
    "    FileUtils.filesInDir(s\"$dir/$id\").foreach { f =>\n",
    "\n",
    "      val fileName = s\"$dir/$id/${f.name}\"\n",
    "      val outputFileName = s\"$outputDir/$id/${f.name}.tts\"\n",
    "      val tables: List[(List[String], Int)] = fileHandleToNumCy(fileName)\n",
    "      val iter = tables.map(x => s\"${x._2}\\t${x._1.mkString(\";\")}\").iterator\n",
    "      FileUtils.write(outputFileName, iter)\n",
    "    }\n",
    "  }\n",
    "\n"
   ]
  },
  {
   "cell_type": "code",
   "execution_count": null,
   "metadata": {},
   "outputs": [],
   "source": [
    "dirTraveseCy(0)"
   ]
  },
  {
   "cell_type": "code",
   "execution_count": null,
   "metadata": {},
   "outputs": [],
   "source": [
    "(0 to 999).toList.par.foreach(dirTraveseCy)"
   ]
  },
  {
   "cell_type": "code",
   "execution_count": null,
   "metadata": {},
   "outputs": [],
   "source": [
    "  def readTable(fileName: String): List[(List[String], Int)] = {\n",
    "    read(fileName).split(\"\\n\").filter(_.nonEmpty).map { line =>\n",
    "      val split = line.split(\"\\t\")\n",
    "      split.last.split(\";\").toList -> split.head.toInt\n",
    "    }.toList\n",
    "  }\n"
   ]
  },
  {
   "cell_type": "code",
   "execution_count": null,
   "metadata": {},
   "outputs": [],
   "source": [
    "\n",
    "  def readTablePm(baseR: BaseR): List[(List[String], Int)] = {\n",
    "    baseR match {\n",
    "      case DissRef(id) =>\n",
    "        val fileName = all_back(id)\n",
    "        val dir = loc(fileName)\n",
    "        val fn = s\"tablePm/$dir/${fileName}.tts\"\n",
    "        readTable(fn)\n",
    "\n",
    "      case CyberRef(id) =>\n",
    "        val path = s\"tablePmCy/${cyberMetaPath(id)}/${cyberMetaRev(id)}.tts\"\n",
    "        readTable(path)\n",
    "    }\n",
    "  }"
   ]
  },
  {
   "cell_type": "code",
   "execution_count": null,
   "metadata": {},
   "outputs": [],
   "source": [
    "  def traverseAllYearCy(year: Int): Iterator[String] = {\n",
    "\n",
    "    cyberMeta2.filter(_._2._2 == year).par.flatMap { case (fileName, (auth, year)) =>\n",
    "      val cyberId = cyberMeta(fileName)\n",
    "      val ref = CyberRef(cyberId)\n",
    "      val lastNames = getLastNames(ref)\n",
    "//       val j = getCyberJournal(ref)\n",
    "\n",
    "\n",
    "      val bads: Vector[BaseR] = ngGrouped(ref).collect {\n",
    "        case x@DissRef(_) if year >= getDissMeta(x.id).y => x\n",
    "        case x@CyberRef(_) if (year > getCyberMeta(x.id)._2) || (year == getCyberMeta(x.id)._2 && cyberId > x.id) => x\n",
    "      }.filter(x => (getLastNames(x) intersect lastNames).isEmpty)\n",
    "\n",
    "      if (bads.nonEmpty) {\n",
    "        val mainTables = readTablePm(ref)\n",
    "        bads.flatMap { other: BaseR =>\n",
    "\n",
    "          val otherTables = readTablePm(other)\n",
    "\n",
    "          val tuples = compareTwoWorks(mainTables, otherTables)\n",
    "          if (tuples.nonEmpty) {\n",
    "            val header = List[String](cyberId.toString, year.toString, \"\", auth, RefInfo.getLongInfo(ref), RefInfo.getLongInfo(other), other.id.toString)\n",
    "//             val header = List[String](cyberId.toString, year.toString, getCyberLabel(ref), auth, RefInfo.getLongInfo(ref), RefInfo.getLongInfo(other))\n",
    "            List(header.mkString(\"\\t\")) ++\n",
    "              tuples.map {\n",
    "                case (page1, page2, f, eq, total1, total2, sim, simL, fstUniq, sndUniq, f1, s1) =>\n",
    "                  val list = List[String](\"\", \"\", \"\", \"\", \"\", \"\", (page1 + 1).toString, (page2 + 1).toString, f.toString, eq.toString, total1.toString, total2.toString, sim.toString, simL.toString, fstUniq.toString, sndUniq.toString, f1.toString, s1.toString)\n",
    "                  list.mkString(\"\\t\")\n",
    "              }\n",
    "          } else {\n",
    "            Nil\n",
    "          }\n",
    "        }\n",
    "      } else {\n",
    "        Nil\n",
    "      }\n",
    "    }\n",
    "  }.iterator\n"
   ]
  },
  {
   "cell_type": "code",
   "execution_count": null,
   "metadata": {},
   "outputs": [],
   "source": [
    "(2000 to  2020).foreach(x => FileUtils.write(s\"cyPm$x.csv\", traverseAllYearCy(x)))"
   ]
  },
  {
   "cell_type": "code",
   "execution_count": 5,
   "metadata": {},
   "outputs": [
    {
     "data": {
      "text/plain": [
       "defined \u001b[32mfunction\u001b[39m \u001b[36menhance\u001b[39m"
      ]
     },
     "execution_count": 5,
     "metadata": {},
     "output_type": "execute_result"
    }
   ],
   "source": [
    "  def enhance(input: String, output: String) = {\n",
    "    val list = scala.io.Source.fromFile(input, \"UTF-8\").getLines().toList.map { line =>\n",
    "      val split = line.split(\"\\t\")\n",
    "      if (split.head.nonEmpty) {\n",
    "        split(2) = getCyberLabel(CyberRef(split.head.toInt))\n",
    "        split.mkString(\"\\t\")\n",
    "      } else {\n",
    "        line\n",
    "      }\n",
    "    }\n",
    "\n",
    "    val idxToRemove = list.zipWithIndex.flatMap { case (line, idx) =>\n",
    "      val split = line.split(\"\\t\")\n",
    "      if (split.head.nonEmpty && !line.toUpperCase().contains(\"DISS(\")) {\n",
    "        val f1 = split.head.toInt\n",
    "        val s1 = split.last.toInt\n",
    "        val journ = getCyberJournal(CyberRef(f1))\n",
    "        val journ1 = getCyberJournal(CyberRef(s1))\n",
    "\n",
    "        if (getCyberMeta(f1)._2 == getCyberMeta(s1)._2 && journ == journ1) {\n",
    "          List(idx, idx+1)\n",
    "        } else {\n",
    "          Nil\n",
    "        }\n",
    "      } else {\n",
    "        Nil\n",
    "      }\n",
    "    }.toSet\n",
    "\n",
    "    val iter = list.zipWithIndex.filter(x => !idxToRemove.contains(x._2)).iterator.map(_._1)\n",
    "\n",
    "\n",
    "    \n",
    "    FileUtils.write(output, iter)\n",
    "  }\n"
   ]
  },
  {
   "cell_type": "code",
   "execution_count": 6,
   "metadata": {},
   "outputs": [],
   "source": [
    "(2000 to  2020).foreach(x => enhance(s\"cyPm$x.csv\", s\"CyPmFuzzy${x}EnhV1.csv\"))"
   ]
  },
  {
   "cell_type": "code",
   "execution_count": null,
   "metadata": {},
   "outputs": [],
   "source": []
  }
 ],
 "metadata": {
  "kernelspec": {
   "display_name": "Scala 2.12",
   "language": "scala",
   "name": "scala212"
  },
  "language_info": {
   "codemirror_mode": "text/x-scala",
   "file_extension": ".sc",
   "mimetype": "text/x-scala",
   "name": "scala",
   "nbconvert_exporter": "script",
   "version": "2.12.18"
  }
 },
 "nbformat": 4,
 "nbformat_minor": 4
}
