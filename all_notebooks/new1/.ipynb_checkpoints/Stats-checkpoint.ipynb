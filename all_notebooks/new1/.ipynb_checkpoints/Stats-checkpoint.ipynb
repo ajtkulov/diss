{
 "cells": [
  {
   "cell_type": "code",
   "execution_count": 3,
   "metadata": {},
   "outputs": [
    {
     "name": "stderr",
     "output_type": "stream",
     "text": [
      "Downloading https://repo1.maven.org/maven2/com/github/melrief/purecsv_2.12/0.1.1/purecsv_2.12-0.1.1.pom\n",
      "Downloaded https://repo1.maven.org/maven2/com/github/melrief/purecsv_2.12/0.1.1/purecsv_2.12-0.1.1.pom\n",
      "Downloading https://repo1.maven.org/maven2/net/sf/opencsv/opencsv/2.3/opencsv-2.3.pom\n",
      "Downloading https://repo1.maven.org/maven2/com/github/marklister/product-collections_2.12/1.4.5/product-collections_2.12-1.4.5.pom\n",
      "Downloading https://repo1.maven.org/maven2/com/chuusai/shapeless_2.12/2.3.2/shapeless_2.12-2.3.2.pom\n",
      "Downloaded https://repo1.maven.org/maven2/com/chuusai/shapeless_2.12/2.3.2/shapeless_2.12-2.3.2.pom\n",
      "Downloaded https://repo1.maven.org/maven2/net/sf/opencsv/opencsv/2.3/opencsv-2.3.pom\n",
      "Downloaded https://repo1.maven.org/maven2/com/github/marklister/product-collections_2.12/1.4.5/product-collections_2.12-1.4.5.pom\n",
      "Downloading https://repo1.maven.org/maven2/com/lihaoyi/utest_2.12/0.4.4/utest_2.12-0.4.4.pom\n",
      "Downloading https://repo1.maven.org/maven2/org/typelevel/macro-compat_2.12/1.1.1/macro-compat_2.12-1.1.1.pom\n",
      "Downloaded https://repo1.maven.org/maven2/com/lihaoyi/utest_2.12/0.4.4/utest_2.12-0.4.4.pom\n",
      "Downloaded https://repo1.maven.org/maven2/org/typelevel/macro-compat_2.12/1.1.1/macro-compat_2.12-1.1.1.pom\n",
      "Downloading https://repo1.maven.org/maven2/org/scala-sbt/test-interface/1.0/test-interface-1.0.pom\n",
      "Downloaded https://repo1.maven.org/maven2/org/scala-sbt/test-interface/1.0/test-interface-1.0.pom\n",
      "Downloading https://repo1.maven.org/maven2/net/sf/opencsv/opencsv/2.3/opencsv-2.3.jar\n",
      "Downloading https://repo1.maven.org/maven2/com/chuusai/shapeless_2.12/2.3.2/shapeless_2.12-2.3.2-sources.jar\n",
      "Downloading https://repo1.maven.org/maven2/com/github/marklister/product-collections_2.12/1.4.5/product-collections_2.12-1.4.5-sources.jar\n",
      "Downloading https://repo1.maven.org/maven2/com/lihaoyi/utest_2.12/0.4.4/utest_2.12-0.4.4.jar\n",
      "Downloading https://repo1.maven.org/maven2/net/sf/opencsv/opencsv/2.3/opencsv-2.3-sources.jar\n",
      "Downloading https://repo1.maven.org/maven2/com/github/marklister/product-collections_2.12/1.4.5/product-collections_2.12-1.4.5.jar\n",
      "Downloaded https://repo1.maven.org/maven2/net/sf/opencsv/opencsv/2.3/opencsv-2.3.jar\n",
      "Downloading https://repo1.maven.org/maven2/com/github/melrief/purecsv_2.12/0.1.1/purecsv_2.12-0.1.1-sources.jar\n",
      "Downloaded https://repo1.maven.org/maven2/com/github/marklister/product-collections_2.12/1.4.5/product-collections_2.12-1.4.5-sources.jar\n",
      "Downloaded https://repo1.maven.org/maven2/com/chuusai/shapeless_2.12/2.3.2/shapeless_2.12-2.3.2-sources.jar\n",
      "Downloading https://repo1.maven.org/maven2/com/lihaoyi/utest_2.12/0.4.4/utest_2.12-0.4.4-sources.jar\n",
      "Downloaded https://repo1.maven.org/maven2/net/sf/opencsv/opencsv/2.3/opencsv-2.3-sources.jar\n",
      "Downloading https://repo1.maven.org/maven2/org/typelevel/macro-compat_2.12/1.1.1/macro-compat_2.12-1.1.1-sources.jar\n",
      "Downloading https://repo1.maven.org/maven2/org/scala-sbt/test-interface/1.0/test-interface-1.0-sources.jar\n",
      "Downloaded https://repo1.maven.org/maven2/com/lihaoyi/utest_2.12/0.4.4/utest_2.12-0.4.4-sources.jar\n",
      "Downloading https://repo1.maven.org/maven2/com/github/melrief/purecsv_2.12/0.1.1/purecsv_2.12-0.1.1.jar\n",
      "Downloaded https://repo1.maven.org/maven2/com/github/melrief/purecsv_2.12/0.1.1/purecsv_2.12-0.1.1-sources.jar\n",
      "Downloaded https://repo1.maven.org/maven2/org/scala-sbt/test-interface/1.0/test-interface-1.0-sources.jar\n",
      "Downloading https://repo1.maven.org/maven2/com/chuusai/shapeless_2.12/2.3.2/shapeless_2.12-2.3.2.jar\n",
      "Downloaded https://repo1.maven.org/maven2/org/typelevel/macro-compat_2.12/1.1.1/macro-compat_2.12-1.1.1-sources.jar\n",
      "Downloaded https://repo1.maven.org/maven2/com/lihaoyi/utest_2.12/0.4.4/utest_2.12-0.4.4.jar\n",
      "Downloaded https://repo1.maven.org/maven2/com/github/melrief/purecsv_2.12/0.1.1/purecsv_2.12-0.1.1.jar\n",
      "Downloaded https://repo1.maven.org/maven2/com/github/marklister/product-collections_2.12/1.4.5/product-collections_2.12-1.4.5.jar\n",
      "Downloaded https://repo1.maven.org/maven2/com/chuusai/shapeless_2.12/2.3.2/shapeless_2.12-2.3.2.jar\n",
      "Downloading https://repo1.maven.org/maven2/org/jsoup/jsoup/1.13.1/jsoup-1.13.1.pom\n",
      "Downloaded https://repo1.maven.org/maven2/org/jsoup/jsoup/1.13.1/jsoup-1.13.1.pom\n",
      "Downloading https://repo1.maven.org/maven2/org/jsoup/jsoup/1.13.1/jsoup-1.13.1.jar\n",
      "Downloading https://repo1.maven.org/maven2/org/jsoup/jsoup/1.13.1/jsoup-1.13.1-sources.jar\n",
      "Downloaded https://repo1.maven.org/maven2/org/jsoup/jsoup/1.13.1/jsoup-1.13.1-sources.jar\n",
      "Downloaded https://repo1.maven.org/maven2/org/jsoup/jsoup/1.13.1/jsoup-1.13.1.jar\n",
      "Downloading https://repo1.maven.org/maven2/io/circe/circe-core_2.12/0.12.3/circe-core_2.12-0.12.3.pom\n",
      "Downloaded https://repo1.maven.org/maven2/io/circe/circe-core_2.12/0.12.3/circe-core_2.12-0.12.3.pom\n",
      "Downloading https://repo1.maven.org/maven2/org/typelevel/cats-core_2.12/2.0.0/cats-core_2.12-2.0.0.pom\n",
      "Downloading https://repo1.maven.org/maven2/io/circe/circe-numbers_2.12/0.12.3/circe-numbers_2.12-0.12.3.pom\n",
      "Downloaded https://repo1.maven.org/maven2/org/typelevel/cats-core_2.12/2.0.0/cats-core_2.12-2.0.0.pom\n",
      "Downloaded https://repo1.maven.org/maven2/io/circe/circe-numbers_2.12/0.12.3/circe-numbers_2.12-0.12.3.pom\n",
      "Downloading https://repo1.maven.org/maven2/org/typelevel/cats-kernel_2.12/2.0.0/cats-kernel_2.12-2.0.0.pom\n",
      "Downloading https://repo1.maven.org/maven2/org/typelevel/cats-macros_2.12/2.0.0/cats-macros_2.12-2.0.0.pom\n",
      "Downloaded https://repo1.maven.org/maven2/org/typelevel/cats-kernel_2.12/2.0.0/cats-kernel_2.12-2.0.0.pom\n",
      "Downloaded https://repo1.maven.org/maven2/org/typelevel/cats-macros_2.12/2.0.0/cats-macros_2.12-2.0.0.pom\n",
      "Downloading https://repo1.maven.org/maven2/org/typelevel/cats-core_2.12/2.0.0/cats-core_2.12-2.0.0-sources.jar\n",
      "Downloading https://repo1.maven.org/maven2/org/typelevel/cats-core_2.12/2.0.0/cats-core_2.12-2.0.0.jar\n",
      "Downloading https://repo1.maven.org/maven2/org/typelevel/cats-macros_2.12/2.0.0/cats-macros_2.12-2.0.0.jar\n",
      "Downloading https://repo1.maven.org/maven2/io/circe/circe-core_2.12/0.12.3/circe-core_2.12-0.12.3.jar\n",
      "Downloading https://repo1.maven.org/maven2/io/circe/circe-core_2.12/0.12.3/circe-core_2.12-0.12.3-sources.jar\n",
      "Downloading https://repo1.maven.org/maven2/org/typelevel/cats-kernel_2.12/2.0.0/cats-kernel_2.12-2.0.0.jar\n",
      "Downloaded https://repo1.maven.org/maven2/org/typelevel/cats-macros_2.12/2.0.0/cats-macros_2.12-2.0.0.jar\n",
      "Downloading https://repo1.maven.org/maven2/io/circe/circe-numbers_2.12/0.12.3/circe-numbers_2.12-0.12.3.jar\n",
      "Downloaded https://repo1.maven.org/maven2/org/typelevel/cats-core_2.12/2.0.0/cats-core_2.12-2.0.0-sources.jar\n",
      "Downloading https://repo1.maven.org/maven2/org/typelevel/cats-kernel_2.12/2.0.0/cats-kernel_2.12-2.0.0-sources.jar\n",
      "Downloaded https://repo1.maven.org/maven2/io/circe/circe-core_2.12/0.12.3/circe-core_2.12-0.12.3-sources.jar\n",
      "Downloading https://repo1.maven.org/maven2/org/typelevel/cats-macros_2.12/2.0.0/cats-macros_2.12-2.0.0-sources.jar\n",
      "Downloaded https://repo1.maven.org/maven2/io/circe/circe-numbers_2.12/0.12.3/circe-numbers_2.12-0.12.3.jar\n",
      "Downloaded https://repo1.maven.org/maven2/org/typelevel/cats-macros_2.12/2.0.0/cats-macros_2.12-2.0.0-sources.jar\n",
      "Downloading https://repo1.maven.org/maven2/io/circe/circe-numbers_2.12/0.12.3/circe-numbers_2.12-0.12.3-sources.jar\n",
      "Downloaded https://repo1.maven.org/maven2/org/typelevel/cats-kernel_2.12/2.0.0/cats-kernel_2.12-2.0.0-sources.jar\n",
      "Downloaded https://repo1.maven.org/maven2/io/circe/circe-numbers_2.12/0.12.3/circe-numbers_2.12-0.12.3-sources.jar\n",
      "Downloaded https://repo1.maven.org/maven2/io/circe/circe-core_2.12/0.12.3/circe-core_2.12-0.12.3.jar\n",
      "Downloaded https://repo1.maven.org/maven2/org/typelevel/cats-kernel_2.12/2.0.0/cats-kernel_2.12-2.0.0.jar\n",
      "Downloaded https://repo1.maven.org/maven2/org/typelevel/cats-core_2.12/2.0.0/cats-core_2.12-2.0.0.jar\n",
      "Downloading https://repo1.maven.org/maven2/io/circe/circe-generic_2.12/0.12.3/circe-generic_2.12-0.12.3.pom\n",
      "Downloaded https://repo1.maven.org/maven2/io/circe/circe-generic_2.12/0.12.3/circe-generic_2.12-0.12.3.pom\n",
      "Downloading https://repo1.maven.org/maven2/com/chuusai/shapeless_2.12/2.3.3/shapeless_2.12-2.3.3.pom\n",
      "Downloaded https://repo1.maven.org/maven2/com/chuusai/shapeless_2.12/2.3.3/shapeless_2.12-2.3.3.pom\n",
      "Downloading https://repo1.maven.org/maven2/io/circe/circe-generic_2.12/0.12.3/circe-generic_2.12-0.12.3-sources.jar\n",
      "Downloading https://repo1.maven.org/maven2/com/chuusai/shapeless_2.12/2.3.3/shapeless_2.12-2.3.3-sources.jar\n",
      "Downloading https://repo1.maven.org/maven2/io/circe/circe-generic_2.12/0.12.3/circe-generic_2.12-0.12.3.jar\n",
      "Downloaded https://repo1.maven.org/maven2/io/circe/circe-generic_2.12/0.12.3/circe-generic_2.12-0.12.3.jar\n",
      "Downloaded https://repo1.maven.org/maven2/io/circe/circe-generic_2.12/0.12.3/circe-generic_2.12-0.12.3-sources.jar\n",
      "Downloaded https://repo1.maven.org/maven2/com/chuusai/shapeless_2.12/2.3.3/shapeless_2.12-2.3.3-sources.jar\n",
      "Downloading https://repo1.maven.org/maven2/io/circe/circe-parser_2.12/0.12.3/circe-parser_2.12-0.12.3.pom\n",
      "Downloaded https://repo1.maven.org/maven2/io/circe/circe-parser_2.12/0.12.3/circe-parser_2.12-0.12.3.pom\n",
      "Downloading https://repo1.maven.org/maven2/io/circe/circe-jawn_2.12/0.12.3/circe-jawn_2.12-0.12.3.pom\n",
      "Downloaded https://repo1.maven.org/maven2/io/circe/circe-jawn_2.12/0.12.3/circe-jawn_2.12-0.12.3.pom\n",
      "Downloading https://repo1.maven.org/maven2/org/typelevel/jawn-parser_2.12/0.14.2/jawn-parser_2.12-0.14.2.pom\n",
      "Downloaded https://repo1.maven.org/maven2/org/typelevel/jawn-parser_2.12/0.14.2/jawn-parser_2.12-0.14.2.pom\n",
      "Downloading https://repo1.maven.org/maven2/io/circe/circe-jawn_2.12/0.12.3/circe-jawn_2.12-0.12.3-sources.jar\n",
      "Downloading https://repo1.maven.org/maven2/io/circe/circe-parser_2.12/0.12.3/circe-parser_2.12-0.12.3-sources.jar\n",
      "Downloading https://repo1.maven.org/maven2/org/typelevel/jawn-parser_2.12/0.14.2/jawn-parser_2.12-0.14.2.jar\n",
      "Downloading https://repo1.maven.org/maven2/org/typelevel/jawn-parser_2.12/0.14.2/jawn-parser_2.12-0.14.2-sources.jar\n",
      "Downloading https://repo1.maven.org/maven2/io/circe/circe-jawn_2.12/0.12.3/circe-jawn_2.12-0.12.3.jar\n",
      "Downloading https://repo1.maven.org/maven2/io/circe/circe-parser_2.12/0.12.3/circe-parser_2.12-0.12.3.jar\n",
      "Downloaded https://repo1.maven.org/maven2/io/circe/circe-jawn_2.12/0.12.3/circe-jawn_2.12-0.12.3-sources.jar\n",
      "Downloaded https://repo1.maven.org/maven2/io/circe/circe-jawn_2.12/0.12.3/circe-jawn_2.12-0.12.3.jar\n",
      "Downloaded https://repo1.maven.org/maven2/org/typelevel/jawn-parser_2.12/0.14.2/jawn-parser_2.12-0.14.2.jar\n",
      "Downloaded https://repo1.maven.org/maven2/io/circe/circe-parser_2.12/0.12.3/circe-parser_2.12-0.12.3-sources.jar\n",
      "Downloaded https://repo1.maven.org/maven2/io/circe/circe-parser_2.12/0.12.3/circe-parser_2.12-0.12.3.jar\n",
      "Downloaded https://repo1.maven.org/maven2/org/typelevel/jawn-parser_2.12/0.14.2/jawn-parser_2.12-0.14.2-sources.jar\n",
      "Downloading https://repo1.maven.org/maven2/com/lihaoyi/ujson_2.12/0.7.1/ujson_2.12-0.7.1.pom\n",
      "Downloaded https://repo1.maven.org/maven2/com/lihaoyi/ujson_2.12/0.7.1/ujson_2.12-0.7.1.pom\n",
      "Downloading https://repo1.maven.org/maven2/com/lihaoyi/upickle-core_2.12/0.7.1/upickle-core_2.12-0.7.1.pom\n",
      "Downloaded https://repo1.maven.org/maven2/com/lihaoyi/upickle-core_2.12/0.7.1/upickle-core_2.12-0.7.1.pom\n",
      "Downloading https://repo1.maven.org/maven2/com/lihaoyi/ujson_2.12/0.7.1/ujson_2.12-0.7.1-sources.jar\n",
      "Downloading https://repo1.maven.org/maven2/com/lihaoyi/upickle-core_2.12/0.7.1/upickle-core_2.12-0.7.1.jar\n",
      "Downloading https://repo1.maven.org/maven2/com/lihaoyi/upickle-core_2.12/0.7.1/upickle-core_2.12-0.7.1-sources.jar\n",
      "Downloading https://repo1.maven.org/maven2/com/lihaoyi/ujson_2.12/0.7.1/ujson_2.12-0.7.1.jar\n",
      "Downloaded https://repo1.maven.org/maven2/com/lihaoyi/ujson_2.12/0.7.1/ujson_2.12-0.7.1-sources.jar\n",
      "Downloaded https://repo1.maven.org/maven2/com/lihaoyi/upickle-core_2.12/0.7.1/upickle-core_2.12-0.7.1.jar\n",
      "Downloaded https://repo1.maven.org/maven2/com/lihaoyi/upickle-core_2.12/0.7.1/upickle-core_2.12-0.7.1-sources.jar\n",
      "Downloaded https://repo1.maven.org/maven2/com/lihaoyi/ujson_2.12/0.7.1/ujson_2.12-0.7.1.jar\n",
      "Downloading https://repo1.maven.org/maven2/com/clearspring/analytics/stream/2.9.8/stream-2.9.8.pom\n",
      "Downloaded https://repo1.maven.org/maven2/com/clearspring/analytics/stream/2.9.8/stream-2.9.8.pom\n",
      "Downloading https://repo1.maven.org/maven2/com/addthis/common/build/maven/pom/jar-pom/3.8.0/jar-pom-3.8.0.pom\n",
      "Downloaded https://repo1.maven.org/maven2/com/addthis/common/build/maven/pom/jar-pom/3.8.0/jar-pom-3.8.0.pom\n",
      "Downloading https://repo1.maven.org/maven2/com/addthis/common/build/maven/pom/papa-pom/2.2.0/papa-pom-2.2.0.pom\n",
      "Downloaded https://repo1.maven.org/maven2/com/addthis/common/build/maven/pom/papa-pom/2.2.0/papa-pom-2.2.0.pom\n",
      "Downloading https://repo1.maven.org/maven2/it/unimi/dsi/fastutil/8.1.1/fastutil-8.1.1.pom\n",
      "Downloading https://repo1.maven.org/maven2/org/slf4j/slf4j-api/1.7.10/slf4j-api-1.7.10.pom\n",
      "Downloaded https://repo1.maven.org/maven2/it/unimi/dsi/fastutil/8.1.1/fastutil-8.1.1.pom\n",
      "Downloaded https://repo1.maven.org/maven2/org/slf4j/slf4j-api/1.7.10/slf4j-api-1.7.10.pom\n",
      "Downloading https://repo1.maven.org/maven2/org/slf4j/slf4j-parent/1.7.10/slf4j-parent-1.7.10.pom\n",
      "Downloaded https://repo1.maven.org/maven2/org/slf4j/slf4j-parent/1.7.10/slf4j-parent-1.7.10.pom\n",
      "Downloading https://repo1.maven.org/maven2/it/unimi/dsi/fastutil/8.1.1/fastutil-8.1.1-sources.jar\n",
      "Downloading https://repo1.maven.org/maven2/org/slf4j/slf4j-api/1.7.10/slf4j-api-1.7.10-sources.jar\n",
      "Downloading https://repo1.maven.org/maven2/it/unimi/dsi/fastutil/8.1.1/fastutil-8.1.1.jar\n",
      "Downloading https://repo1.maven.org/maven2/org/slf4j/slf4j-api/1.7.10/slf4j-api-1.7.10.jar\n",
      "Downloading https://repo1.maven.org/maven2/com/clearspring/analytics/stream/2.9.8/stream-2.9.8.jar\n",
      "Downloading https://repo1.maven.org/maven2/com/clearspring/analytics/stream/2.9.8/stream-2.9.8-sources.jar\n",
      "Downloaded https://repo1.maven.org/maven2/org/slf4j/slf4j-api/1.7.10/slf4j-api-1.7.10-sources.jar\n",
      "Downloaded https://repo1.maven.org/maven2/org/slf4j/slf4j-api/1.7.10/slf4j-api-1.7.10.jar\n",
      "Downloaded https://repo1.maven.org/maven2/com/clearspring/analytics/stream/2.9.8/stream-2.9.8.jar\n",
      "Downloaded https://repo1.maven.org/maven2/com/clearspring/analytics/stream/2.9.8/stream-2.9.8-sources.jar\n",
      "Downloaded https://repo1.maven.org/maven2/it/unimi/dsi/fastutil/8.1.1/fastutil-8.1.1-sources.jar\n",
      "Downloaded https://repo1.maven.org/maven2/it/unimi/dsi/fastutil/8.1.1/fastutil-8.1.1.jar\n",
      "Downloading https://repo1.maven.org/maven2/com/typesafe/play/play-json_2.12/2.8.0/play-json_2.12-2.8.0.pom\n",
      "Downloaded https://repo1.maven.org/maven2/com/typesafe/play/play-json_2.12/2.8.0/play-json_2.12-2.8.0.pom\n",
      "Downloading https://repo1.maven.org/maven2/com/fasterxml/jackson/core/jackson-databind/2.10.1/jackson-databind-2.10.1.pom\n",
      "Downloading https://repo1.maven.org/maven2/joda-time/joda-time/2.10.5/joda-time-2.10.5.pom\n",
      "Downloading https://repo1.maven.org/maven2/com/fasterxml/jackson/datatype/jackson-datatype-jdk8/2.10.1/jackson-datatype-jdk8-2.10.1.pom\n",
      "Downloading https://repo1.maven.org/maven2/com/fasterxml/jackson/core/jackson-annotations/2.10.1/jackson-annotations-2.10.1.pom\n",
      "Downloading https://repo1.maven.org/maven2/com/fasterxml/jackson/datatype/jackson-datatype-jsr310/2.10.1/jackson-datatype-jsr310-2.10.1.pom\n",
      "Downloading https://repo1.maven.org/maven2/com/fasterxml/jackson/core/jackson-core/2.10.1/jackson-core-2.10.1.pom\n",
      "Downloaded https://repo1.maven.org/maven2/com/fasterxml/jackson/core/jackson-databind/2.10.1/jackson-databind-2.10.1.pom\n",
      "Downloaded https://repo1.maven.org/maven2/joda-time/joda-time/2.10.5/joda-time-2.10.5.pom\n",
      "Downloaded https://repo1.maven.org/maven2/com/fasterxml/jackson/datatype/jackson-datatype-jdk8/2.10.1/jackson-datatype-jdk8-2.10.1.pom\n",
      "Downloaded https://repo1.maven.org/maven2/com/fasterxml/jackson/datatype/jackson-datatype-jsr310/2.10.1/jackson-datatype-jsr310-2.10.1.pom\n",
      "Downloaded https://repo1.maven.org/maven2/com/fasterxml/jackson/core/jackson-annotations/2.10.1/jackson-annotations-2.10.1.pom\n",
      "Downloading https://repo1.maven.org/maven2/com/typesafe/play/play-functional_2.12/2.8.0/play-functional_2.12-2.8.0.pom\n",
      "Downloaded https://repo1.maven.org/maven2/com/typesafe/play/play-functional_2.12/2.8.0/play-functional_2.12-2.8.0.pom\n",
      "Downloaded https://repo1.maven.org/maven2/com/fasterxml/jackson/core/jackson-core/2.10.1/jackson-core-2.10.1.pom\n",
      "Downloading https://repo1.maven.org/maven2/com/fasterxml/jackson/jackson-parent/2.10/jackson-parent-2.10.pom\n",
      "Downloading https://repo1.maven.org/maven2/com/fasterxml/jackson/module/jackson-modules-java8/2.10.1/jackson-modules-java8-2.10.1.pom\n",
      "Downloading https://repo1.maven.org/maven2/com/fasterxml/jackson/jackson-base/2.10.1/jackson-base-2.10.1.pom\n",
      "Downloaded https://repo1.maven.org/maven2/com/fasterxml/jackson/jackson-base/2.10.1/jackson-base-2.10.1.pom\n",
      "Downloaded https://repo1.maven.org/maven2/com/fasterxml/jackson/module/jackson-modules-java8/2.10.1/jackson-modules-java8-2.10.1.pom\n",
      "Downloaded https://repo1.maven.org/maven2/com/fasterxml/jackson/jackson-parent/2.10/jackson-parent-2.10.pom\n",
      "Downloading https://repo1.maven.org/maven2/com/fasterxml/oss-parent/38/oss-parent-38.pom\n",
      "Downloading https://repo1.maven.org/maven2/com/fasterxml/jackson/jackson-bom/2.10.1/jackson-bom-2.10.1.pom\n",
      "Downloaded https://repo1.maven.org/maven2/com/fasterxml/jackson/jackson-bom/2.10.1/jackson-bom-2.10.1.pom\n",
      "Downloaded https://repo1.maven.org/maven2/com/fasterxml/oss-parent/38/oss-parent-38.pom\n",
      "Downloading https://repo1.maven.org/maven2/com/typesafe/play/play-functional_2.12/2.8.0/play-functional_2.12-2.8.0.jar\n",
      "Downloading https://repo1.maven.org/maven2/com/fasterxml/jackson/core/jackson-databind/2.10.1/jackson-databind-2.10.1.jar\n",
      "Downloading https://repo1.maven.org/maven2/com/fasterxml/jackson/datatype/jackson-datatype-jdk8/2.10.1/jackson-datatype-jdk8-2.10.1.jar\n",
      "Downloading https://repo1.maven.org/maven2/joda-time/joda-time/2.10.5/joda-time-2.10.5.jar\n",
      "Downloading https://repo1.maven.org/maven2/com/typesafe/play/play-json_2.12/2.8.0/play-json_2.12-2.8.0.jar\n",
      "Downloading https://repo1.maven.org/maven2/com/typesafe/play/play-functional_2.12/2.8.0/play-functional_2.12-2.8.0-sources.jar\n",
      "Downloaded https://repo1.maven.org/maven2/com/typesafe/play/play-functional_2.12/2.8.0/play-functional_2.12-2.8.0.jar\n",
      "Downloading https://repo1.maven.org/maven2/com/fasterxml/jackson/datatype/jackson-datatype-jsr310/2.10.1/jackson-datatype-jsr310-2.10.1.jar\n",
      "Downloaded https://repo1.maven.org/maven2/com/fasterxml/jackson/datatype/jackson-datatype-jdk8/2.10.1/jackson-datatype-jdk8-2.10.1.jar\n",
      "Downloading https://repo1.maven.org/maven2/com/typesafe/play/play-json_2.12/2.8.0/play-json_2.12-2.8.0-sources.jar\n",
      "Downloaded https://repo1.maven.org/maven2/com/typesafe/play/play-functional_2.12/2.8.0/play-functional_2.12-2.8.0-sources.jar\n",
      "Downloading https://repo1.maven.org/maven2/com/fasterxml/jackson/core/jackson-core/2.10.1/jackson-core-2.10.1.jar\n",
      "Downloaded https://repo1.maven.org/maven2/com/fasterxml/jackson/datatype/jackson-datatype-jsr310/2.10.1/jackson-datatype-jsr310-2.10.1.jar\n",
      "Downloaded https://repo1.maven.org/maven2/joda-time/joda-time/2.10.5/joda-time-2.10.5.jar\n",
      "Downloading https://repo1.maven.org/maven2/com/fasterxml/jackson/core/jackson-annotations/2.10.1/jackson-annotations-2.10.1-sources.jar\n",
      "Downloading https://repo1.maven.org/maven2/com/fasterxml/jackson/core/jackson-databind/2.10.1/jackson-databind-2.10.1-sources.jar\n",
      "Downloaded https://repo1.maven.org/maven2/com/fasterxml/jackson/core/jackson-core/2.10.1/jackson-core-2.10.1.jar\n",
      "Downloading https://repo1.maven.org/maven2/com/fasterxml/jackson/core/jackson-core/2.10.1/jackson-core-2.10.1-sources.jar\n",
      "Downloaded https://repo1.maven.org/maven2/com/fasterxml/jackson/core/jackson-annotations/2.10.1/jackson-annotations-2.10.1-sources.jar\n",
      "Downloading https://repo1.maven.org/maven2/joda-time/joda-time/2.10.5/joda-time-2.10.5-sources.jar\n",
      "Downloaded https://repo1.maven.org/maven2/com/fasterxml/jackson/core/jackson-databind/2.10.1/jackson-databind-2.10.1.jar\n",
      "Downloading https://repo1.maven.org/maven2/com/fasterxml/jackson/datatype/jackson-datatype-jdk8/2.10.1/jackson-datatype-jdk8-2.10.1-sources.jar\n",
      "Downloaded https://repo1.maven.org/maven2/com/fasterxml/jackson/core/jackson-core/2.10.1/jackson-core-2.10.1-sources.jar\n",
      "Downloading https://repo1.maven.org/maven2/com/fasterxml/jackson/core/jackson-annotations/2.10.1/jackson-annotations-2.10.1.jar\n",
      "Downloaded https://repo1.maven.org/maven2/com/fasterxml/jackson/core/jackson-databind/2.10.1/jackson-databind-2.10.1-sources.jar\n",
      "Downloading https://repo1.maven.org/maven2/com/fasterxml/jackson/datatype/jackson-datatype-jsr310/2.10.1/jackson-datatype-jsr310-2.10.1-sources.jar\n",
      "Downloaded https://repo1.maven.org/maven2/com/fasterxml/jackson/core/jackson-annotations/2.10.1/jackson-annotations-2.10.1.jar\n",
      "Downloaded https://repo1.maven.org/maven2/com/fasterxml/jackson/datatype/jackson-datatype-jdk8/2.10.1/jackson-datatype-jdk8-2.10.1-sources.jar\n",
      "Downloaded https://repo1.maven.org/maven2/com/fasterxml/jackson/datatype/jackson-datatype-jsr310/2.10.1/jackson-datatype-jsr310-2.10.1-sources.jar\n",
      "Downloaded https://repo1.maven.org/maven2/joda-time/joda-time/2.10.5/joda-time-2.10.5-sources.jar\n",
      "Downloaded https://repo1.maven.org/maven2/com/typesafe/play/play-json_2.12/2.8.0/play-json_2.12-2.8.0.jar\n",
      "Downloaded https://repo1.maven.org/maven2/com/typesafe/play/play-json_2.12/2.8.0/play-json_2.12-2.8.0-sources.jar\n",
      "Downloading https://repo1.maven.org/maven2/joda-time/joda-time/2.10.14/joda-time-2.10.14.pom\n",
      "Downloaded https://repo1.maven.org/maven2/joda-time/joda-time/2.10.14/joda-time-2.10.14.pom\n",
      "Downloading https://repo1.maven.org/maven2/joda-time/joda-time/2.10.14/joda-time-2.10.14.jar\n",
      "Downloading https://repo1.maven.org/maven2/joda-time/joda-time/2.10.14/joda-time-2.10.14-sources.jar\n",
      "Downloaded https://repo1.maven.org/maven2/joda-time/joda-time/2.10.14/joda-time-2.10.14.jar\n",
      "Downloaded https://repo1.maven.org/maven2/joda-time/joda-time/2.10.14/joda-time-2.10.14-sources.jar\n"
     ]
    },
    {
     "name": "stdout",
     "output_type": "stream",
     "text": [
      "Compiling /home/jovyan/data/(console)\n",
      "Compiling /home/jovyan/data/(console)\n"
     ]
    }
   ],
   "source": [
    "repl.load(os.read(os.pwd/'git/'src/'main/'scala/\"import.sc\"))\n",
    "// repl.load(os.read(os.pwd/\"a.sc\"))\n",
    "repl.load(os.read(os.pwd/'git/'src/'main/'scala/\"a.scala\"))\n",
    "// repl.load(os.read(os.pwd/'git/'diss/'src/'main/'scala/\"b.sc\"))\n"
   ]
  },
  {
   "cell_type": "code",
   "execution_count": 4,
   "metadata": {},
   "outputs": [
    {
     "data": {
      "text/plain": [
       "\u001b[32mimport \u001b[39m\u001b[36mDiss._\u001b[39m"
      ]
     },
     "execution_count": 4,
     "metadata": {},
     "output_type": "execute_result"
    }
   ],
   "source": [
    "import Diss._"
   ]
  },
  {
   "cell_type": "code",
   "execution_count": 5,
   "metadata": {},
   "outputs": [
    {
     "name": "stdout",
     "output_type": "stream",
     "text": [
      "(1995,16908)\n",
      "(1996,17838)\n",
      "(1997,18894)\n",
      "(1998,19506)\n",
      "(1999,20886)\n",
      "(2000,27326)\n",
      "(2001,18144)\n",
      "(2002,26079)\n",
      "(2003,26279)\n",
      "(2004,34417)\n",
      "(2005,32384)\n",
      "(2006,35069)\n",
      "(2007,30148)\n",
      "(2008,25869)\n",
      "(2009,32029)\n",
      "(2010,26062)\n",
      "(2011,28469)\n",
      "(2012,25330)\n",
      "(2013,23847)\n",
      "(2014,14887)\n",
      "(2015,16427)\n",
      "(2016,14146)\n",
      "(2017,12372)\n",
      "(2018,11849)\n",
      "(2019,10430)\n",
      "(2020,7600)\n"
     ]
    },
    {
     "data": {
      "text/plain": [
       "\u001b[36mperYearAuto\u001b[39m: \u001b[32mMap\u001b[39m[\u001b[32mInt\u001b[39m, \u001b[32mInt\u001b[39m] = \u001b[33mMap\u001b[39m(\n",
       "  \u001b[32m1995\u001b[39m -> \u001b[32m16908\u001b[39m,\n",
       "  \u001b[32m2014\u001b[39m -> \u001b[32m14887\u001b[39m,\n",
       "  \u001b[32m1999\u001b[39m -> \u001b[32m20886\u001b[39m,\n",
       "  \u001b[32m2020\u001b[39m -> \u001b[32m7600\u001b[39m,\n",
       "  \u001b[32m2010\u001b[39m -> \u001b[32m26062\u001b[39m,\n",
       "  \u001b[32m2007\u001b[39m -> \u001b[32m30148\u001b[39m,\n",
       "  \u001b[32m2017\u001b[39m -> \u001b[32m12372\u001b[39m,\n",
       "  \u001b[32m2002\u001b[39m -> \u001b[32m26079\u001b[39m,\n",
       "  \u001b[32m2011\u001b[39m -> \u001b[32m28469\u001b[39m,\n",
       "  \u001b[32m2000\u001b[39m -> \u001b[32m27326\u001b[39m,\n",
       "  \u001b[32m2015\u001b[39m -> \u001b[32m16427\u001b[39m,\n",
       "  \u001b[32m2006\u001b[39m -> \u001b[32m35069\u001b[39m,\n",
       "  \u001b[32m1996\u001b[39m -> \u001b[32m17838\u001b[39m,\n",
       "  \u001b[32m2001\u001b[39m -> \u001b[32m18144\u001b[39m,\n",
       "  \u001b[32m2016\u001b[39m -> \u001b[32m14146\u001b[39m,\n",
       "  \u001b[32m1997\u001b[39m -> \u001b[32m18894\u001b[39m,\n",
       "  \u001b[32m2005\u001b[39m -> \u001b[32m32384\u001b[39m,\n",
       "  \u001b[32m2012\u001b[39m -> \u001b[32m25330\u001b[39m,\n",
       "  \u001b[32m2013\u001b[39m -> \u001b[32m23847\u001b[39m,\n",
       "  \u001b[32m1998\u001b[39m -> \u001b[32m19506\u001b[39m,\n",
       "  \u001b[32m2004\u001b[39m -> \u001b[32m34417\u001b[39m,\n",
       "  \u001b[32m2009\u001b[39m -> \u001b[32m32029\u001b[39m,\n",
       "  \u001b[32m2019\u001b[39m -> \u001b[32m10430\u001b[39m,\n",
       "  \u001b[32m2003\u001b[39m -> \u001b[32m26279\u001b[39m,\n",
       "  \u001b[32m2008\u001b[39m -> \u001b[32m25869\u001b[39m,\n",
       "  \u001b[32m2018\u001b[39m -> \u001b[32m11849\u001b[39m\n",
       ")"
      ]
     },
     "execution_count": 5,
     "metadata": {},
     "output_type": "execute_result"
    }
   ],
   "source": [
    "val perYearAuto: Map[Int, Int] = meta2all.filter(_._type != \"disser\").filter(x => x.y >= 1995).groupBy(_.y).mapValues(_.size)\n",
    "perYearAuto.toList.sortBy(_._1).foreach(println)"
   ]
  },
  {
   "cell_type": "code",
   "execution_count": null,
   "metadata": {},
   "outputs": [],
   "source": [
    "val perYear: Map[Int, Int] = meta2all.filter(_._type == \"disser\").filter(x => x.y >= 1995).groupBy(_.y).mapValues(_.size)"
   ]
  },
  {
   "cell_type": "code",
   "execution_count": null,
   "metadata": {},
   "outputs": [],
   "source": [
    "perYear.toList.sortBy(_._1).foreach(println)"
   ]
  },
  {
   "cell_type": "code",
   "execution_count": null,
   "metadata": {},
   "outputs": [],
   "source": [
    "  val perYearExists: Map[Int, Int] = meta2all.filter(_._type == \"disser\").filter(x => x.y >= 1995).filter(x => allSet.contains(x.id)).groupBy(_.y).mapValues(_.size)\n",
    "  perYearExists.toList.sortBy(_._1).foreach(println)\n"
   ]
  },
  {
   "cell_type": "code",
   "execution_count": null,
   "metadata": {},
   "outputs": [],
   "source": [
    "  val perYearEconomy: Map[Int, Int] = meta2all.filter(_._type == \"disser\").filter(x => x.y >= 1995).filter(_.sciArea == \"экономических\").groupBy(_.y).mapValues(_.size)\n",
    "  perYearEconomy.toList.sortBy(_._1).foreach(println)\n"
   ]
  },
  {
   "cell_type": "code",
   "execution_count": null,
   "metadata": {},
   "outputs": [],
   "source": [
    "  val perYearTech: Map[Int, Int] = meta2all.filter(_._type == \"disser\").filter(x => x.y >= 1995).filter(_.sciArea == \"технических\").groupBy(_.y).mapValues(_.size)\n",
    "  perYearTech.toList.sortBy(_._1).foreach(println)\n"
   ]
  },
  {
   "cell_type": "code",
   "execution_count": null,
   "metadata": {},
   "outputs": [],
   "source": [
    "  val perYearMath: Map[Int, Int] = meta2all.filter(_._type == \"disser\").filter(x => x.y >= 1995).filter(_.sciArea == \"физико-математических\").groupBy(_.y).mapValues(_.size)\n",
    "  perYearMath.toList.sortBy(_._1).foreach(println)\n"
   ]
  },
  {
   "cell_type": "code",
   "execution_count": null,
   "metadata": {},
   "outputs": [],
   "source": [
    "  val map: scala.collection.mutable.Map[(String, String), Int] = scala.collection.mutable.Map[(String, String), Int]().withDefaultValue(0)\n",
    "  meta2.values.foreach { m =>\n",
    "    val dissId = all(s\"${m.id}.txt\")\n",
    "    val d = ngGrouped(DissRef(dissId)).collect {\n",
    "      case xx@DissRef(x) => xx\n",
    "    }\n",
    "\n",
    "\n",
    "\n",
    "    scala.util.Try {\n",
    "      d.foreach { dd =>\n",
    "        val mm = getDissMeta(dd.id)\n",
    "        map((m.sciArea, mm.sciArea)) = map(m.sciArea -> mm.sciArea) + 1\n",
    "      }\n",
    "    }\n",
    "  }\n"
   ]
  },
  {
   "cell_type": "code",
   "execution_count": null,
   "metadata": {},
   "outputs": [],
   "source": [
    "val susp = meta2.filter(x => x._2.board == \"063.15.13\" && x._2.y >= 1995 && x._2.y <= 2005).toVector"
   ]
  },
  {
   "cell_type": "code",
   "execution_count": null,
   "metadata": {},
   "outputs": [],
   "source": [
    "susp.size"
   ]
  },
  {
   "cell_type": "code",
   "execution_count": null,
   "metadata": {},
   "outputs": [],
   "source": [
    "susp.foreach(println)"
   ]
  },
  {
   "cell_type": "code",
   "execution_count": 5,
   "metadata": {},
   "outputs": [
    {
     "name": "stdout",
     "output_type": "stream",
     "text": [
      "(1995,10234)\n",
      "(1996,10589)\n",
      "(1997,12269)\n",
      "(1998,14993)\n",
      "(1999,17503)\n",
      "(2000,21282)\n",
      "(2001,16986)\n",
      "(2002,23371)\n",
      "(2003,24454)\n",
      "(2004,33346)\n",
      "(2005,33131)\n",
      "(2006,35250)\n",
      "(2007,27581)\n",
      "(2008,23793)\n",
      "(2009,29845)\n",
      "(2010,24051)\n",
      "(2011,26124)\n",
      "(2012,21321)\n",
      "(2013,21712)\n",
      "(2014,13065)\n",
      "(2015,14843)\n",
      "(2016,11926)\n",
      "(2017,11056)\n",
      "(2018,10880)\n",
      "(2019,9599)\n",
      "(2020,7968)\n"
     ]
    },
    {
     "data": {
      "text/plain": [
       "\u001b[36mperYearDiss\u001b[39m: \u001b[32mMap\u001b[39m[\u001b[32mInt\u001b[39m, \u001b[32mInt\u001b[39m] = \u001b[33mMap\u001b[39m(\n",
       "  \u001b[32m1995\u001b[39m -> \u001b[32m10234\u001b[39m,\n",
       "  \u001b[32m2014\u001b[39m -> \u001b[32m13065\u001b[39m,\n",
       "  \u001b[32m1999\u001b[39m -> \u001b[32m17503\u001b[39m,\n",
       "  \u001b[32m2020\u001b[39m -> \u001b[32m7968\u001b[39m,\n",
       "  \u001b[32m2010\u001b[39m -> \u001b[32m24051\u001b[39m,\n",
       "  \u001b[32m2007\u001b[39m -> \u001b[32m27581\u001b[39m,\n",
       "  \u001b[32m2017\u001b[39m -> \u001b[32m11056\u001b[39m,\n",
       "  \u001b[32m2002\u001b[39m -> \u001b[32m23371\u001b[39m,\n",
       "  \u001b[32m2011\u001b[39m -> \u001b[32m26124\u001b[39m,\n",
       "  \u001b[32m2000\u001b[39m -> \u001b[32m21282\u001b[39m,\n",
       "  \u001b[32m2015\u001b[39m -> \u001b[32m14843\u001b[39m,\n",
       "  \u001b[32m2006\u001b[39m -> \u001b[32m35250\u001b[39m,\n",
       "  \u001b[32m1996\u001b[39m -> \u001b[32m10589\u001b[39m,\n",
       "  \u001b[32m2001\u001b[39m -> \u001b[32m16986\u001b[39m,\n",
       "  \u001b[32m2016\u001b[39m -> \u001b[32m11926\u001b[39m,\n",
       "  \u001b[32m1997\u001b[39m -> \u001b[32m12269\u001b[39m,\n",
       "  \u001b[32m2005\u001b[39m -> \u001b[32m33131\u001b[39m,\n",
       "  \u001b[32m2012\u001b[39m -> \u001b[32m21321\u001b[39m,\n",
       "  \u001b[32m2013\u001b[39m -> \u001b[32m21712\u001b[39m,\n",
       "  \u001b[32m1998\u001b[39m -> \u001b[32m14993\u001b[39m,\n",
       "  \u001b[32m2004\u001b[39m -> \u001b[32m33346\u001b[39m,\n",
       "  \u001b[32m2009\u001b[39m -> \u001b[32m29845\u001b[39m,\n",
       "  \u001b[32m2019\u001b[39m -> \u001b[32m9599\u001b[39m,\n",
       "  \u001b[32m2003\u001b[39m -> \u001b[32m24454\u001b[39m,\n",
       "  \u001b[32m2008\u001b[39m -> \u001b[32m23793\u001b[39m,\n",
       "  \u001b[32m2018\u001b[39m -> \u001b[32m10880\u001b[39m\n",
       ")"
      ]
     },
     "execution_count": 5,
     "metadata": {},
     "output_type": "execute_result"
    }
   ],
   "source": [
    "val perYearDiss: Map[Int, Int] = meta2all.filter(_._type == \"disser\").filter(x => x.y >= 1995).groupBy(_.y).mapValues(_.size)\n",
    "perYearDiss.toList.sortBy(_._1).foreach(println)"
   ]
  },
  {
   "cell_type": "code",
   "execution_count": 6,
   "metadata": {},
   "outputs": [
    {
     "data": {
      "text/plain": [
       "\u001b[36mres6\u001b[39m: \u001b[32mInt\u001b[39m = \u001b[32m507172\u001b[39m"
      ]
     },
     "execution_count": 6,
     "metadata": {},
     "output_type": "execute_result"
    }
   ],
   "source": [
    "perYearDiss.values.sum"
   ]
  },
  {
   "cell_type": "code",
   "execution_count": null,
   "metadata": {},
   "outputs": [],
   "source": []
  }
 ],
 "metadata": {
  "kernelspec": {
   "display_name": "Scala 2.12",
   "language": "scala",
   "name": "scala212"
  },
  "language_info": {
   "codemirror_mode": "text/x-scala",
   "file_extension": ".sc",
   "mimetype": "text/x-scala",
   "name": "scala",
   "nbconvert_exporter": "script",
   "version": "2.12.18"
  }
 },
 "nbformat": 4,
 "nbformat_minor": 4
}
