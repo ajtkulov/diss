{
 "cells": [
  {
   "cell_type": "code",
   "execution_count": 3,
   "metadata": {},
   "outputs": [
    {
     "name": "stdout",
     "output_type": "stream",
     "text": [
      "Compiling /home/jovyan/data/(console)\n",
      "Compiling /home/jovyan/data/(console)\n"
     ]
    }
   ],
   "source": [
    "repl.load(os.read(os.pwd/'git/'src/'main/'scala/\"import.sc\"))\n",
    "// repl.load(os.read(os.pwd/\"a.sc\"))\n",
    "repl.load(os.read(os.pwd/'git/'src/'main/'scala/\"a.scala\"))\n",
    "// repl.load(os.read(os.pwd/'git/'diss/'src/'main/'scala/\"b.sc\"))\n"
   ]
  },
  {
   "cell_type": "code",
   "execution_count": 5,
   "metadata": {},
   "outputs": [
    {
     "data": {
      "text/plain": [
       "\u001b[32mimport \u001b[39m\u001b[36mDiss._\u001b[39m\n",
       "\u001b[32mimport \u001b[39m\u001b[36mUaMeta._\u001b[39m"
      ]
     },
     "execution_count": 5,
     "metadata": {},
     "output_type": "execute_result"
    }
   ],
   "source": [
    "import Diss._\n",
    "import UaMeta._"
   ]
  },
  {
   "cell_type": "code",
   "execution_count": 6,
   "metadata": {},
   "outputs": [
    {
     "data": {
      "text/plain": [
       "\u001b[36mbadFiles\u001b[39m: \u001b[32mSet\u001b[39m[(\u001b[32mString\u001b[39m, \u001b[32mString\u001b[39m)] = \u001b[32m[lazy]\u001b[39m\n",
       "defined \u001b[32mfunction\u001b[39m \u001b[36mextractNumPm\u001b[39m\n",
       "defined \u001b[32mfunction\u001b[39m \u001b[36muaFileHandleToNum\u001b[39m\n",
       "defined \u001b[32mfunction\u001b[39m \u001b[36mgetDirPath\u001b[39m\n",
       "defined \u001b[32mfunction\u001b[39m \u001b[36mreadById\u001b[39m\n",
       "defined \u001b[32mfunction\u001b[39m \u001b[36muaReadBy1000\u001b[39m"
      ]
     },
     "execution_count": 6,
     "metadata": {},
     "output_type": "execute_result"
    }
   ],
   "source": [
    "  lazy val badFiles: Set[(String, String)] =\n",
    "    scala.io.Source.fromFile(\"all.ban\", \"UTF-8\").getLines.map { line =>\n",
    "      val split = line.split(\"\\t\")\n",
    "      split.head -> split(1)\n",
    "    }.toSet\n",
    "\n",
    "\n",
    "  def extractNumPm(str: String): List[String] = {\n",
    "    val main = str.replaceAll(\"[.,]\", \"\").map(c => if (c.isDigit || c == 177.toChar) c else ' ')\n",
    "    val split = main.split(177.toChar)\n",
    "    val list = split.map(x => x.split(\" \").filter(_.nonEmpty))\n",
    "    (for {i <- 1 to list.size - 1\n",
    "          if list(i - 1).size >= 2 && list(i).size >= 2 && list(i - 1).last.length > 1 && list(i).head.length > 1\n",
    "          } yield s\"${list(i - 1).last}/${list(i).head}\").toList\n",
    "  }\n",
    "\n",
    "  def uaFileHandleToNum(work: String): List[(List[String], Int)] = {\n",
    "    import scala.util.Try\n",
    "    val numbers: List[(List[String], Int)] = Try {\n",
    "\n",
    "      val a = work.split(12.toChar)\n",
    "\n",
    "      val zip: Array[(String, Int)] = a.zipWithIndex\n",
    "\n",
    "      val sub: List[(String, Int)] = zip.toList.sliding(3).toList.flatMap { array =>\n",
    "        if (array(1)._1.toUpperCase.contains(\"ТАБЛИЦ\")) {\n",
    "          array\n",
    "        } else {\n",
    "          List.empty\n",
    "        }\n",
    "      }.distinct.sortBy(_._2)\n",
    "\n",
    "      val res: List[(List[String], Int)] = sub.map(x => (extractNumPm(x._1), x._2))\n",
    "\n",
    "      res.filter(_._1.size >= 8)\n",
    "    }.getOrElse(List())\n",
    "\n",
    "    numbers\n",
    "  }\n",
    "\n",
    "  def getDirPath(id: String): String = {\n",
    "    s\"txt/${id.takeRight(3).toInt}/$id/\"\n",
    "  }\n",
    "\n",
    "  def readById(id: String): String = {\n",
    "    val dir = getDirPath(id)\n",
    "    val all: Vector[String] = FileUtils.traverse(dir).filter(_.endsWith(\".txt\")).filterNot(x => isAutoRefUA(x)).filterNot(x => badFiles.contains(id -> x.split(\"/\").last)).map(read)\n",
    "    all.mkString(12.toChar.toString)\n",
    "  }\n",
    "\n",
    "  def uaReadBy1000(id: Int) = {\n",
    "    val iter: Iterator[String] = uaMetaVec.filter(x => x.id.takeRight(3).toInt == id).iterator.flatMap { meta =>\n",
    "      val work = readById(meta.id)\n",
    "\n",
    "      val tables: List[(List[String], Int)] = uaFileHandleToNum(work)\n",
    "\n",
    "      val numUaId: Int = idUaRevMap(meta.id)\n",
    "\n",
    "      tables.flatMap { case (pageNumbers, page) =>\n",
    "        pageNumbers.map { pmNumber =>\n",
    "          s\"$pmNumber\\tU${numUaId}:${page}\"\n",
    "        }\n",
    "      }\n",
    "    }\n",
    "\n",
    "    FileUtils.write(s\"uaPM$id.pm\", iter)\n",
    "  }\n"
   ]
  },
  {
   "cell_type": "code",
   "execution_count": 7,
   "metadata": {},
   "outputs": [],
   "source": [
    "uaReadBy1000(0)"
   ]
  },
  {
   "cell_type": "code",
   "execution_count": 8,
   "metadata": {},
   "outputs": [],
   "source": [
    "(1 to 999).toVector.par.foreach(x => uaReadBy1000(x))"
   ]
  },
  {
   "cell_type": "code",
   "execution_count": 16,
   "metadata": {},
   "outputs": [
    {
     "data": {
      "text/plain": [
       "defined \u001b[32mfunction\u001b[39m \u001b[36mrufileHandleToNum\u001b[39m\n",
       "defined \u001b[32mfunction\u001b[39m \u001b[36mruDirHandle\u001b[39m"
      ]
     },
     "execution_count": 16,
     "metadata": {},
     "output_type": "execute_result"
    }
   ],
   "source": [
    "  def rufileHandleToNum(fileName: String): List[(List[String], Int)] = {\n",
    "    val bibList = List[String](\n",
    "      \"СПИСОК ЛИТЕРАТУРЫ\", \"СПИСОК ИСПОЛЬЗОВАННОЙ\", \"СПИСОК ИСПОЛЬЗУЕМОЙ\", \"СПИСОКЛИТЕРАТУРЫ\", \"УКАЗАТЕЛЬ ЛИТЕРАТУРЫ\",\n",
    "      \"СПИСОК ЦИТИРУЕМОЙ\", \"ИСПОЛЬЗОВАННАЯ ЛИТЕРАТУРА\", \"БИБЛИОГРАФИЧЕСКИЙ СПИСОК\", \"СПИСОК ИСПОЛЬЗОВАННЫХ\",\n",
    "      \"БИБЛИОГРАФИЧЕСКИЙ\", \"БИБЛИОГРАФИЯ\", \"СПИСОК ИСТОЧНИКОВ\", \"ЛИТЕРАТУРА\")\n",
    "\n",
    "    val endList = List[String](\"ВЫВОДЫ\", \"ЗАКЛЮЧЕНИЕ\")\n",
    "\n",
    "    import scala.util.Try\n",
    "    val numbers: List[(List[String], Int)] = Try {\n",
    "\n",
    "      val a: Array[String] = {\n",
    "        import java.io._\n",
    "        val br = new BufferedReader(new InputStreamReader(\n",
    "          new FileInputStream(fileName), \"UTF-8\"))\n",
    "        val res = br.lines().toArray.toList.map(_.toString).mkString(\" \").split(12.toChar)\n",
    "        br.close()\n",
    "        res\n",
    "      }\n",
    "\n",
    "      val zip: Array[(String, Int)] = a.zipWithIndex\n",
    "      val rev = zip.reverse\n",
    "\n",
    "      val bib: Option[Int] = rev.take((rev.size * 3 / 4).toInt).find { case (str, _) =>\n",
    "        val list = str.take(100).toUpperCase.filter(x => x.isLetter || x == ' ').split(\" \").filter(_.nonEmpty)\n",
    "        val head = list.mkString(\" \")\n",
    "        bibList.exists(prefix => head.startsWith(prefix))\n",
    "      }.map(_._2)\n",
    "\n",
    "      val end: Option[Int] = rev.take((rev.size * 3 / 4).toInt).find { case (str, _) =>\n",
    "        val list = str.take(100).toUpperCase.filter(x => x.isLetter || x == ' ').split(\" \").filter(_.nonEmpty)\n",
    "        val head = list.mkString(\" \")\n",
    "        endList.exists(prefix => head.startsWith(prefix))\n",
    "      }.map(_._2)\n",
    "\n",
    "      val endPos = (bib, end) match {\n",
    "        case (Some(b), Some(e)) => scala.math.min(b, e)\n",
    "        case (None, Some(e)) => e\n",
    "        case (Some(b), None) => b\n",
    "        case _ => a.size - 10\n",
    "      }\n",
    "\n",
    "      val sub: List[(String, Int)] = zip.toList.slice(30, endPos).sliding(3).toList.flatMap { array =>\n",
    "        if (array(1)._1.toUpperCase.contains(\"ТАБЛИЦ\")) {\n",
    "          array\n",
    "        } else {\n",
    "          List.empty\n",
    "        }\n",
    "      }.distinct.sortBy(_._2)\n",
    "\n",
    "      val res: List[(List[String], Int)] = sub.map(x => (extractNumPm(x._1), x._2))\n",
    "\n",
    "      res.filter(_._1.size >= 10)\n",
    "    }.getOrElse(List())\n",
    "\n",
    "    numbers\n",
    "  }\n",
    "\n",
    "\n",
    "  def ruDirHandle(id: Int): Unit = {\n",
    "    val iter = FileUtils.traverse(s\"data/d/$id\").iterator.flatMap { fileName =>\n",
    "      val i = fileName.split(\"/\").last\n",
    "      val rgbId: Int = all(i)\n",
    "\n",
    "      val tables: List[(List[String], Int)] = rufileHandleToNum(fileName)\n",
    "\n",
    "      tables.flatMap { case (pageNumbers, page) =>\n",
    "        pageNumbers.map { pmNumber =>\n",
    "          s\"$pmNumber\\tD${rgbId}:${page}\"\n",
    "        }\n",
    "      }\n",
    "    }\n",
    "\n",
    "    FileUtils.write(s\"rupm$id.pm\", iter)\n",
    "  }\n"
   ]
  },
  {
   "cell_type": "code",
   "execution_count": 17,
   "metadata": {},
   "outputs": [],
   "source": [
    "ruDirHandle(0)"
   ]
  },
  {
   "cell_type": "code",
   "execution_count": 18,
   "metadata": {},
   "outputs": [],
   "source": [
    "(1 to 999).toVector.par.foreach(x => ruDirHandle(x))"
   ]
  },
  {
   "cell_type": "code",
   "execution_count": 19,
   "metadata": {},
   "outputs": [
    {
     "data": {
      "text/plain": [
       "\u001b[36miter\u001b[39m: \u001b[32mIterator\u001b[39m[\u001b[32mString\u001b[39m] = \u001b[32mempty iterator\u001b[39m"
      ]
     },
     "execution_count": 19,
     "metadata": {},
     "output_type": "execute_result"
    }
   ],
   "source": [
    "  val iter = GroupIterator[String, String, Vector[String]](scala.io.Source.fromFile(\"pmall.sort.pm\").getLines, x => {\n",
    "    val split = x.split(\"\\t\")\n",
    "    split.head -> Vector(split.last)\n",
    "  }, _ ++ _).filter(x => x._2.size >= 2 && x._2.size <= 250).map {\n",
    "    case (head, vector) => s\"$head\\t${vector.mkString(\"\\t\")}\"\n",
    "  }\n",
    "\n",
    "  FileUtils.write(\"pmall.sort.group.pm\", iter)\n"
   ]
  },
  {
   "cell_type": "code",
   "execution_count": 20,
   "metadata": {},
   "outputs": [
    {
     "data": {
      "text/plain": [
       "\u001b[36miter\u001b[39m: \u001b[32mIterator\u001b[39m[\u001b[32mString\u001b[39m] = \u001b[32mempty iterator\u001b[39m"
      ]
     },
     "execution_count": 20,
     "metadata": {},
     "output_type": "execute_result"
    }
   ],
   "source": [
    "    val iter = GroupIterator[String, String, Vector[String]](scala.io.Source.fromFile(\"pmall.sort.pm\").getLines, x => {\n",
    "      val split = x.split(\"\\t\")\n",
    "      split.head -> Vector(split.last)\n",
    "    }, _ ++ _).filter(x => x._2.size >= 2 && x._2.size <= 250).map {\n",
    "      case (head, vector) => head\n",
    "    }\n",
    "\n",
    "    FileUtils.write(\"pmall.sort.nums.pm\", iter)\n"
   ]
  },
  {
   "cell_type": "code",
   "execution_count": 21,
   "metadata": {},
   "outputs": [
    {
     "data": {
      "text/plain": [
       "\u001b[36miter\u001b[39m: \u001b[32mIterator\u001b[39m[\u001b[32mString\u001b[39m] = \u001b[32mempty iterator\u001b[39m"
      ]
     },
     "execution_count": 21,
     "metadata": {},
     "output_type": "execute_result"
    }
   ],
   "source": [
    "    val iter = scala.io.Source.fromFile(\"pmall.sort.pm\").getLines.map { line =>\n",
    "      line.split(\"\\t\").reverse.mkString(\"\\t\")\n",
    "    }\n",
    "\n",
    "    FileUtils.write(\"pmall.sort.rev.pm\", iter)\n"
   ]
  },
  {
   "cell_type": "code",
   "execution_count": 22,
   "metadata": {},
   "outputs": [
    {
     "data": {
      "text/plain": [
       "\u001b[36mpmSet\u001b[39m: \u001b[32mSet\u001b[39m[\u001b[32mString\u001b[39m] = \u001b[32m[lazy]\u001b[39m"
      ]
     },
     "execution_count": 22,
     "metadata": {},
     "output_type": "execute_result"
    }
   ],
   "source": [
    "    lazy val pmSet: Set[String] = {\n",
    "      scala.io.Source.fromFile(\"pmall.sort.nums.pm\").getLines.toSet\n",
    "    }\n"
   ]
  },
  {
   "cell_type": "code",
   "execution_count": 23,
   "metadata": {},
   "outputs": [
    {
     "data": {
      "text/plain": [
       "\u001b[36mres23\u001b[39m: \u001b[32mSet\u001b[39m[\u001b[32mString\u001b[39m] = \u001b[33mSet\u001b[39m(\n",
       "  \u001b[32m\"6143/059\"\u001b[39m,\n",
       "  \u001b[32m\"747/180\"\u001b[39m,\n",
       "  \u001b[32m\"080/15\"\u001b[39m,\n",
       "  \u001b[32m\"220/1100\"\u001b[39m,\n",
       "  \u001b[32m\"0814/0022\"\u001b[39m,\n",
       "  \u001b[32m\"833/1128\"\u001b[39m,\n",
       "  \u001b[32m\"76/971\"\u001b[39m,\n",
       "  \u001b[32m\"795/147\"\u001b[39m,\n",
       "  \u001b[32m\"721/227\"\u001b[39m,\n",
       "  \u001b[32m\"664/48\"\u001b[39m,\n",
       "  \u001b[32m\"00370/00009\"\u001b[39m,\n",
       "  \u001b[32m\"299/043\"\u001b[39m,\n",
       "  \u001b[32m\"7331/287\"\u001b[39m,\n",
       "  \u001b[32m\"77/089\"\u001b[39m,\n",
       "  \u001b[32m\"10115/044\"\u001b[39m,\n",
       "  \u001b[32m\"1604/66\"\u001b[39m,\n",
       "  \u001b[32m\"3990/057\"\u001b[39m,\n",
       "  \u001b[32m\"2171/009\"\u001b[39m,\n",
       "  \u001b[32m\"502/156\"\u001b[39m,\n",
       "  \u001b[32m\"815/019\"\u001b[39m,\n",
       "  \u001b[32m\"2552/061\"\u001b[39m,\n",
       "  \u001b[32m\"16198/419\"\u001b[39m,\n",
       "  \u001b[32m\"3440/220\"\u001b[39m,\n",
       "  \u001b[32m\"4914/47\"\u001b[39m,\n",
       "  \u001b[32m\"536/98\"\u001b[39m,\n",
       "  \u001b[32m\"11350/0806\"\u001b[39m,\n",
       "  \u001b[32m\"520/429\"\u001b[39m,\n",
       "  \u001b[32m\"5349/205\"\u001b[39m,\n",
       "  \u001b[32m\"5371/21\"\u001b[39m,\n",
       "  \u001b[32m\"233/84\"\u001b[39m,\n",
       "  \u001b[32m\"284/05\"\u001b[39m,\n",
       "  \u001b[32m\"3780/200\"\u001b[39m,\n",
       "  \u001b[32m\"7010/040\"\u001b[39m,\n",
       "  \u001b[32m\"2194/009\"\u001b[39m,\n",
       "  \u001b[32m\"9183/1340\"\u001b[39m,\n",
       "  \u001b[32m\"030/0035\"\u001b[39m,\n",
       "  \u001b[32m\"1225/69\"\u001b[39m,\n",
       "  \u001b[32m\"2135/026\"\u001b[39m,\n",
       "..."
      ]
     },
     "execution_count": 23,
     "metadata": {},
     "output_type": "execute_result"
    }
   ],
   "source": [
    "pmSet"
   ]
  },
  {
   "cell_type": "code",
   "execution_count": 24,
   "metadata": {},
   "outputs": [
    {
     "data": {
      "text/html": [
       "<div class=\"jp-RenderedText\">\n",
       "<pre><code>defined <span style=\"color: rgb(0, 187, 0)\"><span class=\"ansi-green-fg\">class</span></span> <span style=\"color: rgb(0, 187, 187)\"><span class=\"ansi-cyan-fg\">PMTableSource</span></span>\n",
       "defined <span style=\"color: rgb(0, 187, 0)\"><span class=\"ansi-green-fg\">class</span></span> <span style=\"color: rgb(0, 187, 187)\"><span class=\"ansi-cyan-fg\">PMTable</span></span>\n",
       "<span style=\"color: rgb(0, 187, 187)\"><span class=\"ansi-cyan-fg\">inverseIndex</span></span>: <span style=\"color: rgb(0, 187, 0)\"><span class=\"ansi-green-fg\">Map</span></span>[<span style=\"color: rgb(0, 187, 0)\"><span class=\"ansi-green-fg\">String</span></span>, <span style=\"color: rgb(0, 187, 0)\"><span class=\"ansi-green-fg\">Vector</span></span>[<span style=\"color: rgb(0, 187, 0)\"><span class=\"ansi-green-fg\">PMTableSource</span></span>]] = <span style=\"color: yellow\"><span class=\"ansi-yellow-fg\">Map</span></span>(\n",
       "  <span style=\"color: rgb(0, 187, 0)\"><span class=\"ansi-green-fg\">&quot;6143/059&quot;</span></span> -&gt; <span style=\"color: yellow\"><span class=\"ansi-yellow-fg\">Vector</span></span>(<span style=\"color: yellow\"><span class=\"ansi-yellow-fg\">PMTableSource</span></span>(<span style=\"color: rgb(0, 187, 0)\"><span class=\"ansi-green-fg\">&quot;D573701:71&quot;</span></span>), <span style=\"color: yellow\"><span class=\"ansi-yellow-fg\">PMTableSource</span></span>(<span style=\"color: rgb(0, 187, 0)\"><span class=\"ansi-green-fg\">&quot;D787455:166&quot;</span></span>)),\n",
       "  <span style=\"color: rgb(0, 187, 0)\"><span class=\"ansi-green-fg\">&quot;747/180&quot;</span></span> -&gt; <span style=\"color: yellow\"><span class=\"ansi-yellow-fg\">Vector</span></span>(\n",
       "    <span style=\"color: yellow\"><span class=\"ansi-yellow-fg\">PMTableSource</span></span>(<span style=\"color: rgb(0, 187, 0)\"><span class=\"ansi-green-fg\">&quot;D599163:90&quot;</span></span>),\n",
       "    <span style=\"color: yellow\"><span class=\"ansi-yellow-fg\">PMTableSource</span></span>(<span style=\"color: rgb(0, 187, 0)\"><span class=\"ansi-green-fg\">&quot;D781976:154&quot;</span></span>),\n",
       "    <span style=\"color: yellow\"><span class=\"ansi-yellow-fg\">PMTableSource</span></span>(<span style=\"color: rgb(0, 187, 0)\"><span class=\"ansi-green-fg\">&quot;D793872:71&quot;</span></span>),\n",
       "    <span style=\"color: yellow\"><span class=\"ansi-yellow-fg\">PMTableSource</span></span>(<span style=\"color: rgb(0, 187, 0)\"><span class=\"ansi-green-fg\">&quot;D793872:77&quot;</span></span>),\n",
       "    <span style=\"color: yellow\"><span class=\"ansi-yellow-fg\">PMTableSource</span></span>(<span style=\"color: rgb(0, 187, 0)\"><span class=\"ansi-green-fg\">&quot;D793872:92&quot;</span></span>),\n",
       "    <span style=\"color: yellow\"><span class=\"ansi-yellow-fg\">PMTableSource</span></span>(<span style=\"color: rgb(0, 187, 0)\"><span class=\"ansi-green-fg\">&quot;D795790:139&quot;</span></span>),\n",
       "    <span style=\"color: yellow\"><span class=\"ansi-yellow-fg\">PMTableSource</span></span>(<span style=\"color: rgb(0, 187, 0)\"><span class=\"ansi-green-fg\">&quot;U119875:139&quot;</span></span>)\n",
       "  ),\n",
       "  <span style=\"color: rgb(0, 187, 0)\"><span class=\"ansi-green-fg\">&quot;080/15&quot;</span></span> -&gt; <span style=\"color: yellow\"><span class=\"ansi-yellow-fg\">Vector</span></span>(<span style=\"color: yellow\"><span class=\"ansi-yellow-fg\">PMTableSource</span></span>(<span style=\"color: rgb(0, 187, 0)\"><span class=\"ansi-green-fg\">&quot;D605749:147&quot;</span></span>), <span style=\"color: yellow\"><span class=\"ansi-yellow-fg\">PMTableSource</span></span>(<span style=\"color: rgb(0, 187, 0)\"><span class=\"ansi-green-fg\">&quot;U111078:118&quot;</span></span>)),\n",
       "  <span style=\"color: rgb(0, 187, 0)\"><span class=\"ansi-green-fg\">&quot;220/1100&quot;</span></span> -&gt; <span style=\"color: yellow\"><span class=\"ansi-yellow-fg\">Vector</span></span>(<span style=\"color: yellow\"><span class=\"ansi-yellow-fg\">PMTableSource</span></span>(<span style=\"color: rgb(0, 187, 0)\"><span class=\"ansi-green-fg\">&quot;D242489:79&quot;</span></span>), <span style=\"color: yellow\"><span class=\"ansi-yellow-fg\">PMTableSource</span></span>(<span style=\"color: rgb(0, 187, 0)\"><span class=\"ansi-green-fg\">&quot;U112509:242&quot;</span></span>)),\n",
       "  <span style=\"color: rgb(0, 187, 0)\"><span class=\"ansi-green-fg\">&quot;0814/0022&quot;</span></span> -&gt; <span style=\"color: yellow\"><span class=\"ansi-yellow-fg\">Vector</span></span>(<span style=\"color: yellow\"><span class=\"ansi-yellow-fg\">PMTableSource</span></span>(<span style=\"color: rgb(0, 187, 0)\"><span class=\"ansi-green-fg\">&quot;D523539:79&quot;</span></span>), <span style=\"color: yellow\"><span class=\"ansi-yellow-fg\">PMTableSource</span></span>(<span style=\"color: rgb(0, 187, 0)\"><span class=\"ansi-green-fg\">&quot;D651389:65&quot;</span></span>)),\n",
       "  <span style=\"color: rgb(0, 187, 0)\"><span class=\"ansi-green-fg\">&quot;833/1128&quot;</span></span> -&gt; <span style=\"color: yellow\"><span class=\"ansi-yellow-fg\">Vector</span></span>(\n",
       "    <span style=\"color: yellow\"><span class=\"ansi-yellow-fg\">PMTableSource</span></span>(<span style=\"color: rgb(0, 187, 0)\"><span class=\"ansi-green-fg\">&quot;D605129:113&quot;</span></span>),\n",
       "    <span style=\"color: yellow\"><span class=\"ansi-yellow-fg\">PMTableSource</span></span>(<span style=\"color: rgb(0, 187, 0)\"><span class=\"ansi-green-fg\">&quot;D792832:155&quot;</span></span>),\n",
       "    <span style=\"color: yellow\"><span class=\"ansi-yellow-fg\">PMTableSource</span></span>(<span style=\"color: rgb(0, 187, 0)\"><span class=\"ansi-green-fg\">&quot;D792832:156&quot;</span></span>)\n",
       "  ),\n",
       "  <span style=\"color: rgb(0, 187, 0)\"><span class=\"ansi-green-fg\">&quot;76/971&quot;</span></span> -&gt; <span style=\"color: yellow\"><span class=\"ansi-yellow-fg\">Vector</span></span>(<span style=\"color: yellow\"><span class=\"ansi-yellow-fg\">PMTableSource</span></span>(<span style=\"color: rgb(0, 187, 0)\"><span class=\"ansi-green-fg\">&quot;D226504:71&quot;</span></span>), <span style=\"color: yellow\"><span class=\"ansi-yellow-fg\">PMTableSource</span></span>(<span style=\"color: rgb(0, 187, 0)\"><span class=\"ansi-green-fg\">&quot;D792583:115&quot;</span></span>)),\n",
       "  <span style=\"color: rgb(0, 187, 0)\"><span class=\"ansi-green-fg\">&quot;795/147&quot;</span></span> -&gt; <span style=\"color: yellow\"><span class=\"ansi-yellow-fg\">Vector</span></span>(\n",
       "    <span style=\"color: yellow\"><span class=\"ansi-yellow-fg\">PMTableSource</span></span>(<span style=\"color: rgb(0, 187, 0)\"><span class=\"ansi-green-fg\">&quot;D589213:68&quot;</span></span>),\n",
       "    <span style=\"color: yellow\"><span class=\"ansi-yellow-fg\">PMTableSource</span></span>(<span style=\"color: rgb(0, 187, 0)\"><span class=\"ansi-green-fg\">&quot;D629577:79&quot;</span></span>),\n",
       "    <span style=\"color: yellow\"><span class=\"ansi-yellow-fg\">PMTableSource</span></span>(<span style=\"color: rgb(0, 187, 0)\"><span class=\"ansi-green-fg\">&quot;D686410:67&quot;</span></span>),\n",
       "    <span style=\"color: yellow\"><span class=\"ansi-yellow-fg\">PMTableSource</span></span>(<span style=\"color: rgb(0, 187, 0)\"><span class=\"ansi-green-fg\">&quot;D790437:136&quot;</span></span>),\n",
       "    <span style=\"color: yellow\"><span class=\"ansi-yellow-fg\">PMTableSource</span></span>(<span style=\"color: rgb(0, 187, 0)\"><span class=\"ansi-green-fg\">&quot;D790437:171&quot;</span></span>),\n",
       "    <span style=\"color: yellow\"><span class=\"ansi-yellow-fg\">PMTableSource</span></span>(<span style=\"color: rgb(0, 187, 0)\"><span class=\"ansi-green-fg\">&quot;D792208:79&quot;</span></span>),\n",
       "    <span style=\"color: yellow\"><span class=\"ansi-yellow-fg\">PMTableSource</span></span>(<span style=\"color: rgb(0, 187, 0)\"><span class=\"ansi-green-fg\">&quot;D924203:97&quot;</span></span>),\n",
       "    <span style=\"color: yellow\"><span class=\"ansi-yellow-fg\">PMTableSource</span></span>(<span style=\"color: rgb(0, 187, 0)\"><span class=\"ansi-green-fg\">&quot;D924203:99&quot;</span></span>),\n",
       "    <span style=\"color: yellow\"><span class=\"ansi-yellow-fg\">PMTableSource</span></span>(<span style=\"color: rgb(0, 187, 0)\"><span class=\"ansi-green-fg\">&quot;U126880:110&quot;</span></span>),\n",
       "    <span style=\"color: yellow\"><span class=\"ansi-yellow-fg\">PMTableSource</span></span>(<span style=\"color: rgb(0, 187, 0)\"><span class=\"ansi-green-fg\">&quot;U84345:97&quot;</span></span>)\n",
       "  ),\n",
       "  <span style=\"color: rgb(0, 187, 0)\"><span class=\"ansi-green-fg\">&quot;721/227&quot;</span></span> -&gt; <span style=\"color: yellow\"><span class=\"ansi-yellow-fg\">Vector</span></span>(\n",
       "    <span style=\"color: yellow\"><span class=\"ansi-yellow-fg\">PMTableSource</span></span>(<span style=\"color: rgb(0, 187, 0)\"><span class=\"ansi-green-fg\">&quot;D337815:53&quot;</span></span>),\n",
       "    <span style=\"color: yellow\"><span class=\"ansi-yellow-fg\">PMTableSource</span></span>(<span style=\"color: rgb(0, 187, 0)\"><span class=\"ansi-green-fg\">&quot;D629028:68&quot;</span></span>),\n",
       "...\n",
       "<span style=\"color: rgb(0, 187, 187)\"><span class=\"ansi-cyan-fg\">pmTables</span></span>: <span style=\"color: rgb(0, 187, 0)\"><span class=\"ansi-green-fg\">Vector</span></span>[<span style=\"color: rgb(0, 187, 0)\"><span class=\"ansi-green-fg\">PMTable</span></span>] = <span style=\"color: yellow\"><span class=\"ansi-yellow-fg\">Vector</span></span>(\n",
       "  <span style=\"color: yellow\"><span class=\"ansi-yellow-fg\">PMTable</span></span>(\n",
       "    <span style=\"color: yellow\"><span class=\"ansi-yellow-fg\">PMTableSource</span></span>(<span style=\"color: rgb(0, 187, 0)\"><span class=\"ansi-green-fg\">&quot;D100003:87&quot;</span></span>),\n",
       "    <span style=\"color: yellow\"><span class=\"ansi-yellow-fg\">Vector</span></span>(\n",
       "      <span style=\"color: rgb(0, 187, 0)\"><span class=\"ansi-green-fg\">&quot;194/03&quot;</span></span>,\n",
       "      <span style=\"color: rgb(0, 187, 0)\"><span class=\"ansi-green-fg\">&quot;199/027&quot;</span></span>,\n",
       "      <span style=\"color: rgb(0, 187, 0)\"><span class=\"ansi-green-fg\">&quot;199/03&quot;</span></span>,\n",
       "      <span style=\"color: rgb(0, 187, 0)\"><span class=\"ansi-green-fg\">&quot;205/037&quot;</span></span>,\n",
       "      <span style=\"color: rgb(0, 187, 0)\"><span class=\"ansi-green-fg\">&quot;207/020&quot;</span></span>,\n",
       "      <span style=\"color: rgb(0, 187, 0)\"><span class=\"ansi-green-fg\">&quot;207/037&quot;</span></span>,\n",
       "      <span style=\"color: rgb(0, 187, 0)\"><span class=\"ansi-green-fg\">&quot;208/037&quot;</span></span>,\n",
       "      <span style=\"color: rgb(0, 187, 0)\"><span class=\"ansi-green-fg\">&quot;220/012&quot;</span></span>,\n",
       "      <span style=\"color: rgb(0, 187, 0)\"><span class=\"ansi-green-fg\">&quot;220/037&quot;</span></span>,\n",
       "      <span style=\"color: rgb(0, 187, 0)\"><span class=\"ansi-green-fg\">&quot;224/009&quot;</span></span>,\n",
       "      <span style=\"color: rgb(0, 187, 0)\"><span class=\"ansi-green-fg\">&quot;225/037&quot;</span></span>,\n",
       "      <span style=\"color: rgb(0, 187, 0)\"><span class=\"ansi-green-fg\">&quot;230/021&quot;</span></span>,\n",
       "      <span style=\"color: rgb(0, 187, 0)\"><span class=\"ansi-green-fg\">&quot;237/035&quot;</span></span>,\n",
       "      <span style=\"color: rgb(0, 187, 0)\"><span class=\"ansi-green-fg\">&quot;238/034&quot;</span></span>,\n",
       "      <span style=\"color: rgb(0, 187, 0)\"><span class=\"ansi-green-fg\">&quot;240/030&quot;</span></span>,\n",
       "      <span style=\"color: rgb(0, 187, 0)\"><span class=\"ansi-green-fg\">&quot;241/020&quot;</span></span>,\n",
       "      <span style=\"color: rgb(0, 187, 0)\"><span class=\"ansi-green-fg\">&quot;241/029&quot;</span></span>,\n",
       "      <span style=\"color: rgb(0, 187, 0)\"><span class=\"ansi-green-fg\">&quot;241/032&quot;</span></span>,\n",
       "      <span style=\"color: rgb(0, 187, 0)\"><span class=\"ansi-green-fg\">&quot;243/032&quot;</span></span>,\n",
       "      <span style=\"color: rgb(0, 187, 0)\"><span class=\"ansi-green-fg\">&quot;245/032&quot;</span></span>,\n",
       "      <span style=\"color: rgb(0, 187, 0)\"><span class=\"ansi-green-fg\">&quot;245/035&quot;</span></span>,\n",
       "      <span style=\"color: rgb(0, 187, 0)\"><span class=\"ansi-green-fg\">&quot;248/029&quot;</span></span>,\n",
       "      <span style=\"color: rgb(0, 187, 0)\"><span class=\"ansi-green-fg\">&quot;250/026&quot;</span></span>,\n",
       "      <span style=\"color: rgb(0, 187, 0)\"><span class=\"ansi-green-fg\">&quot;250/029&quot;</span></span>,\n",
       "      <span style=\"color: rgb(0, 187, 0)\"><span class=\"ansi-green-fg\">&quot;251/029&quot;</span></span>,\n",
       "      <span style=\"color: rgb(0, 187, 0)\"><span class=\"ansi-green-fg\">&quot;252/038&quot;</span></span>,\n",
       "      <span style=\"color: rgb(0, 187, 0)\"><span class=\"ansi-green-fg\">&quot;253/030&quot;</span></span>,\n",
       "      <span style=\"color: rgb(0, 187, 0)\"><span class=\"ansi-green-fg\">&quot;258/049&quot;</span></span>,\n",
       "      <span style=\"color: rgb(0, 187, 0)\"><span class=\"ansi-green-fg\">&quot;258/053&quot;</span></span>,\n",
       "      <span style=\"color: rgb(0, 187, 0)\"><span class=\"ansi-green-fg\">&quot;258/059&quot;</span></span>,\n",
       "      <span style=\"color: rgb(0, 187, 0)\"><span class=\"ansi-green-fg\">&quot;260/040&quot;</span></span>,\n",
       "      <span style=\"color: rgb(0, 187, 0)\"><span class=\"ansi-green-fg\">&quot;261/047&quot;</span></span>,\n",
       "      <span style=\"color: rgb(0, 187, 0)\"><span class=\"ansi-green-fg\">&quot;262/037&quot;</span></span>,\n",
       "      <span style=\"color: rgb(0, 187, 0)\"><span class=\"ansi-green-fg\">&quot;262/058&quot;</span></span>,\n",
       "      <span style=\"color: rgb(0, 187, 0)\"><span class=\"ansi-green-fg\">&quot;264/044&quot;</span></span>,\n",
       "...\n",
       "<span style=\"color: rgb(0, 187, 187)\"><span class=\"ansi-cyan-fg\">pmTablesMap</span></span>: <span style=\"color: rgb(0, 187, 0)\"><span class=\"ansi-green-fg\">Map</span></span>[<span style=\"color: rgb(0, 187, 0)\"><span class=\"ansi-green-fg\">PMTableSource</span></span>, <span style=\"color: rgb(0, 187, 0)\"><span class=\"ansi-green-fg\">PMTable</span></span>] = <style>@keyframes fadein { from { opacity: 0; } to { opacity: 1; } }</style><span style=\"animation: fadein 2s;\"><span style=\"color: yellow\"><span class=\"ansi-yellow-fg\">Map</span></span>(\n",
       "  <span style=\"color: yellow\"><span class=\"ansi-yellow-fg\">PMTableSource</span></span>(<span style=\"color: rgb(0, 187, 0)\"><span class=\"ansi-green-fg\">&quot;U15294:47&quot;</span></span>) -&gt; <span style=\"color: yellow\"><span class=\"ansi-yellow-fg\">PMTable</span></span>(\n",
       "    <span style=\"color: yellow\"><span class=\"ansi-yellow-fg\">PMTableSource</span></span>(<span style=\"color: rgb(0, 187, 0)\"><span class=\"ansi-green-fg\">&quot;U15294:47&quot;</span></span>),\n",
       "    <span style=\"color: yellow\"><span class=\"ansi-yellow-fg\">Vector</span></span>(\n",
       "      <span style=\"color: rgb(0, 187, 0)\"><span class=\"ansi-green-fg\">&quot;005/002&quot;</span></span>,\n",
       "      <span style=\"color: rgb(0, 187, 0)\"><span class=\"ansi-green-fg\">&quot;013/006&quot;</span></span>,\n",
       "      <span style=\"color: rgb(0, 187, 0)\"><span class=\"ansi-green-fg\">&quot;1044/013&quot;</span></span>,\n",
       "      <span style=\"color: rgb(0, 187, 0)\"><span class=\"ansi-green-fg\">&quot;1079/017&quot;</span></span>,\n",
       "      <span style=\"color: rgb(0, 187, 0)\"><span class=\"ansi-green-fg\">&quot;12850/551&quot;</span></span>,\n",
       "      <span style=\"color: rgb(0, 187, 0)\"><span class=\"ansi-green-fg\">&quot;13851/964&quot;</span></span>,\n",
       "      <span style=\"color: rgb(0, 187, 0)\"><span class=\"ansi-green-fg\">&quot;14192/1104&quot;</span></span>,\n",
       "      <span style=\"color: rgb(0, 187, 0)\"><span class=\"ansi-green-fg\">&quot;14490/1013&quot;</span></span>,\n",
       "      <span style=\"color: rgb(0, 187, 0)\"><span class=\"ansi-green-fg\">&quot;14850/621&quot;</span></span>,\n",
       "      <span style=\"color: rgb(0, 187, 0)\"><span class=\"ansi-green-fg\">&quot;15027/477&quot;</span></span>,\n",
       "      <span style=\"color: rgb(0, 187, 0)\"><span class=\"ansi-green-fg\">&quot;15056/915&quot;</span></span>,\n",
       "      <span style=\"color: rgb(0, 187, 0)\"><span class=\"ansi-green-fg\">&quot;16074/354&quot;</span></span>,\n",
       "      <span style=\"color: rgb(0, 187, 0)\"><span class=\"ansi-green-fg\">&quot;16827/371&quot;</span></span>,\n",
       "      <span style=\"color: rgb(0, 187, 0)\"><span class=\"ansi-green-fg\">&quot;1851/095&quot;</span></span>,\n",
       "      <span style=\"color: rgb(0, 187, 0)\"><span class=\"ansi-green-fg\">&quot;1962/053&quot;</span></span>,\n",
       "      <span style=\"color: rgb(0, 187, 0)\"><span class=\"ansi-green-fg\">&quot;1979/023&quot;</span></span>,\n",
       "      <span style=\"color: rgb(0, 187, 0)\"><span class=\"ansi-green-fg\">&quot;2058/048&quot;</span></span>,\n",
       "      <span style=\"color: rgb(0, 187, 0)\"><span class=\"ansi-green-fg\">&quot;2180/104&quot;</span></span>,\n",
       "      <span style=\"color: rgb(0, 187, 0)\"><span class=\"ansi-green-fg\">&quot;2220/227&quot;</span></span>,\n",
       "      <span style=\"color: rgb(0, 187, 0)\"><span class=\"ansi-green-fg\">&quot;2264/105&quot;</span></span>,\n",
       "      <span style=\"color: rgb(0, 187, 0)\"><span class=\"ansi-green-fg\">&quot;2431/045&quot;</span></span>,\n",
       "      <span style=\"color: rgb(0, 187, 0)\"><span class=\"ansi-green-fg\">&quot;2459/028&quot;</span></span>,\n",
       "      <span style=\"color: rgb(0, 187, 0)\"><span class=\"ansi-green-fg\">&quot;25230/1012&quot;</span></span>,\n",
       "      <span style=\"color: rgb(0, 187, 0)\"><span class=\"ansi-green-fg\">&quot;256/020&quot;</span></span>,\n",
       "      <span style=\"color: rgb(0, 187, 0)\"><span class=\"ansi-green-fg\">&quot;2639/022&quot;</span></span>,\n",
       "      <span style=\"color: rgb(0, 187, 0)\"><span class=\"ansi-green-fg\">&quot;2658/059&quot;</span></span>,\n",
       "      <span style=\"color: rgb(0, 187, 0)\"><span class=\"ansi-green-fg\">&quot;27669/1317&quot;</span></span>,\n",
       "      <span style=\"color: rgb(0, 187, 0)\"><span class=\"ansi-green-fg\">&quot;279/011&quot;</span></span>,\n",
       "      <span style=\"color: rgb(0, 187, 0)\"><span class=\"ansi-green-fg\">&quot;3020/074&quot;</span></span>,\n",
       "      <span style=\"color: rgb(0, 187, 0)\"><span class=\"ansi-green-fg\">&quot;30410/666&quot;</span></span>,\n",
       "      <span style=\"color: rgb(0, 187, 0)\"><span class=\"ansi-green-fg\">&quot;3085/090&quot;</span></span>,\n",
       "      <span style=\"color: rgb(0, 187, 0)\"><span class=\"ansi-green-fg\">&quot;312/018&quot;</span></span>,\n",
       "      <span style=\"color: rgb(0, 187, 0)\"><span class=\"ansi-green-fg\">&quot;3276/050&quot;</span></span>,\n",
       "      <span style=\"color: rgb(0, 187, 0)\"><span class=\"ansi-green-fg\">&quot;3301/030&quot;</span></span>,\n",
       "      <span style=\"color: rgb(0, 187, 0)\"><span class=\"ansi-green-fg\">&quot;3325/112&quot;</span></span>,\n",
       "...</span></code></pre>\n",
       "</div>"
      ],
      "text/plain": [
       "defined \u001b[32mclass\u001b[39m \u001b[36mPMTableSource\u001b[39m\n",
       "defined \u001b[32mclass\u001b[39m \u001b[36mPMTable\u001b[39m\n",
       "\u001b[36minverseIndex\u001b[39m: \u001b[32mMap\u001b[39m[\u001b[32mString\u001b[39m, \u001b[32mVector\u001b[39m[\u001b[32mPMTableSource\u001b[39m]] = \u001b[33mMap\u001b[39m(\n",
       "  \u001b[32m\"6143/059\"\u001b[39m -> \u001b[33mVector\u001b[39m(\u001b[33mPMTableSource\u001b[39m(\u001b[32m\"D573701:71\"\u001b[39m), \u001b[33mPMTableSource\u001b[39m(\u001b[32m\"D787455:166\"\u001b[39m)),\n",
       "  \u001b[32m\"747/180\"\u001b[39m -> \u001b[33mVector\u001b[39m(\n",
       "    \u001b[33mPMTableSource\u001b[39m(\u001b[32m\"D599163:90\"\u001b[39m),\n",
       "    \u001b[33mPMTableSource\u001b[39m(\u001b[32m\"D781976:154\"\u001b[39m),\n",
       "    \u001b[33mPMTableSource\u001b[39m(\u001b[32m\"D793872:71\"\u001b[39m),\n",
       "    \u001b[33mPMTableSource\u001b[39m(\u001b[32m\"D793872:77\"\u001b[39m),\n",
       "    \u001b[33mPMTableSource\u001b[39m(\u001b[32m\"D793872:92\"\u001b[39m),\n",
       "    \u001b[33mPMTableSource\u001b[39m(\u001b[32m\"D795790:139\"\u001b[39m),\n",
       "    \u001b[33mPMTableSource\u001b[39m(\u001b[32m\"U119875:139\"\u001b[39m)\n",
       "  ),\n",
       "  \u001b[32m\"080/15\"\u001b[39m -> \u001b[33mVector\u001b[39m(\u001b[33mPMTableSource\u001b[39m(\u001b[32m\"D605749:147\"\u001b[39m), \u001b[33mPMTableSource\u001b[39m(\u001b[32m\"U111078:118\"\u001b[39m)),\n",
       "  \u001b[32m\"220/1100\"\u001b[39m -> \u001b[33mVector\u001b[39m(\u001b[33mPMTableSource\u001b[39m(\u001b[32m\"D242489:79\"\u001b[39m), \u001b[33mPMTableSource\u001b[39m(\u001b[32m\"U112509:242\"\u001b[39m)),\n",
       "  \u001b[32m\"0814/0022\"\u001b[39m -> \u001b[33mVector\u001b[39m(\u001b[33mPMTableSource\u001b[39m(\u001b[32m\"D523539:79\"\u001b[39m), \u001b[33mPMTableSource\u001b[39m(\u001b[32m\"D651389:65\"\u001b[39m)),\n",
       "  \u001b[32m\"833/1128\"\u001b[39m -> \u001b[33mVector\u001b[39m(\n",
       "    \u001b[33mPMTableSource\u001b[39m(\u001b[32m\"D605129:113\"\u001b[39m),\n",
       "    \u001b[33mPMTableSource\u001b[39m(\u001b[32m\"D792832:155\"\u001b[39m),\n",
       "    \u001b[33mPMTableSource\u001b[39m(\u001b[32m\"D792832:156\"\u001b[39m)\n",
       "  ),\n",
       "  \u001b[32m\"76/971\"\u001b[39m -> \u001b[33mVector\u001b[39m(\u001b[33mPMTableSource\u001b[39m(\u001b[32m\"D226504:71\"\u001b[39m), \u001b[33mPMTableSource\u001b[39m(\u001b[32m\"D792583:115\"\u001b[39m)),\n",
       "  \u001b[32m\"795/147\"\u001b[39m -> \u001b[33mVector\u001b[39m(\n",
       "    \u001b[33mPMTableSource\u001b[39m(\u001b[32m\"D589213:68\"\u001b[39m),\n",
       "    \u001b[33mPMTableSource\u001b[39m(\u001b[32m\"D629577:79\"\u001b[39m),\n",
       "    \u001b[33mPMTableSource\u001b[39m(\u001b[32m\"D686410:67\"\u001b[39m),\n",
       "    \u001b[33mPMTableSource\u001b[39m(\u001b[32m\"D790437:136\"\u001b[39m),\n",
       "    \u001b[33mPMTableSource\u001b[39m(\u001b[32m\"D790437:171\"\u001b[39m),\n",
       "    \u001b[33mPMTableSource\u001b[39m(\u001b[32m\"D792208:79\"\u001b[39m),\n",
       "    \u001b[33mPMTableSource\u001b[39m(\u001b[32m\"D924203:97\"\u001b[39m),\n",
       "    \u001b[33mPMTableSource\u001b[39m(\u001b[32m\"D924203:99\"\u001b[39m),\n",
       "    \u001b[33mPMTableSource\u001b[39m(\u001b[32m\"U126880:110\"\u001b[39m),\n",
       "    \u001b[33mPMTableSource\u001b[39m(\u001b[32m\"U84345:97\"\u001b[39m)\n",
       "  ),\n",
       "  \u001b[32m\"721/227\"\u001b[39m -> \u001b[33mVector\u001b[39m(\n",
       "    \u001b[33mPMTableSource\u001b[39m(\u001b[32m\"D337815:53\"\u001b[39m),\n",
       "    \u001b[33mPMTableSource\u001b[39m(\u001b[32m\"D629028:68\"\u001b[39m),\n",
       "...\n",
       "\u001b[36mpmTables\u001b[39m: \u001b[32mVector\u001b[39m[\u001b[32mPMTable\u001b[39m] = \u001b[33mVector\u001b[39m(\n",
       "  \u001b[33mPMTable\u001b[39m(\n",
       "    \u001b[33mPMTableSource\u001b[39m(\u001b[32m\"D100003:87\"\u001b[39m),\n",
       "    \u001b[33mVector\u001b[39m(\n",
       "      \u001b[32m\"194/03\"\u001b[39m,\n",
       "      \u001b[32m\"199/027\"\u001b[39m,\n",
       "      \u001b[32m\"199/03\"\u001b[39m,\n",
       "      \u001b[32m\"205/037\"\u001b[39m,\n",
       "      \u001b[32m\"207/020\"\u001b[39m,\n",
       "      \u001b[32m\"207/037\"\u001b[39m,\n",
       "      \u001b[32m\"208/037\"\u001b[39m,\n",
       "      \u001b[32m\"220/012\"\u001b[39m,\n",
       "      \u001b[32m\"220/037\"\u001b[39m,\n",
       "      \u001b[32m\"224/009\"\u001b[39m,\n",
       "      \u001b[32m\"225/037\"\u001b[39m,\n",
       "      \u001b[32m\"230/021\"\u001b[39m,\n",
       "      \u001b[32m\"237/035\"\u001b[39m,\n",
       "      \u001b[32m\"238/034\"\u001b[39m,\n",
       "      \u001b[32m\"240/030\"\u001b[39m,\n",
       "      \u001b[32m\"241/020\"\u001b[39m,\n",
       "      \u001b[32m\"241/029\"\u001b[39m,\n",
       "      \u001b[32m\"241/032\"\u001b[39m,\n",
       "      \u001b[32m\"243/032\"\u001b[39m,\n",
       "      \u001b[32m\"245/032\"\u001b[39m,\n",
       "      \u001b[32m\"245/035\"\u001b[39m,\n",
       "      \u001b[32m\"248/029\"\u001b[39m,\n",
       "      \u001b[32m\"250/026\"\u001b[39m,\n",
       "      \u001b[32m\"250/029\"\u001b[39m,\n",
       "      \u001b[32m\"251/029\"\u001b[39m,\n",
       "      \u001b[32m\"252/038\"\u001b[39m,\n",
       "      \u001b[32m\"253/030\"\u001b[39m,\n",
       "      \u001b[32m\"258/049\"\u001b[39m,\n",
       "      \u001b[32m\"258/053\"\u001b[39m,\n",
       "      \u001b[32m\"258/059\"\u001b[39m,\n",
       "      \u001b[32m\"260/040\"\u001b[39m,\n",
       "      \u001b[32m\"261/047\"\u001b[39m,\n",
       "      \u001b[32m\"262/037\"\u001b[39m,\n",
       "      \u001b[32m\"262/058\"\u001b[39m,\n",
       "      \u001b[32m\"264/044\"\u001b[39m,\n",
       "...\n",
       "\u001b[36mpmTablesMap\u001b[39m: \u001b[32mMap\u001b[39m[\u001b[32mPMTableSource\u001b[39m, \u001b[32mPMTable\u001b[39m] = \u001b[33mMap\u001b[39m(\n",
       "  \u001b[33mPMTableSource\u001b[39m(\u001b[32m\"U15294:47\"\u001b[39m) -> \u001b[33mPMTable\u001b[39m(\n",
       "    \u001b[33mPMTableSource\u001b[39m(\u001b[32m\"U15294:47\"\u001b[39m),\n",
       "    \u001b[33mVector\u001b[39m(\n",
       "      \u001b[32m\"005/002\"\u001b[39m,\n",
       "      \u001b[32m\"013/006\"\u001b[39m,\n",
       "      \u001b[32m\"1044/013\"\u001b[39m,\n",
       "      \u001b[32m\"1079/017\"\u001b[39m,\n",
       "      \u001b[32m\"12850/551\"\u001b[39m,\n",
       "      \u001b[32m\"13851/964\"\u001b[39m,\n",
       "      \u001b[32m\"14192/1104\"\u001b[39m,\n",
       "      \u001b[32m\"14490/1013\"\u001b[39m,\n",
       "      \u001b[32m\"14850/621\"\u001b[39m,\n",
       "      \u001b[32m\"15027/477\"\u001b[39m,\n",
       "      \u001b[32m\"15056/915\"\u001b[39m,\n",
       "      \u001b[32m\"16074/354\"\u001b[39m,\n",
       "      \u001b[32m\"16827/371\"\u001b[39m,\n",
       "      \u001b[32m\"1851/095\"\u001b[39m,\n",
       "      \u001b[32m\"1962/053\"\u001b[39m,\n",
       "      \u001b[32m\"1979/023\"\u001b[39m,\n",
       "      \u001b[32m\"2058/048\"\u001b[39m,\n",
       "      \u001b[32m\"2180/104\"\u001b[39m,\n",
       "      \u001b[32m\"2220/227\"\u001b[39m,\n",
       "      \u001b[32m\"2264/105\"\u001b[39m,\n",
       "      \u001b[32m\"2431/045\"\u001b[39m,\n",
       "      \u001b[32m\"2459/028\"\u001b[39m,\n",
       "      \u001b[32m\"25230/1012\"\u001b[39m,\n",
       "      \u001b[32m\"256/020\"\u001b[39m,\n",
       "      \u001b[32m\"2639/022\"\u001b[39m,\n",
       "      \u001b[32m\"2658/059\"\u001b[39m,\n",
       "      \u001b[32m\"27669/1317\"\u001b[39m,\n",
       "      \u001b[32m\"279/011\"\u001b[39m,\n",
       "      \u001b[32m\"3020/074\"\u001b[39m,\n",
       "      \u001b[32m\"30410/666\"\u001b[39m,\n",
       "      \u001b[32m\"3085/090\"\u001b[39m,\n",
       "      \u001b[32m\"312/018\"\u001b[39m,\n",
       "      \u001b[32m\"3276/050\"\u001b[39m,\n",
       "      \u001b[32m\"3301/030\"\u001b[39m,\n",
       "      \u001b[32m\"3325/112\"\u001b[39m,\n",
       "..."
      ]
     },
     "metadata": {},
     "output_type": "display_data"
    }
   ],
   "source": [
    "  case class PMTableSource(source: String) {\n",
    "    def isRuDiss: Boolean = source.head == 'D'\n",
    "\n",
    "    def isUaDiss: Boolean = source.head == 'U'\n",
    "\n",
    "    def id: Int = source.split(\":\").head.drop(1).toInt\n",
    "\n",
    "    def page: Int = source.split(\":\").last.toInt\n",
    "\n",
    "    def year: Int = {\n",
    "      if (isUaDiss) {\n",
    "        getUaMetaById(id).year\n",
    "      } else {\n",
    "        scala.util.Try {\n",
    "          getDissMeta(id).year.toInt\n",
    "        }.getOrElse(2023)\n",
    "      }\n",
    "    }\n",
    "\n",
    "    def ruMeta: MetaData2 = getDissMeta(id)\n",
    "\n",
    "    def uaMeta: UaMeta = getUaMetaById(id)\n",
    "  }\n",
    "\n",
    "  case class PMTable(source: PMTableSource, numbers: Vector[String]) {}\n",
    "\n",
    "  lazy val inverseIndex: Map[String, Vector[PMTableSource]] = scala.io.Source.fromFile(\"pmall.sort.group.pm\").getLines.map { line =>\n",
    "    val split = line.split(\"\\t\")\n",
    "    split.head -> split.drop(1).toVector.map(PMTableSource.apply)\n",
    "  }.toMap.withDefaultValue(Vector.empty)\n",
    "\n",
    "\n",
    "  lazy val pmTables: Vector[PMTable] = GroupIterator[String, String, Vector[String]](scala.io.Source.fromFile(\"pmall.sort.rev.sort.pm\").getLines, x => {\n",
    "    val split = x.split(\"\\t\")\n",
    "    split.head -> Vector(split.last)\n",
    "  }, _ ++ _).map { case (source, numbers) => PMTable(PMTableSource(source), numbers)\n",
    "  }.toVector\n",
    "\n",
    "  lazy val pmTablesMap: Map[PMTableSource, PMTable] = pmTables.map { table =>\n",
    "    table.source -> table\n",
    "  }.toMap\n"
   ]
  },
  {
   "cell_type": "code",
   "execution_count": 25,
   "metadata": {},
   "outputs": [
    {
     "data": {
      "text/plain": [
       "defined \u001b[32mfunction\u001b[39m \u001b[36mfindCandidates\u001b[39m\n",
       "defined \u001b[32mfunction\u001b[39m \u001b[36msplitPair\u001b[39m\n",
       "defined \u001b[32mfunction\u001b[39m \u001b[36mcomparePair\u001b[39m\n",
       "defined \u001b[32mfunction\u001b[39m \u001b[36msimilarity\u001b[39m\n",
       "defined \u001b[32mfunction\u001b[39m \u001b[36msimilarityLinear\u001b[39m\n",
       "defined \u001b[32mfunction\u001b[39m \u001b[36mcompareTwoTables\u001b[39m\n",
       "defined \u001b[32mfunction\u001b[39m \u001b[36mvalidate\u001b[39m"
      ]
     },
     "execution_count": 25,
     "metadata": {},
     "output_type": "execute_result"
    }
   ],
   "source": [
    "  def findCandidates(table: PMTable): Vector[PMTable] = {\n",
    "    val mainYear = table.source.year\n",
    "    val sources: Vector[PMTableSource] = table.numbers.flatMap(number => inverseIndex(number)).filter(_.isUaDiss).filter(x => mainYear >= x.year)\n",
    "\n",
    "    val options: Vector[PMTableSource] = sources.groupBy(identity).mapValues(_.size).filter(_._2 >= 4).toVector.take(5).map(_._1)\n",
    "\n",
    "    options.flatMap { opt =>\n",
    "      pmTablesMap.get(opt)\n",
    "    }\n",
    "  }\n",
    "\n",
    "\n",
    "  def splitPair(value: String): (String, String) = {\n",
    "    val split = value.split(\"/\")\n",
    "    split.head -> split.last\n",
    "  }\n",
    "\n",
    "\n",
    "  def comparePair(fst: String, snd: String): Boolean = {\n",
    "    val (fa, fb) = splitPair(fst)\n",
    "    val (sa, sb) = splitPair(snd)\n",
    "\n",
    "\n",
    "    val lev1 = editDist(fa, sa)\n",
    "    val lev2 = editDist(fb, sb)\n",
    "\n",
    "\n",
    "    (fst, snd, lev1, lev2) match {\n",
    "      case (f, s, l1, l2) if l1 + l2 <= 1 && fst.length == snd.length => true\n",
    "      case _ => false\n",
    "    }\n",
    "  }\n",
    "\n",
    "  def similarity(list: Seq[(Int, Int)]): Double = {\n",
    "    val s = list.sortBy(_._1).toVector\n",
    "    var res = 0\n",
    "    for {i <- s.indices\n",
    "         j <- i + 1 until s.size\n",
    "         if s(i)._2 > s(j)._2\n",
    "         } {\n",
    "      res = res + 1\n",
    "    }\n",
    "\n",
    "    1 - (res.toDouble / (s.size * s.size))\n",
    "  }\n",
    "\n",
    "  def similarityLinear(list: Seq[(Int, Int)]): Double = {\n",
    "    val s = list.sortBy(_._1).toVector\n",
    "    var res = 0\n",
    "    for {i <- 0 until s.size - 2\n",
    "         if s(i)._2 > s(i + 1)._2\n",
    "         } {\n",
    "      res = res + 1\n",
    "    }\n",
    "\n",
    "    1 - (res.toDouble / (s.size - 1))\n",
    "  }\n",
    "\n",
    "\n",
    "  def compareTwoTables(fst: Vector[String], snd: Vector[String]): (Int, Int, Int, Int, Double, Double, Int, Int, Int, Int) = {\n",
    "    val fstU = fst.zipWithIndex\n",
    "    val sndSet = snd.toSet\n",
    "    val sndZip = snd.zipWithIndex\n",
    "\n",
    "    val fuzzy: Vector[(Int, Int)] = fstU.filter(x => !sndSet.contains(x._1)).flatMap {\n",
    "      f => sndZip.find(s => comparePair(f._1, s._1)).map(s => (f._2, s._2))\n",
    "    }\n",
    "\n",
    "    val eq: Vector[(Int, Int)] = fstU.filter { case (f, idx) =>\n",
    "      sndSet.contains(f)\n",
    "    }.flatMap(f => sndZip.find(x => f._1 == x._1).map(x => (f._2, x._2)))\n",
    "\n",
    "    val tuples: Vector[(Int, Int)] = fuzzy ++ eq\n",
    "\n",
    "    val f1 = tuples.map(p => fst(p._1)).distinct.size\n",
    "    val s1 = tuples.map(p => snd(p._2)).distinct.size\n",
    "\n",
    "    (fuzzy.size, eq.size, fst.size, snd.size, similarity(tuples), similarityLinear(tuples), fst.distinct.size, snd.distinct.size, f1, s1)\n",
    "  }\n",
    "\n",
    "  def validate(fst: PMTable, snd: PMTable): Option[(Int, Int, Int, Int, Double, Double, Int, Int, Int, Int, PMTable, PMTable)] = {\n",
    "    val s2 = compareTwoTables(fst.numbers, snd.numbers)\n",
    "    if (s2._1 + s2._2 >= 15 && (s2._1 + s2._2 + 0.1) / s2._3 >= 0.5 && s2._5 >= 0.95) {\n",
    "      Some(s2._1, s2._2, s2._3, s2._4, s2._5, s2._6, s2._7, s2._8, s2._9, s2._10, fst, snd)\n",
    "    } else {\n",
    "      None\n",
    "    }\n",
    "  }\n"
   ]
  },
  {
   "cell_type": "code",
   "execution_count": 28,
   "metadata": {},
   "outputs": [
    {
     "data": {
      "text/plain": [
       "\u001b[36mpmIter\u001b[39m: \u001b[32mIterator\u001b[39m[\u001b[32mString\u001b[39m] = \u001b[32mempty iterator\u001b[39m"
      ]
     },
     "execution_count": 28,
     "metadata": {},
     "output_type": "execute_result"
    }
   ],
   "source": [
    "  val pmIter: Iterator[String] = pmTables.filter(_.source.isRuDiss).sortBy(x => x.source.year)(Ordering[Int].reverse).iterator.flatMap { table =>\n",
    "    val candidates: Vector[PMTable] = findCandidates(table)\n",
    "    val options: Vector[(Int, Int, Int, Int, Double, Double, Int, Int, Int, Int, PMTable, PMTable)] = candidates.flatMap(x => validate(table, x))\n",
    "\n",
    "    if (options.nonEmpty) {\n",
    "      val mainMeta = table.source.ruMeta\n",
    "\n",
    "      options.flatMap { case (f, eq, total1, total2, sim, simL, fstUniq, sndUniq, f1, s1, t1, t2) =>\n",
    "        val otherMeta = t2.source.uaMeta\n",
    "        val header = List[String](mainMeta.id, mainMeta.year, mainMeta.toString, otherMeta.id, otherMeta.year.toString, otherMeta.toString)\n",
    "        val list = List[String](\"\", \"\", \"\", \"\", \"\", \"\", \"page: \" + (t1.source.page + 1).toString, \"page: \" + (t2.source.page + 1).toString,\n",
    "                            \"fuzzy: \" + f.toString, \"eq: \" + eq.toString, \"total1: \" + total1.toString, \"total2: \" + total2.toString, \"sim: \" + sim.toString, \"simL:\" + simL.toString, \"fstUniq: \" + fstUniq.toString, \"sndUniq: \" + sndUniq.toString,\n",
    "                            \"dSize1: \" + f1.toString, \"dSize2: \" + s1.toString)\n",
    "        Vector(header.mkString(\"\\t\"), list.mkString(\"\\t\"))\n",
    "      }\n",
    "    } else {\n",
    "      Vector.empty\n",
    "    }\n",
    "  }\n",
    "\n",
    "  FileUtils.write(\"tableUA2RU.csv\", pmIter)\n",
    "\n"
   ]
  },
  {
   "cell_type": "code",
   "execution_count": 29,
   "metadata": {},
   "outputs": [
    {
     "data": {
      "text/plain": [
       "defined \u001b[32mfunction\u001b[39m \u001b[36mfindCandidatesRu\u001b[39m"
      ]
     },
     "execution_count": 29,
     "metadata": {},
     "output_type": "execute_result"
    }
   ],
   "source": [
    "  def findCandidatesRu(table: PMTable): Vector[PMTable] = {\n",
    "    val mainYear = table.source.year\n",
    "    val sources: Vector[PMTableSource] = table.numbers.flatMap(number => inverseIndex(number)).filter(_.isRuDiss).filter(x => mainYear >= x.year)\n",
    "\n",
    "    val options: Vector[PMTableSource] = sources.groupBy(identity).mapValues(_.size).filter(_._2 >= 4).toVector.take(5).map(_._1)\n",
    "\n",
    "    options.flatMap { opt =>\n",
    "      pmTablesMap.get(opt)\n",
    "    }\n",
    "  }\n"
   ]
  },
  {
   "cell_type": "code",
   "execution_count": 31,
   "metadata": {},
   "outputs": [
    {
     "data": {
      "text/plain": [
       "\u001b[36mpmIter\u001b[39m: \u001b[32mIterator\u001b[39m[\u001b[32mString\u001b[39m] = \u001b[32mempty iterator\u001b[39m"
      ]
     },
     "execution_count": 31,
     "metadata": {},
     "output_type": "execute_result"
    }
   ],
   "source": [
    "    val pmIter: Iterator[String] = pmTables.filter(_.source.isUaDiss).sortBy(x => x.source.year)(Ordering[Int].reverse).iterator.flatMap { table =>\n",
    "      val candidates: Vector[PMTable] = findCandidatesRu(table)\n",
    "      val options: Vector[(Int, Int, Int, Int, Double, Double, Int, Int, Int, Int, PMTable, PMTable)] = candidates.flatMap(x => validate(table, x))\n",
    "\n",
    "      if (options.nonEmpty) {\n",
    "        val mainMeta = table.source.uaMeta\n",
    "\n",
    "        options.flatMap { case (f, eq, total1, total2, sim, simL, fstUniq, sndUniq, f1, s1, t1, t2) =>\n",
    "          val otherMeta = t2.source.ruMeta\n",
    "          val header = List[String](mainMeta.id, mainMeta.year.toString, mainMeta.toString, otherMeta.id, otherMeta.year.toString, otherMeta.toString)\n",
    "          val list = List[String](\"\", \"\", \"\", \"\", \"\", \"\", \"page: \" + (t1.source.page + 1).toString, \"page: \" + (t2.source.page + 1).toString,\n",
    "            \"fuzzy: \" + f.toString, \"eq: \" + eq.toString, \"total1: \" + total1.toString, \"total2: \" + total2.toString, \"sim: \" + sim.toString, \"simL:\" + simL.toString, \"fstUniq: \" + fstUniq.toString, \"sndUniq: \" + sndUniq.toString,\n",
    "            \"dSize1: \" + f1.toString, \"dSize2: \" + s1.toString)\n",
    "          Vector(header.mkString(\"\\t\"), list.mkString(\"\\t\"))\n",
    "        }\n",
    "      } else {\n",
    "        Vector.empty\n",
    "      }\n",
    "    }\n",
    "\n",
    "    FileUtils.write(\"tableRU2UA.csv\", pmIter)\n"
   ]
  },
  {
   "cell_type": "code",
   "execution_count": 34,
   "metadata": {},
   "outputs": [
    {
     "data": {
      "text/plain": [
       "defined \u001b[32mfunction\u001b[39m \u001b[36mfindCandidatesUA\u001b[39m"
      ]
     },
     "execution_count": 34,
     "metadata": {},
     "output_type": "execute_result"
    }
   ],
   "source": [
    "  def findCandidatesUA(table: PMTable): Vector[PMTable] = {\n",
    "    val mainYear = table.source.year\n",
    "    val sources: Vector[PMTableSource] = table.numbers.flatMap(number => inverseIndex(number)).filter(_.isUaDiss).filter(x => mainYear >= x.year)\n",
    "\n",
    "    val options: Vector[PMTableSource] = sources.groupBy(identity).mapValues(_.size).filter(_._2 >= 4).toVector.take(5).map(_._1)\n",
    "\n",
    "    options.flatMap { opt =>\n",
    "      pmTablesMap.get(opt)\n",
    "    }\n",
    "  }\n"
   ]
  },
  {
   "cell_type": "code",
   "execution_count": 35,
   "metadata": {},
   "outputs": [
    {
     "data": {
      "text/plain": [
       "\u001b[36mpmIter\u001b[39m: \u001b[32mIterator\u001b[39m[\u001b[32mString\u001b[39m] = \u001b[32mempty iterator\u001b[39m"
      ]
     },
     "execution_count": 35,
     "metadata": {},
     "output_type": "execute_result"
    }
   ],
   "source": [
    "    val pmIter: Iterator[String] = pmTables.filter(_.source.isUaDiss).sortBy(x => x.source.year)(Ordering[Int].reverse).iterator.flatMap { table =>\n",
    "      val candidates: Vector[PMTable] = findCandidatesUA(table)\n",
    "      val options: Vector[(Int, Int, Int, Int, Double, Double, Int, Int, Int, Int, PMTable, PMTable)] = candidates.flatMap(x => validate(table, x)).filter(x => x._11.source != x._12.source)\n",
    "\n",
    "      if (options.nonEmpty) {\n",
    "        val mainMeta = table.source.uaMeta\n",
    "\n",
    "        options.flatMap { case (f, eq, total1, total2, sim, simL, fstUniq, sndUniq, f1, s1, t1, t2) =>\n",
    "          val otherMeta = t2.source.uaMeta\n",
    "          val header = List[String](mainMeta.id, mainMeta.year.toString, mainMeta.toString, otherMeta.id, otherMeta.year.toString, otherMeta.toString)\n",
    "          val list = List[String](\"\", \"\", \"\", \"\", \"\", \"\", \"page: \" + (t1.source.page + 1).toString, \"page: \" + (t2.source.page + 1).toString,\n",
    "            \"fuzzy: \" + f.toString, \"eq: \" + eq.toString, \"total1: \" + total1.toString, \"total2: \" + total2.toString, \"sim: \" + sim.toString, \"simL:\" + simL.toString, \"fstUniq: \" + fstUniq.toString, \"sndUniq: \" + sndUniq.toString,\n",
    "            \"dSize1: \" + f1.toString, \"dSize2: \" + s1.toString)\n",
    "          Vector(header.mkString(\"\\t\"), list.mkString(\"\\t\"))\n",
    "        }\n",
    "      } else {\n",
    "        Vector.empty\n",
    "      }\n",
    "    }\n",
    "\n",
    "    FileUtils.write(\"tableUA2UA.csv\", pmIter)\n"
   ]
  },
  {
   "cell_type": "code",
   "execution_count": null,
   "metadata": {},
   "outputs": [],
   "source": []
  }
 ],
 "metadata": {
  "kernelspec": {
   "display_name": "Scala 2.12",
   "language": "scala",
   "name": "scala212"
  },
  "language_info": {
   "codemirror_mode": "text/x-scala",
   "file_extension": ".sc",
   "mimetype": "text/x-scala",
   "name": "scala",
   "nbconvert_exporter": "script",
   "version": "2.12.18"
  }
 },
 "nbformat": 4,
 "nbformat_minor": 4
}
