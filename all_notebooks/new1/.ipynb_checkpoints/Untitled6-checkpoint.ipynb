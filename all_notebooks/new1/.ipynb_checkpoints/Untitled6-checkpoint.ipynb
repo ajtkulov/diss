{
 "cells": [
  {
   "cell_type": "code",
   "execution_count": 1,
   "id": "f953f28d-4513-4320-9779-27b1044b036c",
   "metadata": {},
   "outputs": [
    {
     "name": "stdout",
     "output_type": "stream",
     "text": [
      "Requirement already satisfied: fasttext in /home/ubuntu/p10/lib/python3.10/site-packages (0.9.2)\n",
      "Requirement already satisfied: numpy in /home/ubuntu/p10/lib/python3.10/site-packages (from fasttext) (1.24.4)\n",
      "Requirement already satisfied: pybind11>=2.2 in /home/ubuntu/p10/lib/python3.10/site-packages (from fasttext) (2.11.1)\n",
      "Requirement already satisfied: setuptools>=0.7.0 in /home/ubuntu/p10/lib/python3.10/site-packages (from fasttext) (59.6.0)\n"
     ]
    }
   ],
   "source": [
    "!pip3 install fasttext"
   ]
  },
  {
   "cell_type": "code",
   "execution_count": 22,
   "id": "b12ce5ac-bc3c-4aa7-a7e2-6ed8f5f39ddd",
   "metadata": {},
   "outputs": [],
   "source": [
    "def read_file(file_name):\n",
    "    with open(file_name, 'r', encoding='utf-8') as file:\n",
    "        # Read the first 200 lines\n",
    "        res = [file.readline().strip() for _ in range(200)]\n",
    "    return ' '.join(res)\n",
    "\n",
    "\n"
   ]
  },
  {
   "cell_type": "code",
   "execution_count": 12,
   "id": "22e13fc6-ac2c-4f7f-a580-edb7ee5f8726",
   "metadata": {},
   "outputs": [],
   "source": [
    "a = read_file('aref.doc.txt.head')\n",
    "aa = ' '.join(a)"
   ]
  },
  {
   "cell_type": "code",
   "execution_count": 10,
   "id": "c6af3859-365b-4fa4-a03e-bcf9284293c4",
   "metadata": {},
   "outputs": [
    {
     "name": "stderr",
     "output_type": "stream",
     "text": [
      "Warning : `load_model` does not return WordVectorModel or SupervisedModel any more, but a `FastText` object which is very similar.\n"
     ]
    }
   ],
   "source": [
    "import fasttext\n",
    "\n",
    "model_path = 'lid.176.bin'  # Replace with the path to your downloaded model\n",
    "lid_model = fasttext.load_model(model_path)\n",
    "\n",
    "def detect_language(text):\n",
    "    # Use the predict method to get the language prediction\n",
    "    result = lid_model.predict(text)\n",
    "\n",
    "    # The result is a tuple containing the predicted language and its confidence\n",
    "    predicted_language, confidence = result[0][0], result[1][0]\n",
    "\n",
    "    return predicted_language, confidence\n",
    "\n",
    "# Example usage:\n",
    "# text_to_identify = \"This is an example text to identify the language.\"\n",
    "# predicted_language, confidence = detect_language(text_to_identify)\n"
   ]
  },
  {
   "cell_type": "code",
   "execution_count": 18,
   "id": "157155cf-74f1-4cee-915c-0a10ec18a6f8",
   "metadata": {},
   "outputs": [
    {
     "data": {
      "text/plain": [
       "'__label__en'"
      ]
     },
     "execution_count": 18,
     "metadata": {},
     "output_type": "execute_result"
    }
   ],
   "source": [
    "detect_language('this is a text')[0]"
   ]
  },
  {
   "cell_type": "code",
   "execution_count": 13,
   "id": "9a120f9d-77fc-43e0-99c4-f1e55960bfd8",
   "metadata": {},
   "outputs": [
    {
     "data": {
      "text/plain": [
       "('__label__uk', 0.9998610615730286)"
      ]
     },
     "execution_count": 13,
     "metadata": {},
     "output_type": "execute_result"
    }
   ],
   "source": [
    "detect_language(aa)"
   ]
  },
  {
   "cell_type": "code",
   "execution_count": 14,
   "id": "9a787c44-11e8-41fb-b31c-7116104671ce",
   "metadata": {},
   "outputs": [],
   "source": [
    "def get_line(f):\n",
    "     with open(f) as file:\n",
    "         for i in file:\n",
    "             yield i"
   ]
  },
  {
   "cell_type": "code",
   "execution_count": 16,
   "id": "dd9f8bdb-409e-4b7d-87ea-61489ab537f5",
   "metadata": {},
   "outputs": [],
   "source": [
    "s = 0\n",
    "for q in get_line('ua.txt.txt'):\n",
    "    s = s + len(q)"
   ]
  },
  {
   "cell_type": "code",
   "execution_count": 30,
   "id": "13d993ba-b169-4e96-932e-2bedf364906c",
   "metadata": {},
   "outputs": [],
   "source": [
    "with open('lang.detect.csv', 'w', encoding='utf-8') as file:\n",
    "    for file_name_line in get_line('ua.txt.txt'):\n",
    "        file_name = file_name_line.strip()\n",
    "        header = read_file(file_name)\n",
    "        dl = detect_language(header)\n",
    "        file.write('{}\\t{}\\n'.format(file_name, dl[0]))\n",
    "    \n",
    "\n"
   ]
  },
  {
   "cell_type": "code",
   "execution_count": 28,
   "id": "fb6dfd2e-98ff-448b-8913-f6887f94ae78",
   "metadata": {},
   "outputs": [],
   "source": [
    "q = 'txt/813/0519U001813/Naumenko O.V._dis.pdf.txt'"
   ]
  },
  {
   "cell_type": "code",
   "execution_count": 29,
   "id": "2b505c9d-de6d-4c72-9773-4fd0740e3be7",
   "metadata": {},
   "outputs": [
    {
     "data": {
      "text/plain": [
       "('__label__uk', 0.9997235536575317)"
      ]
     },
     "execution_count": 29,
     "metadata": {},
     "output_type": "execute_result"
    }
   ],
   "source": [
    "detect_language(read_file(q))"
   ]
  },
  {
   "cell_type": "code",
   "execution_count": null,
   "id": "af5474ba-629f-418d-9d9e-476397bc4e54",
   "metadata": {},
   "outputs": [],
   "source": []
  }
 ],
 "metadata": {
  "kernelspec": {
   "display_name": "Python 3 (ipykernel)",
   "language": "python",
   "name": "python3"
  },
  "language_info": {
   "codemirror_mode": {
    "name": "ipython",
    "version": 3
   },
   "file_extension": ".py",
   "mimetype": "text/x-python",
   "name": "python",
   "nbconvert_exporter": "python",
   "pygments_lexer": "ipython3",
   "version": "3.10.12"
  }
 },
 "nbformat": 4,
 "nbformat_minor": 5
}
