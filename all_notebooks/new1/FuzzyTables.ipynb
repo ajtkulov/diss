{
 "cells": [
  {
   "cell_type": "code",
   "execution_count": 3,
   "metadata": {},
   "outputs": [
    {
     "name": "stdout",
     "output_type": "stream",
     "text": [
      "Compiling /home/jovyan/data/(console)Compiling /home/jovyan/data/(console)"
     ]
    }
   ],
   "source": [
    "repl.load(os.read(os.pwd/'git/'src/'main/'scala/\"import.sc\"))\n",
    "// repl.load(os.read(os.pwd/\"a.sc\"))\n",
    "repl.load(os.read(os.pwd/'git/'src/'main/'scala/\"a.scala\"))\n",
    "// repl.load(os.read(os.pwd/'git/'diss/'src/'main/'scala/\"b.sc\"))\n"
   ]
  },
  {
   "cell_type": "code",
   "execution_count": 4,
   "metadata": {},
   "outputs": [
    {
     "data": {
      "text/plain": [
       "\u001b[32mimport \u001b[39m\u001b[36mDiss._\u001b[39m"
      ]
     },
     "execution_count": 4,
     "metadata": {},
     "output_type": "execute_result"
    }
   ],
   "source": [
    "import Diss._"
   ]
  },
  {
   "cell_type": "code",
   "execution_count": 61,
   "metadata": {},
   "outputs": [
    {
     "data": {
      "text/plain": [
       "defined \u001b[32mfunction\u001b[39m \u001b[36mextractNum\u001b[39m\n",
       "defined \u001b[32mfunction\u001b[39m \u001b[36mfileHandleToNum\u001b[39m"
      ]
     },
     "execution_count": 61,
     "metadata": {},
     "output_type": "execute_result"
    }
   ],
   "source": [
    "  def extractNum(str: String): List[String] = {\n",
    "    str.replaceAll(\"[.,]\", \"\").map(c => if (c.isDigit) c else ' ').split(\" \").filter(_.nonEmpty).toList\n",
    "  }\n",
    "\n",
    "  def fileHandleToNum(fileName: String): List[(List[String], Int)] = {\n",
    "    val bibList = List[String](\n",
    "      \"СПИСОК ЛИТЕРАТУРЫ\", \"СПИСОК ИСПОЛЬЗОВАННОЙ\", \"СПИСОК ИСПОЛЬЗУЕМОЙ\", \"СПИСОКЛИТЕРАТУРЫ\", \"УКАЗАТЕЛЬ ЛИТЕРАТУРЫ\",\n",
    "      \"СПИСОК ЦИТИРУЕМОЙ\", \"ИСПОЛЬЗОВАННАЯ ЛИТЕРАТУРА\", \"БИБЛИОГРАФИЧЕСКИЙ СПИСОК\", \"СПИСОК ИСПОЛЬЗОВАННЫХ\",\n",
    "      \"БИБЛИОГРАФИЧЕСКИЙ\", \"БИБЛИОГРАФИЯ\", \"СПИСОК ИСТОЧНИКОВ\", \"ЛИТЕРАТУРА\")\n",
    "\n",
    "    val endList = List[String](\"ВЫВОДЫ\", \"ЗАКЛЮЧЕНИЕ\")\n",
    "\n",
    "    import scala.util.Try\n",
    "    val numbers: List[(List[String], Int)] = Try {\n",
    "\n",
    "      val a: Array[String] = {\n",
    "        import java.io._\n",
    "        val br = new BufferedReader(new InputStreamReader(\n",
    "          new FileInputStream(fileName), \"UTF-8\"))\n",
    "        val res = br.lines().toArray.toList.map(_.toString).mkString(\" \").split(12.toChar)\n",
    "        br.close()\n",
    "        res\n",
    "      }\n",
    "\n",
    "      val zip: Array[(String, Int)] = a.zipWithIndex\n",
    "      val rev = zip.reverse\n",
    "\n",
    "      val bib: Option[Int] = rev.take((rev.size * 3 / 4).toInt).find { case (str, _) =>\n",
    "        val list = str.take(100).toUpperCase.filter(x => x.isLetter || x == ' ').split(\" \").filter(_.nonEmpty)\n",
    "        val head = list.mkString(\" \")\n",
    "        bibList.exists(prefix => head.startsWith(prefix))\n",
    "      }.map(_._2)\n",
    "\n",
    "      val end: Option[Int] = rev.take((rev.size * 3 / 4).toInt).find { case (str, _) =>\n",
    "        val list = str.take(100).toUpperCase.filter(x => x.isLetter || x == ' ').split(\" \").filter(_.nonEmpty)\n",
    "        val head = list.mkString(\" \")\n",
    "        endList.exists(prefix => head.startsWith(prefix))\n",
    "      }.map(_._2)\n",
    "\n",
    "      val endPos = (bib, end) match {\n",
    "        case (Some(b), Some(e)) => scala.math.min(b, e)\n",
    "        case (None, Some(e)) => e\n",
    "        case (Some(b), None) => b\n",
    "        case _ => a.size - 10\n",
    "      }\n",
    "\n",
    "      val sub: List[(String, Int)] = zip.toList.slice(30, endPos).sliding(3).toList.flatMap { array =>\n",
    "        if (array(1)._1.toUpperCase.contains(\"ТАБЛИЦ\")) {\n",
    "          array\n",
    "        } else {\n",
    "          List.empty\n",
    "        }\n",
    "      }.distinct.sortBy(_._2)\n",
    "\n",
    "      val res: List[(List[String], Int)] = sub.map(x => (extractNum(x._1), x._2))\n",
    "\n",
    "      res.filter(_._1.size >= 15)\n",
    "    }.getOrElse(List())\n",
    "\n",
    "    numbers\n",
    "  }\n"
   ]
  },
  {
   "cell_type": "code",
   "execution_count": 68,
   "metadata": {},
   "outputs": [
    {
     "data": {
      "text/plain": [
       "\u001b[32mimport \u001b[39m\u001b[36mscala.math._\n",
       "\u001b[39m\n",
       "defined \u001b[32mfunction\u001b[39m \u001b[36meditDist\u001b[39m\n",
       "defined \u001b[32mfunction\u001b[39m \u001b[36mgetFileLocation\u001b[39m\n",
       "defined \u001b[32mfunction\u001b[39m \u001b[36mcomparePair\u001b[39m\n",
       "defined \u001b[32mfunction\u001b[39m \u001b[36mcompareNgram\u001b[39m\n",
       "defined \u001b[32mfunction\u001b[39m \u001b[36mnonTrivialVector\u001b[39m\n",
       "defined \u001b[32mfunction\u001b[39m \u001b[36mcompareTwoTables\u001b[39m\n",
       "defined \u001b[32mfunction\u001b[39m \u001b[36mcompareTwoWorks\u001b[39m"
      ]
     },
     "execution_count": 68,
     "metadata": {},
     "output_type": "execute_result"
    }
   ],
   "source": [
    "import scala.math._\n",
    "def editDist[A](a: Iterable[A], b: Iterable[A]): Int = {\n",
    "    import scala.math.min\n",
    "    ((0 to b.size).toList /: a) ((prev, x) =>\n",
    "      (prev zip prev.tail zip b).scanLeft(prev.head + 1) {\n",
    "        case (h, ((d, v), y)) => min(min(h + 1, v + 1), d + (if (x == y) 0 else 1))\n",
    "      }) last\n",
    "  }\n",
    "\n",
    "\n",
    "  def getFileLocation(dissRef: DissRef): String = {\n",
    "    val fileName = all_back(dissRef.id)\n",
    "    val dir = loc(fileName)\n",
    "    s\"data1/$dir/${fileName}\"\n",
    "  }\n",
    "\n",
    "  def comparePair(fst: String, snd: String): Boolean = {\n",
    "    val min = scala.math.min(fst.length, snd.length)\n",
    "    val max = scala.math.max(fst.length, snd.length)\n",
    "    val lev = editDist(fst, snd)\n",
    "    (fst, snd, min, max, max - min, lev) match {\n",
    "      case (f, s, mi, ma, diff, l) if l <= 1 => true\n",
    "//      case (f, s, mi, ma, diff, l) if min >= 5 && l <= 2 => true\n",
    "//      case (f, s, mi, ma, diff, l) if min == 2 && max == 2 && (f.startsWith(\"0\") || f.startsWith(\"1\")) && (s.startsWith(\"0\") || s.startsWith(\"1\")) => true\n",
    "//      case (f, s, mi, ma, diff, l) if (!f.startsWith(\"0\") && !s.startsWith(\"0\")) && scala.math.abs(f.toDouble - s.toDouble) / f.toDouble < 0.2 => true\n",
    "      case _ => false\n",
    "    }\n",
    "  }\n",
    "\n",
    "  def compareNgram(fst: List[String], snd: List[String]): Boolean = {\n",
    "    (fst zip snd).forall(x => comparePair(x._1, x._2))\n",
    "  }\n",
    "\n",
    "\n",
    "  def nonTrivialVector(value: List[String]): Boolean = {\n",
    "    value.distinct.size == value.size && value(0) >= value(1) && value.forall(_.length >= 2) && value.exists(_.length >= 3)\n",
    "  }\n",
    "\n",
    "  def compareTwoTables(fst: List[String], snd: List[String], size: Int = 3): (Int, Int, Int) = {\n",
    "    val fstVector: Vector[List[String]] = fst.sliding(size, 1).toVector.filter(nonTrivialVector)\n",
    "    val sndVector: Vector[List[String]] = snd.sliding(size, 1).toVector.filter(nonTrivialVector)\n",
    "\n",
    "    val sndSet = sndVector.toSet\n",
    "\n",
    "    val fuzzy = fstVector.count { f =>\n",
    "      !sndSet.contains(f) && sndVector.exists(s => compareNgram(f, s))\n",
    "    }\n",
    "\n",
    "    val eq = fstVector.count(f => sndSet.contains(f))\n",
    "\n",
    "    (fuzzy, eq, scala.math.min(fstVector.size, sndVector.size))\n",
    "  }\n",
    "\n",
    "  // (page, page)\n",
    "  def compareTwoWorks(fst: List[(List[String], Int)], snd: List[(List[String], Int)]): List[(Res, Res, Res, Res, Res, Res, Res, Res)] = {\n",
    "    for {\n",
    "      fstPage <- fst\n",
    "      sndPage <- snd\n",
    "      s2 = compareTwoTables(fstPage._1, sndPage._1, 2)\n",
    "      s2r = compareTwoTables(sndPage._1, fstPage._1, 2)\n",
    "      s3 = compareTwoTables(fstPage._1, sndPage._1, 3)\n",
    "      s3r = compareTwoTables(sndPage._1, fstPage._1, 3)\n",
    "      a2 = (scala.math.min(s2._1, s2r._1), scala.math.min(s2._2, s2r._2), scala.math.min(s2._3, s2r._3))\n",
    "      a3 = (scala.math.min(s3._1, s3r._1), scala.math.min(s3._2, s3r._2), scala.math.min(s3._3, s3r._3))\n",
    "      if (a2._1 + a2._2 >= 12 || a3._1 + a3._2 >= 12)\n",
    "    } yield (fstPage._2, sndPage._2, a2._1, a3._1, a2._2, a3._2, a2._3, a3._3)\n",
    "  }\n"
   ]
  },
  {
   "cell_type": "code",
   "execution_count": 69,
   "metadata": {},
   "outputs": [
    {
     "data": {
      "text/html": [
       "<div class=\"jp-RenderedText\">\n",
       "<pre><code><span style=\"color: rgb(0, 187, 187)\"><span class=\"ansi-cyan-fg\">sciArea</span></span>: <span style=\"color: rgb(0, 187, 0)\"><span class=\"ansi-green-fg\">Set</span></span>[<span style=\"color: rgb(0, 187, 0)\"><span class=\"ansi-green-fg\">String</span></span>] = <span style=\"color: yellow\"><span class=\"ansi-yellow-fg\">Set</span></span>(\n",
       "  <span style=\"color: rgb(0, 187, 0)\"><span class=\"ansi-green-fg\">&quot;\\u0432\\u0435\\u0442\\u0435\\u0440\\u0438\\u043d\\u0430\\u0440\\u043d\\u044b\\u0445&quot;</span></span>,\n",
       "  <span style=\"color: rgb(0, 187, 0)\"><span class=\"ansi-green-fg\">&quot;\\u0432\\u0435\\u0442\\u0435\\u0440\\u0438\\u043d\\u0430\\u0440\\u043d\\u0438\\u0445&quot;</span></span>\n",
       ")\n",
       "<span style=\"color: rgb(0, 187, 187)\"><span class=\"ansi-cyan-fg\">metaSort</span></span>: <span style=\"color: rgb(0, 187, 0)\"><span class=\"ansi-green-fg\">Vector</span></span>[(<span style=\"color: rgb(0, 187, 0)\"><span class=\"ansi-green-fg\">String</span></span>, <span style=\"color: rgb(0, 187, 0)\"><span class=\"ansi-green-fg\">MetaData2</span></span>)] = <style>@keyframes fadein { from { opacity: 0; } to { opacity: 1; } }</style><span style=\"animation: fadein 2s;\"><span style=\"color: yellow\"><span class=\"ansi-yellow-fg\">Vector</span></span>(\n",
       "  (\n",
       "    <span style=\"color: rgb(0, 187, 0)\"><span class=\"ansi-green-fg\">&quot;01010244408&quot;</span></span>,\n",
       "    <span style=\"color: yellow\"><span class=\"ansi-yellow-fg\">MetaData2</span></span>(\n",
       "      <span style=\"color: rgb(0, 187, 0)\"><span class=\"ansi-green-fg\">&quot;01010244408&quot;</span></span>,\n",
       "      <span style=\"color: rgb(0, 187, 0)\"><span class=\"ansi-green-fg\">&quot;autoref&quot;</span></span>,\n",
       "      <span style=\"color: rgb(0, 187, 0)\"><span class=\"ansi-green-fg\">&quot;\\u0421\\u0430\\u043d\\u043a\\u0442-\\u041f\\u0435\\u0442\\u0435\\u0440\\u0431\\u0443\\u0440\\u0433&quot;</span></span>,\n",
       "      <span style=\"color: rgb(0, 187, 0)\"><span class=\"ansi-green-fg\">&quot;\\u0421\\u0440\\u0430\\u0432\\u043d\\u0438\\u0442\\u0435\\u043b\\u044c\\u043d\\u0430\\u044f \\u043c\\u043e\\u0440\\u0444\\u043e\\u043b\\u043e\\u0433\\u0438\\u044f \\u043f\\u0435\\u0447\\u0435\\u043d\\u0438 \\u0438 \\u043f\\u043e\\u0434\\u0436\\u0435\\u043b\\u0443\\u0434\\u043e\\u0447\\u043d\\u043e\\u0439 \\u0436\\u0435\\u043b\\u0435\\u0437\\u044b \\u0441\\u0432\\u0438\\u043d\\u0435\\u0439 \\u043c\\u044f\\u0441\\u043d\\u044b\\u0445 \\u043f\\u043e\\u0440\\u043e\\u0434 \\u043d\\u0430 \\u0440\\u0430\\u043d\\u043d\\u0438\\u0445 \\u044d\\u0442\\u0430\\u043f\\u0430\\u0445 \\u043f\\u043e\\u0441\\u0442\\u043d\\u0430\\u0442\\u0430\\u043b\\u044c\\u043d\\u043e\\u0433\\u043e \\u043e\\u043d\\u0442\\u043e\\u0433\\u0435\\u043d\\u0435\\u0437\\u0430&quot;</span></span>,\n",
       "      <span style=\"color: rgb(0, 187, 0)\"><span class=\"ansi-green-fg\">&quot;\\u0410\\u043d\\u0438\\u0441\\u0438\\u043c\\u043e\\u0432\\u0430 \\u041a\\u0441\\u0435\\u043d\\u0438\\u044f \\u0410\\u043b\\u0435\\u043a\\u0441\\u0435\\u0435\\u0432\\u043d\\u0430&quot;</span></span>,\n",
       "      <span style=\"color: rgb(0, 187, 0)\"><span class=\"ansi-green-fg\">&quot;2020&quot;</span></span>,\n",
       "      <span style=\"color: rgb(0, 187, 0)\"><span class=\"ansi-green-fg\">&quot;[\\&quot;06.02.01\\&quot;]&quot;</span></span>,\n",
       "      <span style=\"color: rgb(0, 187, 0)\"><span class=\"ansi-green-fg\">&quot;\\u043a\\u0430\\u043d\\u0434\\u0438\\u0434\\u0430\\u0442\\u0430&quot;</span></span>,\n",
       "      <span style=\"color: rgb(0, 187, 0)\"><span class=\"ansi-green-fg\">&quot;\\u0432\\u0435\\u0442\\u0435\\u0440\\u0438\\u043d\\u0430\\u0440\\u043d\\u0438\\u0445&quot;</span></span>,\n",
       "      <span style=\"color: rgb(0, 187, 0)\"><span class=\"ansi-green-fg\">&quot;\\u0424\\u0413\\u0411\\u041e\\u0423 \\u0412\\u041e \\u00ab\\u0421\\u0430\\u043d\\u043a\\u0442-\\u041f\\u0435\\u0442\\u0435\\u0440\\u0431\\u0443\\u0440\\u0433\\u0441\\u043a\\u0430\\u044f \\u0433\\u043e\\u0441\\u0443\\u0434\\u0430\\u0440\\u0441\\u0442\\u0432\\u0435\\u043d\\u043d\\u0430\\u044f \\u0430\\u043a\\u0430\\u0434\\u0435\\u043c\\u0438\\u044f \\u0432\\u0435\\u0442\\u0435\\u0440\\u0438\\u043d\\u0430\\u0440\\u043d\\u043e\\u0439 \\u043c\\u0435\\u0434\\u0438\\u0446\\u0438\\u043d\\u044b\\u00bb&quot;</span></span>,\n",
       "      <span style=\"color: rgb(0, 187, 0)\"><span class=\"ansi-green-fg\">&quot;&quot;</span></span>\n",
       "    )\n",
       "  ),\n",
       "  (\n",
       "    <span style=\"color: rgb(0, 187, 0)\"><span class=\"ansi-green-fg\">&quot;01010250461&quot;</span></span>,\n",
       "    <span style=\"color: yellow\"><span class=\"ansi-yellow-fg\">MetaData2</span></span>(\n",
       "      <span style=\"color: rgb(0, 187, 0)\"><span class=\"ansi-green-fg\">&quot;01010250461&quot;</span></span>,\n",
       "      <span style=\"color: rgb(0, 187, 0)\"><span class=\"ansi-green-fg\">&quot;autoref&quot;</span></span>,\n",
       "...</span></code></pre>\n",
       "</div>"
      ],
      "text/plain": [
       "\u001b[36msciArea\u001b[39m: \u001b[32mSet\u001b[39m[\u001b[32mString\u001b[39m] = \u001b[33mSet\u001b[39m(\n",
       "  \u001b[32m\"\\u0432\\u0435\\u0442\\u0435\\u0440\\u0438\\u043d\\u0430\\u0440\\u043d\\u044b\\u0445\"\u001b[39m,\n",
       "  \u001b[32m\"\\u0432\\u0435\\u0442\\u0435\\u0440\\u0438\\u043d\\u0430\\u0440\\u043d\\u0438\\u0445\"\u001b[39m\n",
       ")\n",
       "\u001b[36mmetaSort\u001b[39m: \u001b[32mVector\u001b[39m[(\u001b[32mString\u001b[39m, \u001b[32mMetaData2\u001b[39m)] = \u001b[33mVector\u001b[39m(\n",
       "  (\n",
       "    \u001b[32m\"01010244408\"\u001b[39m,\n",
       "    \u001b[33mMetaData2\u001b[39m(\n",
       "      \u001b[32m\"01010244408\"\u001b[39m,\n",
       "      \u001b[32m\"autoref\"\u001b[39m,\n",
       "      \u001b[32m\"\\u0421\\u0430\\u043d\\u043a\\u0442-\\u041f\\u0435\\u0442\\u0435\\u0440\\u0431\\u0443\\u0440\\u0433\"\u001b[39m,\n",
       "      \u001b[32m\"\\u0421\\u0440\\u0430\\u0432\\u043d\\u0438\\u0442\\u0435\\u043b\\u044c\\u043d\\u0430\\u044f \\u043c\\u043e\\u0440\\u0444\\u043e\\u043b\\u043e\\u0433\\u0438\\u044f \\u043f\\u0435\\u0447\\u0435\\u043d\\u0438 \\u0438 \\u043f\\u043e\\u0434\\u0436\\u0435\\u043b\\u0443\\u0434\\u043e\\u0447\\u043d\\u043e\\u0439 \\u0436\\u0435\\u043b\\u0435\\u0437\\u044b \\u0441\\u0432\\u0438\\u043d\\u0435\\u0439 \\u043c\\u044f\\u0441\\u043d\\u044b\\u0445 \\u043f\\u043e\\u0440\\u043e\\u0434 \\u043d\\u0430 \\u0440\\u0430\\u043d\\u043d\\u0438\\u0445 \\u044d\\u0442\\u0430\\u043f\\u0430\\u0445 \\u043f\\u043e\\u0441\\u0442\\u043d\\u0430\\u0442\\u0430\\u043b\\u044c\\u043d\\u043e\\u0433\\u043e \\u043e\\u043d\\u0442\\u043e\\u0433\\u0435\\u043d\\u0435\\u0437\\u0430\"\u001b[39m,\n",
       "      \u001b[32m\"\\u0410\\u043d\\u0438\\u0441\\u0438\\u043c\\u043e\\u0432\\u0430 \\u041a\\u0441\\u0435\\u043d\\u0438\\u044f \\u0410\\u043b\\u0435\\u043a\\u0441\\u0435\\u0435\\u0432\\u043d\\u0430\"\u001b[39m,\n",
       "      \u001b[32m\"2020\"\u001b[39m,\n",
       "      \u001b[32m\"[\\\"06.02.01\\\"]\"\u001b[39m,\n",
       "      \u001b[32m\"\\u043a\\u0430\\u043d\\u0434\\u0438\\u0434\\u0430\\u0442\\u0430\"\u001b[39m,\n",
       "      \u001b[32m\"\\u0432\\u0435\\u0442\\u0435\\u0440\\u0438\\u043d\\u0430\\u0440\\u043d\\u0438\\u0445\"\u001b[39m,\n",
       "      \u001b[32m\"\\u0424\\u0413\\u0411\\u041e\\u0423 \\u0412\\u041e \\u00ab\\u0421\\u0430\\u043d\\u043a\\u0442-\\u041f\\u0435\\u0442\\u0435\\u0440\\u0431\\u0443\\u0440\\u0433\\u0441\\u043a\\u0430\\u044f \\u0433\\u043e\\u0441\\u0443\\u0434\\u0430\\u0440\\u0441\\u0442\\u0432\\u0435\\u043d\\u043d\\u0430\\u044f \\u0430\\u043a\\u0430\\u0434\\u0435\\u043c\\u0438\\u044f \\u0432\\u0435\\u0442\\u0435\\u0440\\u0438\\u043d\\u0430\\u0440\\u043d\\u043e\\u0439 \\u043c\\u0435\\u0434\\u0438\\u0446\\u0438\\u043d\\u044b\\u00bb\"\u001b[39m,\n",
       "      \u001b[32m\"\"\u001b[39m\n",
       "    )\n",
       "  ),\n",
       "  (\n",
       "    \u001b[32m\"01010250461\"\u001b[39m,\n",
       "    \u001b[33mMetaData2\u001b[39m(\n",
       "      \u001b[32m\"01010250461\"\u001b[39m,\n",
       "      \u001b[32m\"autoref\"\u001b[39m,\n",
       "..."
      ]
     },
     "metadata": {},
     "output_type": "display_data"
    }
   ],
   "source": [
    "  val sciArea: Set[String] = Set(\n",
    "    //    \"биологических\",\n",
    "//     \"медицинских\",\n",
    "    //    \"фармацевтических\"\n",
    "      \"ветеринарных\",\n",
    "      \"ветеринарних\"      \n",
    "  )\n",
    "\n",
    "  lazy val metaSort = meta2.toVector.filter { case (_, m) => sciArea.contains(m.sciArea) }.sortBy(_._2.y).filter(_._2.y == 2020).take(500)\n",
    "  "
   ]
  },
  {
   "cell_type": "code",
   "execution_count": 70,
   "metadata": {},
   "outputs": [
    {
     "data": {
      "text/plain": [
       "defined \u001b[32mfunction\u001b[39m \u001b[36mtraverseAll\u001b[39m"
      ]
     },
     "execution_count": 70,
     "metadata": {},
     "output_type": "execute_result"
    }
   ],
   "source": [
    "  def traverseAll() = {\n",
    "    metaSort.par.flatMap { case (_, m) =>\n",
    "      val dissId = all(s\"${m.id}.txt\")\n",
    "      val mainDiss = DissRef(dissId)\n",
    "      val mainMeta = getDissMeta(mainDiss.id)\n",
    "\n",
    "      val bads: Vector[DissRef] = ngGrouped(mainDiss).collect {\n",
    "        case x@DissRef(_) if (mainMeta.y > getDissMeta(x.id).y) || (mainMeta.y == getDissMeta(x.id).y && mainMeta.id < getDissMeta(x.id).id) => x\n",
    "      }\n",
    "\n",
    "      if (bads.nonEmpty) {\n",
    "        val mainTables = fileHandleToNum(getFileLocation(mainDiss))\n",
    "        bads.par.flatMap { otherDissRef: DissRef =>\n",
    "          val otherTables = fileHandleToNum(getFileLocation(otherDissRef))\n",
    "          val otherMeta = getDissMeta(otherDissRef.id)\n",
    "          val header = List[String](mainMeta.id, mainMeta.y.toString, mainMeta.toString, otherMeta.id, otherMeta.y.toString, otherMeta.toString)\n",
    "\n",
    "          val tuples = compareTwoWorks(mainTables, otherTables)\n",
    "\n",
    "          if (tuples.nonEmpty) {\n",
    "            List(header.mkString(\"\\t\")) ++\n",
    "              tuples.map {\n",
    "                case (page1, page2, f2, f3, eq2, eq3, all2, all3) =>\n",
    "                  val list = List[String](\"\", \"\", \"\", \"\", \"\", \"\", (page1 + 1).toString, (page2 + 1).toString, f2.toString, f3.toString, eq2.toString, eq3.toString, all2.toString, all3.toString)\n",
    "                  list.mkString(\"\\t\")\n",
    "              }\n",
    "          } else {\n",
    "            Nil\n",
    "          }\n",
    "        }.toVector.iterator\n",
    "      } else {\n",
    "        Iterator.empty\n",
    "      }\n",
    "    }.iterator\n",
    "  }\n"
   ]
  },
  {
   "cell_type": "code",
   "execution_count": 71,
   "metadata": {},
   "outputs": [],
   "source": [
    "FileUtils.write(\"fuzzyTable2020V2.csv\", traverseAll())"
   ]
  },
  {
   "cell_type": "code",
   "execution_count": 53,
   "metadata": {},
   "outputs": [
    {
     "data": {
      "text/plain": [
       "\u001b[36mm1\u001b[39m: \u001b[32mDissRef\u001b[39m = \u001b[33mDissRef\u001b[39m(\u001b[32m984477\u001b[39m)\n",
       "\u001b[36mm2\u001b[39m: \u001b[32mDissRef\u001b[39m = \u001b[33mDissRef\u001b[39m(\u001b[32m266461\u001b[39m)"
      ]
     },
     "execution_count": 53,
     "metadata": {},
     "output_type": "execute_result"
    }
   ],
   "source": [
    "\n",
    "val m1 = DissRef(984477)\n",
    "val m2 = DissRef(266461)"
   ]
  },
  {
   "cell_type": "code",
   "execution_count": 52,
   "metadata": {},
   "outputs": [
    {
     "data": {
      "text/plain": [
       "\u001b[36mres51_0\u001b[39m: \u001b[32mInt\u001b[39m = \u001b[32m984477\u001b[39m\n",
       "\u001b[36mres51_1\u001b[39m: \u001b[32mInt\u001b[39m = \u001b[32m266461\u001b[39m"
      ]
     },
     "execution_count": 52,
     "metadata": {},
     "output_type": "execute_result"
    }
   ],
   "source": [
    "all(\"01010240623.txt\")\n",
    "\n",
    "all(\"01002625533.txt\")\n",
    "\n"
   ]
  },
  {
   "cell_type": "code",
   "execution_count": null,
   "metadata": {},
   "outputs": [],
   "source": [
    "ngGrouped(m1)\n",
    "ngGrouped(m2)"
   ]
  },
  {
   "cell_type": "code",
   "execution_count": 65,
   "metadata": {},
   "outputs": [
    {
     "data": {
      "text/plain": [
       "\u001b[36mmt1\u001b[39m: \u001b[32mList\u001b[39m[(\u001b[32mList\u001b[39m[\u001b[32mString\u001b[39m], \u001b[32mInt\u001b[39m)] = \u001b[33mList\u001b[39m(\n",
       "  (\n",
       "    \u001b[33mList\u001b[39m(\n",
       "      \u001b[32m\"15\"\u001b[39m,\n",
       "      \u001b[32m\"33\"\u001b[39m,\n",
       "      \u001b[32m\"002\"\u001b[39m,\n",
       "      \u001b[32m\"500\"\u001b[39m,\n",
       "      \u001b[32m\"250\"\u001b[39m,\n",
       "      \u001b[32m\"02\"\u001b[39m,\n",
       "      \u001b[32m\"67\"\u001b[39m,\n",
       "      \u001b[32m\"28\"\u001b[39m,\n",
       "      \u001b[32m\"100\"\u001b[39m,\n",
       "      \u001b[32m\"41\"\u001b[39m,\n",
       "      \u001b[32m\"51944\"\u001b[39m,\n",
       "      \u001b[32m\"2002\"\u001b[39m,\n",
       "      \u001b[32m\"52702\"\u001b[39m,\n",
       "      \u001b[32m\"2006\"\u001b[39m,\n",
       "      \u001b[32m\"31470\"\u001b[39m,\n",
       "      \u001b[32m\"2012\"\u001b[39m,\n",
       "      \u001b[32m\"53853\"\u001b[39m,\n",
       "      \u001b[32m\"2010\"\u001b[39m,\n",
       "      \u001b[32m\"81\"\u001b[39m,\n",
       "      \u001b[32m\"33\"\u001b[39m\n",
       "    ),\n",
       "    \u001b[32m32\u001b[39m\n",
       "  ),\n",
       "  (\n",
       "    \u001b[33mList\u001b[39m(\n",
       "      \u001b[32m\"1\"\u001b[39m,\n",
       "      \u001b[32m\"1\"\u001b[39m,\n",
       "      \u001b[32m\"30\"\u001b[39m,\n",
       "      \u001b[32m\"2\"\u001b[39m,\n",
       "      \u001b[32m\"30\"\u001b[39m,\n",
       "      \u001b[32m\"10\"\u001b[39m,\n",
       "      \u001b[32m\"3\"\u001b[39m,\n",
       "      \u001b[32m\"30\"\u001b[39m,\n",
       "      \u001b[32m\"20\"\u001b[39m,\n",
       "      \u001b[32m\"4\"\u001b[39m,\n",
       "      \u001b[32m\"30\"\u001b[39m,\n",
       "..."
      ]
     },
     "execution_count": 65,
     "metadata": {},
     "output_type": "execute_result"
    }
   ],
   "source": [
    "val mt1 = fileHandleToNum(getFileLocation(m1))"
   ]
  },
  {
   "cell_type": "code",
   "execution_count": null,
   "metadata": {},
   "outputs": [],
   "source": [
    "getFileLocation(m1)\n",
    "getFileLocation(m2)"
   ]
  },
  {
   "cell_type": "code",
   "execution_count": 57,
   "metadata": {},
   "outputs": [
    {
     "data": {
      "text/plain": [
       "\u001b[36mmt2\u001b[39m: \u001b[32mList\u001b[39m[(\u001b[32mList\u001b[39m[\u001b[32mString\u001b[39m], \u001b[32mInt\u001b[39m)] = \u001b[33mList\u001b[39m(\n",
       "  (\n",
       "    \u001b[33mList\u001b[39m(\n",
       "      \u001b[32m\"3\"\u001b[39m,\n",
       "      \u001b[32m\"31\"\u001b[39m,\n",
       "      \u001b[32m\"311\"\u001b[39m,\n",
       "      \u001b[32m\"9290\"\u001b[39m,\n",
       "      \u001b[32m\"002\"\u001b[39m,\n",
       "      \u001b[32m\"50989235\"\u001b[39m,\n",
       "      \u001b[32m\"01\"\u001b[39m,\n",
       "      \u001b[32m\"30\"\u001b[39m,\n",
       "      \u001b[32m\"40\"\u001b[39m,\n",
       "      \u001b[32m\"70\"\u001b[39m,\n",
       "      \u001b[32m\"40\"\u001b[39m,\n",
       "      \u001b[32m\"50\"\u001b[39m,\n",
       "      \u001b[32m\"16\"\u001b[39m,\n",
       "      \u001b[32m\"85\"\u001b[39m,\n",
       "      \u001b[32m\"60\"\u001b[39m,\n",
       "      \u001b[32m\"20\"\u001b[39m,\n",
       "      \u001b[32m\"25\"\u001b[39m,\n",
       "      \u001b[32m\"400\"\u001b[39m,\n",
       "      \u001b[32m\"450\"\u001b[39m,\n",
       "      \u001b[32m\"20\"\u001b[39m,\n",
       "      \u001b[32m\"25\"\u001b[39m,\n",
       "      \u001b[32m\"40\"\u001b[39m,\n",
       "      \u001b[32m\"60\"\u001b[39m,\n",
       "      \u001b[32m\"01\"\u001b[39m,\n",
       "      \u001b[32m\"02\"\u001b[39m,\n",
       "      \u001b[32m\"040\"\u001b[39m,\n",
       "      \u001b[32m\"136\"\u001b[39m,\n",
       "      \u001b[32m\"600\"\u001b[39m,\n",
       "      \u001b[32m\"500\"\u001b[39m\n",
       "    ),\n",
       "    \u001b[32m88\u001b[39m\n",
       "  ),\n",
       "  (\n",
       "    \u001b[33mList\u001b[39m(\n",
       "      \u001b[32m\"90\"\u001b[39m,\n",
       "      \u001b[32m\"1975\"\u001b[39m,\n",
       "..."
      ]
     },
     "execution_count": 57,
     "metadata": {},
     "output_type": "execute_result"
    }
   ],
   "source": [
    "val mt2 = fileHandleToNum(getFileLocation(m2))"
   ]
  },
  {
   "cell_type": "code",
   "execution_count": null,
   "metadata": {},
   "outputs": [],
   "source": [
    "metaSort.groupBy(_._2.y).mapValues(_.size).toVector.sortBy(_._1)"
   ]
  },
  {
   "cell_type": "code",
   "execution_count": 36,
   "metadata": {},
   "outputs": [
    {
     "data": {
      "text/plain": [
       "\u001b[36mres35\u001b[39m: \u001b[32mInt\u001b[39m = \u001b[32m145\u001b[39m"
      ]
     },
     "execution_count": 36,
     "metadata": {},
     "output_type": "execute_result"
    }
   ],
   "source": [
    "metaSort.size"
   ]
  },
  {
   "cell_type": "code",
   "execution_count": 32,
   "metadata": {},
   "outputs": [
    {
     "name": "stdout",
     "output_type": "stream",
     "text": [
      "(01010254764,MetaData2(01010254764,disser,Екатеринбург,Сравнительная морфология органов желудочно-кишечного тракта свиней фермерского хозяйства и промышленного предприятия,Пузырников Александр Вячеславович,2020,[\"06.02.01\"],кандидата,ветеринарных,ФГБОУ ВО «Омский государственный аграрный университет имени П.А. Столыпина»,))\n",
      "(01010253271,MetaData2(01010253271,disser,Санкт-Петербург,Сравнительная морфология грудной конечности свиней мясных пород на ранних этапах постнатального онтогенеза,Копейкина Мария Юрьевна,2020,[\"06.02.01\"],кандидата,ветеринарных,ФГБОУ ВО «Санкт-Петербургская государственная академия ветеринарной медицины»,))\n",
      "(01010254081,MetaData2(01010254081,disser,Махачкала,Эпизоотическая ситуация и усовершенствование профилактики колибактериоза кур в Дагестане,Волкова Анна Васильевна,2020,[\"06.02.02\"],кандидата,ветеринарных,ФГБОУ ВО «Кубанский государственный аграрный университет имени И.Т. Трубилина»,))\n",
      "(01010255155,MetaData2(01010255155,disser,Казань,Фармако-токсикологическая оценка нового средства Бронхелп и его применение при бронхопневмонии телят,Яруллина Эльмира Сергеевна,2020,[\"06.02.03\"],кандидата,ветеринарных,ФГБОУ ВО «Казанская государственная академия ветеринарной медицины имени Н.Э. Баумана»,))\n",
      "(01010254368,MetaData2(01010254368,disser,Казань,Антигенная и молекулярно-генетическая оценка стабильности вакцинного сибиреязвенного штамма Ланге после длительного хранения,Задорина Ива Ивановна,2020,[\"06.02.02\"],кандидата,ветеринарных,ФГБОУ ВО «Казанская государственная академия ветеринарной медицины имени Н.Э. Баумана»,))\n",
      "(01010254773,MetaData2(01010254773,disser,Нижний Новгород,Профилактика акушерско-гинекологических заболеваний коров с использованием композиционного средства \"Био-ФАЯЛ\",Дубинин Алексей Владимирович,2020,[\"06.02.06\"],кандидата,ветеринарных,ФГБОУ ВО «Санкт-Петербургская государственная академия ветеринарной медицины»,))\n",
      "(01010254825,MetaData2(01010254825,disser,Санкт-Петербург,Повышение функциональной активности яичников и качества ооцитов у высокопродуктивных коров с использованием синтетических каротиноидов,Плахова Анастасия Игоревна,2020,[\"06.02.06\"],кандидата,ветеринарных,ФГБОУ ВО «Санкт-Петербургская государственная академия ветеринарной медицины»,))\n",
      "(01010252507,MetaData2(01010252507,disser,Владимир,Совершенствование лабораторной диагностики везикулярной болезни свиней,Калинина Елена Николаевна,2020,[\"06.02.02\"],кандидата,ветеринарных,ФГБУ «Федеральный центр охраны здоровья животных»,))\n"
     ]
    }
   ],
   "source": [
    "metaSort.foreach(println)"
   ]
  },
  {
   "cell_type": "code",
   "execution_count": 48,
   "metadata": {},
   "outputs": [
    {
     "data": {
      "text/plain": [
       "\u001b[36mq\u001b[39m: \u001b[32mVector\u001b[39m[(\u001b[32mString\u001b[39m, \u001b[32mInt\u001b[39m)] = \u001b[33mVector\u001b[39m(\n",
       "  (\u001b[32m\"\\u0442\\u0435\\u0445\\u043d\\u0438\\u0447\\u0435\\u0441\\u043a\\u0438\\u0439\"\u001b[39m, \u001b[32m1\u001b[39m),\n",
       "  (\n",
       "    \u001b[32m\"\\u044d\\u043a\\u043e\\u043d\\u043e\\u0438\\u043c\\u0438\\u0447\\u0435\\u0441\\u043a\\u0438\\u0445\"\u001b[39m,\n",
       "    \u001b[32m1\u001b[39m\n",
       "  ),\n",
       "  (\n",
       "    \u001b[32m\"\\u0444\\u0438\\u0437\\u0438\\u043a\\u043e-\\u043c\\u0430\\u0442\\u0435\\u043c\\u0430\\u0442\\u0438\\u0447\\u0435\\u0441\\u043a\\u0438\\u0435\"\u001b[39m,\n",
       "    \u001b[32m1\u001b[39m\n",
       "  ),\n",
       "  (\u001b[32m\"\\u0444\\u0438\\u0437\\u0438\\u043a\\u043e-\"\u001b[39m, \u001b[32m1\u001b[39m),\n",
       "  (\n",
       "    \u001b[32m\"\\u043f\\u0435\\u0434\\u0430\\u0433\\u043e\\u0433\\u0438\\u0447\\u0435\\u0441\\u043a\\u0438\\u0439\"\u001b[39m,\n",
       "    \u001b[32m1\u001b[39m\n",
       "  ),\n",
       "  (\u001b[32m\"\\u043a\\u0430\\u043d\\u0434\\u0438\\u0434\\u0430\\u0442\\u0430\"\u001b[39m, \u001b[32m4\u001b[39m),\n",
       "  (\u001b[32m\"\\u0442\\u0435\\u043e\\u043b\\u043e\\u0433\\u0438\\u0438\"\u001b[39m, \u001b[32m9\u001b[39m),\n",
       "  (\u001b[32m\"\"\u001b[39m, \u001b[32m16\u001b[39m),\n",
       "  (\n",
       "    \u001b[32m\"\\u0432\\u0435\\u0442\\u0435\\u0440\\u0438\\u043d\\u0430\\u0440\\u043d\\u044b\\u0445\"\u001b[39m,\n",
       "    \u001b[32m24\u001b[39m\n",
       "  ),\n",
       "  (\u001b[32m\"\\u0430\\u0440\\u0445\\u0438\\u0442\\u0435\\u043a\\u0442\\u0443\\u0440\\u044b\"\u001b[39m, \u001b[32m27\u001b[39m),\n",
       "  (\n",
       "    \u001b[32m\"\\u043a\\u0443\\u043b\\u044c\\u0442\\u0443\\u0440\\u043e\\u043b\\u043e\\u0433\\u0438\\u0438\"\u001b[39m,\n",
       "    \u001b[32m82\u001b[39m\n",
       "  ),\n",
       "  (\n",
       "    \u001b[32m\"\\u0433\\u0435\\u043e\\u0433\\u0440\\u0430\\u0444\\u0438\\u0447\\u0435\\u0441\\u043a\\u0438\\u0445\"\u001b[39m,\n",
       "    \u001b[32m101\u001b[39m\n",
       "  ),\n",
       "  (\n",
       "    \u001b[32m\"\\u0432\\u0435\\u0442\\u0435\\u0440\\u0438\\u043d\\u0430\\u0440\\u043d\\u0438\\u0445\"\u001b[39m,\n",
       "    \u001b[32m113\u001b[39m\n",
       "..."
      ]
     },
     "execution_count": 48,
     "metadata": {},
     "output_type": "execute_result"
    }
   ],
   "source": [
    "val q = meta2.values.filter(_._type != \"autoref\").filter(_.y >= 2019).groupBy(_.sciArea).mapValues(_.size).toVector.sortBy(_._2)"
   ]
  },
  {
   "cell_type": "code",
   "execution_count": 49,
   "metadata": {},
   "outputs": [
    {
     "data": {
      "text/plain": [
       "\u001b[36mres48\u001b[39m: \u001b[32mInt\u001b[39m = \u001b[32m33\u001b[39m"
      ]
     },
     "execution_count": 49,
     "metadata": {},
     "output_type": "execute_result"
    }
   ],
   "source": [
    "q.size"
   ]
  },
  {
   "cell_type": "code",
   "execution_count": 50,
   "metadata": {},
   "outputs": [
    {
     "name": "stdout",
     "output_type": "stream",
     "text": [
      "(технический,1)\n",
      "(эконоимических,1)\n",
      "(физико-математические,1)\n",
      "(физико-,1)\n",
      "(педагогический,1)\n",
      "(кандидата,4)\n",
      "(теологии,9)\n",
      "(,16)\n",
      "(ветеринарных,24)\n",
      "(архитектуры,27)\n",
      "(культурологии,82)\n",
      "(географических,101)\n",
      "(ветеринарних,113)\n",
      "(социологических,119)\n",
      "(фармацевтических,124)\n",
      "(сельскохозяйственных,126)\n",
      "(геолого-минералогических,152)\n",
      "(искусствоведения,159)\n",
      "(:,160)\n",
      "(политических,181)\n",
      "(психологических,223)\n",
      "(философских,230)\n",
      "(сельскохозяйственних,283)\n",
      "(исторических,487)\n",
      "(химических,710)\n",
      "(юридических,759)\n",
      "(педагогических,861)\n",
      "(филологических,919)\n",
      "(биологических,948)\n",
      "(экономических,1034)\n",
      "(физико-математических,1313)\n",
      "(медицинских,2986)\n",
      "(технических,3134)\n"
     ]
    }
   ],
   "source": [
    "q.foreach(println)"
   ]
  },
  {
   "cell_type": "code",
   "execution_count": 59,
   "metadata": {},
   "outputs": [
    {
     "data": {
      "text/plain": [
       "\u001b[36mres58\u001b[39m: \u001b[32mInt\u001b[39m = \u001b[32m18\u001b[39m"
      ]
     },
     "execution_count": 59,
     "metadata": {},
     "output_type": "execute_result"
    }
   ],
   "source": [
    "mt1.size"
   ]
  },
  {
   "cell_type": "code",
   "execution_count": 66,
   "metadata": {},
   "outputs": [
    {
     "name": "stdout",
     "output_type": "stream",
     "text": [
      "(List(15, 33, 002, 500, 250, 02, 67, 28, 100, 41, 51944, 2002, 52702, 2006, 31470, 2012, 53853, 2010, 81, 33),32)\n",
      "(List(1, 1, 30, 2, 30, 10, 3, 30, 20, 4, 30, 50, 1, 50, 2, 50, 05, 3, 50, 10, 4, 50, 20, 1, 100, 2, 100, 10, 3, 100, 10, 34),33)\n",
      "(List(2212, 6, 10, 50, 100, 3, 3, 2, 2, 10, 10, 50, 100, 1972, 34, 1819, 52, 1903, 44, 1852, 57, 1, 1895, 66, 1943, 61, 1977, 59, 1991, 68, 2, 1961, 65, 2019, 68, 2321, 67, 2252, 54, 3, 2123, 51, 2242, 51, 2401, 58, 2302, 53, 005, 37),36)\n",
      "(List(50, 100, 3, 3, 3, 10, 1, 1012, 109, 10, 2, 3, 697, 243, 727, 253, 66, 054, 73, 052, 95, 097, 97, 047, 651, 322, 593, 361, 258, 110, 321, 032, 69, 027, 57, 082, 38, 50, 100, 4, 5, 739, 239, 713, 221, 75, 068, 78, 072, 88, 081, 94, 017, 631, 212, 641, 321, 283, 061, 269, 081, 62, 052, 58, 043),37)\n",
      "(List(1, 2, 22, 060, 665, 033, 063, 033, 079, 057, 234, 045, 31, 025, 3, 29, 075, 4, 5, 24, 091, 32, 068, 652, 425, 062, 030, 088, 065, 227, 058, 30, 057, 670, 314, 682, 432, 065, 057, 077, 062, 090, 084, 086, 057, 239, 045, 225, 067, 36, 040, 32, 050, 68, 74, 39),38)\n",
      "(List(2213, 3, 8, 1, 10, 1, 100, 6, 24, 20, 01, 1, 10, 1, 100, 21, 4, 4, 0, 8, 1, 10, 1, 100, 368, 03, 367, 03, 371, 03, 366, 04, 368, 04, 370, 02, 369, 04, 371, 03, 373, 05, 40),39)\n",
      "(List(5, 5, 8, 1, 10, 1, 100, 191, 210, 186, 224, 192, 188, 189, 215, 184, 203, 189, 225, 187, 194, 184, 178, 195, 192, 184, 195, 1, 1, 3, 41),40)\n",
      "(List(2214, 7, 01, 1, 10, 1, 100, 1, 1000, 20, 20, 19, 6, 6, 20, 319, 176, 657, 258, 771, 333, 229, 324, 1, 10, 318, 179, 314, 125, 651, 358, 768, 322, 657, 221, 751, 344, 228, 416, 238, 319, 1, 100, 317, 163, 666, 325, 760, 328, 233, 411, 1, 1000, 314, 279, 657, 326, 758, 434, 235, 314, 42),41)\n",
      "(List(7, 1, 2, 3, 4, 10, 20, 50, 55, 79, 8, 8, 1, 2, 3, 4, 30, 30, 30, 30, 1, 966, 100, 100, 100, 1, 181, 176, 177, 178, 464, 501, 498, 489, 16, 28, 44),43)\n",
      "(List(9, 10, 9, 10, 1, 2, 3, 4, 287, 0, 2, 0, 281, 015, 2, 90, 017, 285, 0, 1, 4, 289, 1, 3, 9, 283, 125, 28, 2, 121, 284, 1, 1, 4, 944, 4, 1, 2, 941, 423, 94, 9, 426, 946, 4, 2, 2, 27, 0, 3, 2, 25, 028, 21, 039, 24, 0, 4, 1, 63, 041, 261, 185, 583, 092, 66, 069, 64, 0, 5, 7, 26, 5, 129, 58, 4, 119, 62, 055, 62, 061, 267, 1, 3, 3, 581, 1, 1, 5, 69, 0, 5, 3, 60, 059, 254, 133, 601, 129, 61, 079, 2, 98, 020, 29, 9, 152, 94, 9, 431, 305, 0, 1, 4, 297, 1, 5, 1, 950, 4, 2, 8, 306, 021, 298, 152, 964, 447, 3, 05, 022, 30, 2, 163, 96, 3, 442, 45),44)\n",
      "(List(28, 045, 21, 041, 61, 1, 1, 4, 68, 111, 270, 1, 5, 281, 12, 563, 1, 2, 565, 15, 78, 07, 65, 0, 6, 20, 0, 4, 1, 63, 110, 29, 6, 11, 56, 9, 12, 64, 05, 21, 046, 61, 1, 1, 1, 298, 1, 3, 571, 1, 4, 62, 04, 3, 4, 10, 10, 1, 2, 3, 4, 232, 016, 230, 011, 229, 010, 230, 012, 763, 022, 1046, 024, 032, 0026, 761, 025, 1044, 021, 031, 0021, 770, 020, 1038, 020, 033, 0026, 760, 011, 1028, 033, 032, 0024, 3082, 127, 3077, 129, 3064, 1128, 3107, 119, 46),45)\n",
      "(List(052, 0054, 051, 0053, 052, 0059, 023, 0020, 024, 0019, 021, 0017, 051, 058, 023, 0023, 237, 018, 239, 015, 239, 017, 238, 014, 801, 034, 1223, 031, 034, 0030, 811, 039, 1281, 030, 033, 0032, 809, 031, 1291, 032, 034, 0038, 810, 033, 1289, 031, 034, 0039, 3093, 674, 3402, 611, 3479, 613, 3503, 627, 054, 0061, 053, 0060, 055, 0059, 025, 0019, 024, 0030, 025, 0022, 005, 052, 0066, 024, 0026, 99, 125, 131, 005, 6, 47),46)\n",
      "(List(30, 10, 20, 50, 223, 2, 10, 30, 30, 5, 11, 11, 10, 1012, 109, 10, 236, 027, 3821, 254, 30, 22, 24, 302, 334, 348, 027, 5844, 236, 30, 40, 320, 580, 936, 327, 927, 985, 1087, 452, 948, 1206, 48),47)\n",
      "(List(257, 09, 20, 40, 492, 07, 10, 30, 2691, 19, 240, 300, 6140, 12, 520, 600, 420, 027, 40, 100, 278, 08, 523, 07, 2512, 14, 6233, 15, 454, 063, 20, 40, 10, 30, 240, 300, 520, 600, 40, 100, 10, 30, 12, 30, 10, 10, 49),48)\n",
      "(List(2, 4, 12, 10, 10, 30, 287, 129, 24, 35, 302, 154, 43, 59, 385, 035, 386, 052, 276, 029, 2967, 035, 2, 4, 1, 4, 01, 03, 16, 43, 344, 035, 311, 028, 284, 032, 364, 154, 2, 4, 2, 4, 01, 035, 19, 27, 1311, 096, 6243, 1321, 123, 027, 083, 009, 13676, 4821, 2477, 593, 2217, 122, 13, 20, 1521, 078, 6365, 1254, 10, 14, 65, 400, 1425, 3655, 7, 45, 135, 034, 091, 008, 14282, 5318, 2614, 622, 2284, 2148, 7, 15, 1000, 4000, 10, 14, 203, 442, 228, 336, 4, 20, 30, 15, 50),49)\n",
      "(List(3, 6, 13, 13, 10, 10, 30, 3426, 237, 40, 60, 5375, 346, 100, 150, 15, 20, 51),50)\n",
      "(List(224, 2241, 4, 10, 50, 14, 30, 14, 1, 2, 3, 4, 05, 10, 20, 52),51)\n",
      "(List(15, 66, 69, 32, 33, 15, 1, 2, 3, 4, 50, 50, 50, 540, 48, 49, 50, 50, 2, 1, 960, 980, 100, 100, 488, 502, 520, 522, 28, 66, 69, 1, 184, 180, 178, 178, 22, 32, 33, 53),52)\n",
      "(List(2242, 16, 17, 16, 10, 1012, 109, 1012, 109, 1, 2, 05, 3, 4, 10, 20, 245, 021, 221, 037, 254, 029, 226, 033, 377, 122, 365, 139, 358, 212, 381, 231, 962, 459, 973, 445, 957, 512, 969, 521, 28, 033, 30, 026, 29, 033, 56, 042, 54, 040, 60, 062, 255, 137, 263, 137, 265, 137, 597, 091, 590, 122, 585, 118, 64, 057, 63, 063, 61, 054, 368, 032, 387, 051, 373, 045, 537, 156, 526, 160, 545, 167, 26, 042, 65, 054, 264, 141, 579, 123, 66, 052, 384, 049, 558, 158, 1070, 436, 1086, 442, 1081, 430, 1098, 444, 29, 043, 28, 053, 63, 126, 67, 122, 274, 154, 279, 168, 556, 143, 558, 157, 78, 062, 68, 076, 30, 030, 64, 127, 280, 181, 557, 141, 69, 052, 26, 040, 65, 121, 299, 128, 547, 132, 63, 057, 54),53)\n",
      "(List(17, 10, 1, 2, 05, 3, 10, 4, 20, 286, 122, 287, 128, 284, 129, 285, 147, 392, 036, 375, 015, 386, 048, 385, 033, 367, 052, 354, 033, 358, 047, 346, 051, 1325, 087, 1293, 051, 1334, 076, 1331, 062, 134, 016, 132, 008, 133, 011, 132, 009, 149, 041, 152, 046, 137, 014, 138, 023, 276, 029, 286, 032, 274, 035, 281, 030, 13676, 4821, 13586, 4829, 13776, 5064, 13758, 5234, 2554, 560, 2210, 527, 2572, 632, 2224, 532, 2620, 674, 2606, 633, 24513, 549, 2321, 532, 55),54)\n",
      "(List(294, 133, 301, 140, 310, 130, 387, 028, 403, 032, 426, 033, 271, 031, 272, 024, 248, 036, 307, 141, 462, 033, 251, 027, 1551, 111, 133, 007, 1437, 096, 140, 006, 1385, 104, 167, 008, 1325, 110, 169, 009, 167, 029, 284, 014, 14282, 5318, 2404, 822, 148, 033, 272, 019, 13270, 5436, 2387, 869, 142, 029, 223, 013, 144, 017, 221, 015, 11840, 5221, 11971, 5381, 2008, 790, 1995, 837, 2227, 665, 2265, 648, 1798, 660, 1805, 638, 005, 001, 256, 271, 273, 285, 164, 170, 193, 189, 171, 162, 005, 001, 56),55)\n",
      "(List(10, 20, 126, 27, 88, 10, 20, 05, 10, 2243, 145, 44, 46, 18, 57),56)\n",
      "(List(18, 10, 1, 2, 3, 4, 05, 10, 20, 3533, 267, 3621, 243, 3488, 271, 3565, 322, 1612, 122, 1594, 134, 1612, 143, 1677, 142, 4021, 176, 4023, 215, 3911, 243, 4023, 324, 3722, 235, 1712, 113, 4023, 234, 3875, 243, 4014, 253, 4043, 236, 1821, 143, 1912, 145, 1897, 215, 4165, 312, 4951, 227, 4919, 240, 231, 223, 005, 41, 86, 58),57)\n",
      "(List(19, 10, 1, 2, 3, 3, 05, 10, 20, 642, 007, 092, 008, 604, 005, 094, 007, 594, 006, 096, 007, 036, 007, 054, 008, 054, 007, 62, 003, 092, 005, 056, 009, 054, 056, 036, 60),59)\n",
      "(List(20, 20, 10, 1, 2, 3, 3, 05, 10, 20, 023, 003, 120, 005, 022, 005, 43, 124, 009, 021, 004, 86, 128, 004, 021, 005, 86, 129, 006, 33, 67, 75, 52, 031, 56, 028, 77, 61, 029, 173, 61, 032, 177, 14, 33, 75, 43, 86, 173, 177, 61),60)\n",
      "(List(225, 2251, 3, 15, 100, 20, 21, 21, 1, 2, 10, 3, 10, 22, 55, 49, 98, 96, 62),61)\n",
      "(List(22, 1, 2, 3, 100, 100, 100, 96, 98, 98, 96, 98, 98, 504, 532, 529, 55, 49, 1, 180, 175, 176, 27, 22, 27, 22, 2252, 23, 24, 63),62)\n",
      "(List(23, 20, 1, 2, 3, 1012, 109, 1012, 109, 273, 021, 284, 015, 283, 146, 281, 130, 924, 422, 939, 434, 24, 032, 26, 033, 62, 047, 62, 057, 265, 192, 268, 132, 582, 120, 585, 117, 67, 066, 59, 051, 326, 022, 335, 027, 296, 145, 289, 138, 936, 418, 984, 425, 21, 044, 24, 042, 67, 115, 68, 119, 265, 140, 277, 13, 569, 152, 559, 17, 78, 047, 72, 064, 290, 017, 289, 125, 942, 456, 27, 040, 64, 051, 253, 144, 599, 122, 57, 090, 321, 026, 301, 140, 968, 434, 27, 055, 67, 123, 266, 19, 571, 14, 69, 04, 64),63)\n"
     ]
    },
    {
     "name": "stdout",
     "output_type": "stream",
     "text": [
      "(List(24, 20, 1, 2, 3, 273, 126, 376, 028, 387, 019, 1284, 028, 116, 0037, 281, 232, 402, 021, 378, 022, 1261, 025, 114, 0028, 279, 128, 387, 033, 365, 021, 1312, 014, 117, 0023, 3081, 1130, 3102, 1022, 3110, 1028, 288, 021, 275, 038, 13816, 4935, 13768, 5132, 2565, 563, 2688, 614, 2293, 621, 2476, 518, 336, 172, 354, 213, 380, 037, 446, 028, 321, 023, 310, 026, 1473, 031, 114, 012, 1364, 037, 152, 010, 277, 046, 13914, 5274, 2592, 733, 2510, 722, 348, 186, 422, 042, 320, 041, 1282, 029, 154, 011, 3080, 560, 3413, 567, 3474, 548, 287, 016, 14307, 5527, 220, 017, 11992, 5510, 221, 015, 11878, 5446, 2493, 825, 2112, 837, 2217, 622, 2156, 754, 005, 001, 2234, 812, 2085, 616, 65),64)\n",
      "(List(333, 354, 005, 108, 127, 001, 233, 229, 005, 153, 104, 162, 169, 005, 001, 66),65)\n",
      "(List(17, 72, 25, 25, 10, 1, 5472, 321, 2, 7033, 332, 3, 7121, 380, 001, 285, 30, 001, 67),66)\n",
      "(List(2253, 26, 20, 1, 2, 3, 432, 246, 446, 250, 457, 24, 461, 37, 438, 31, 459, 31, 132, 07, 141, 08, 129, 04, 444, 28, 447, 24, 468, 27, 475, 23, 536, 25, 543, 27, 151, 05, 68, 162, 07, 161, 08),67)\n",
      "(List(226, 10, 30, 10, 28, 28, 1, 10240, 2, 10187, 3, 10, 22, 0, 9876, 964, 10029, 985, 10, 05, 6, 983, 1, 1462, 1666, 16, 96, 474, 1, 178, 552, 174, 1708, 554, 172, 17, 1, 3, 1, 427000, 34, 510900, 28, 74),73)\n"
     ]
    }
   ],
   "source": [
    "mt1.foreach(println)"
   ]
  },
  {
   "cell_type": "code",
   "execution_count": null,
   "metadata": {},
   "outputs": [],
   "source": []
  }
 ],
 "metadata": {
  "kernelspec": {
   "display_name": "Scala 2.12",
   "language": "scala",
   "name": "scala212"
  },
  "language_info": {
   "codemirror_mode": "text/x-scala",
   "file_extension": ".scala",
   "mimetype": "text/x-scala",
   "name": "scala",
   "nbconvert_exporter": "script",
   "version": "2.12.10"
  }
 },
 "nbformat": 4,
 "nbformat_minor": 2
}
