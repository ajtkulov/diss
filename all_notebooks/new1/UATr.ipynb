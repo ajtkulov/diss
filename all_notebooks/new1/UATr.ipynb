{
 "cells": [
  {
   "cell_type": "code",
   "execution_count": 14,
   "id": "6639df0e-7915-4ce9-bb84-5313b1d6abb5",
   "metadata": {},
   "outputs": [
    {
     "name": "stdout",
     "output_type": "stream",
     "text": [
      "Requirement already satisfied: sentencepiece in /opt/conda/lib/python3.11/site-packages (0.1.99)\n",
      "Requirement already satisfied: tqdm in /opt/conda/lib/python3.11/site-packages (4.66.1)\n"
     ]
    }
   ],
   "source": [
    "!pip3 install sentencepiece tqdm"
   ]
  },
  {
   "cell_type": "code",
   "execution_count": 7,
   "id": "5312ad4d-c1f7-4ca0-a5b8-d9857bfaa38a",
   "metadata": {},
   "outputs": [
    {
     "name": "stdout",
     "output_type": "stream",
     "text": [
      "Collecting sacremoses\n",
      "  Downloading sacremoses-0.1.1-py3-none-any.whl.metadata (8.3 kB)\n",
      "Requirement already satisfied: regex in /opt/conda/lib/python3.11/site-packages (from sacremoses) (2023.12.25)\n",
      "Collecting click (from sacremoses)\n",
      "  Downloading click-8.1.7-py3-none-any.whl.metadata (3.0 kB)\n",
      "Collecting joblib (from sacremoses)\n",
      "  Downloading joblib-1.3.2-py3-none-any.whl.metadata (5.4 kB)\n",
      "Requirement already satisfied: tqdm in /opt/conda/lib/python3.11/site-packages (from sacremoses) (4.66.1)\n",
      "Downloading sacremoses-0.1.1-py3-none-any.whl (897 kB)\n",
      "\u001b[2K   \u001b[90m━━━━━━━━━━━━━━━━━━━━━━━━━━━━━━━━━━━━━━━━\u001b[0m \u001b[32m897.5/897.5 kB\u001b[0m \u001b[31m93.9 MB/s\u001b[0m eta \u001b[36m0:00:00\u001b[0m\n",
      "\u001b[?25hDownloading click-8.1.7-py3-none-any.whl (97 kB)\n",
      "\u001b[2K   \u001b[90m━━━━━━━━━━━━━━━━━━━━━━━━━━━━━━━━━━━━━━━━\u001b[0m \u001b[32m97.9/97.9 kB\u001b[0m \u001b[31m56.1 MB/s\u001b[0m eta \u001b[36m0:00:00\u001b[0m\n",
      "\u001b[?25hDownloading joblib-1.3.2-py3-none-any.whl (302 kB)\n",
      "\u001b[2K   \u001b[90m━━━━━━━━━━━━━━━━━━━━━━━━━━━━━━━━━━━━━━━\u001b[0m \u001b[32m302.2/302.2 kB\u001b[0m \u001b[31m143.3 MB/s\u001b[0m eta \u001b[36m0:00:00\u001b[0m\n",
      "\u001b[?25hInstalling collected packages: joblib, click, sacremoses\n",
      "Successfully installed click-8.1.7 joblib-1.3.2 sacremoses-0.1.1\n"
     ]
    }
   ],
   "source": [
    "!pip3 install sacremoses"
   ]
  },
  {
   "cell_type": "code",
   "execution_count": null,
   "id": "cd1efdc2-ba10-40ff-b03d-02cf4656631f",
   "metadata": {},
   "outputs": [],
   "source": [
    "!pip3 install torch"
   ]
  },
  {
   "cell_type": "code",
   "execution_count": null,
   "id": "cd25edb0-6464-45f9-ac3f-9a024ecd267b",
   "metadata": {},
   "outputs": [],
   "source": [
    "!pip3 install transformers pandas numpy"
   ]
  },
  {
   "cell_type": "code",
   "execution_count": 18,
   "id": "bee505fd-b32d-466d-bef8-2774dac7ad08",
   "metadata": {},
   "outputs": [],
   "source": [
    "import torch\n",
    "from transformers import AutoTokenizer, AutoModelForSeq2SeqLM\n",
    "import datetime\n",
    "\n",
    "tokenizer = AutoTokenizer.from_pretrained(\"Helsinki-NLP/opus-mt-uk-ru\")\n",
    "\n",
    "model = AutoModelForSeq2SeqLM.from_pretrained(\"Helsinki-NLP/opus-mt-uk-ru\").to('cuda')\n",
    "# model = AutoModelForSeq2SeqLM.from_pretrained(\"Helsinki-NLP/opus-mt-uk-ru\")\n",
    "\n",
    "\n",
    "def trans(text):\n",
    "        inputs = tokenizer(text, return_tensors=\"pt\", truncation=True)\n",
    "        translation_ids = model.generate(**inputs)\n",
    "        translation_text = tokenizer.batch_decode(translation_ids, skip_special_tokens=True)[0]\n",
    "        print(datetime.datetime.now())\n",
    "        return translation_text\n",
    "\n",
    "def split_string_into_chunks(input_string, chunk_size):\n",
    "    return [input_string[i:i+chunk_size + 25] for i in range(0, len(input_string), chunk_size)]\n",
    "\n",
    "\n",
    "def read_file(file_path, chunk_size: int = 1500):\n",
    "    with open(file_path, 'r', encoding='utf-8') as file:\n",
    "        content = file.read()\n",
    "    return split_string_into_chunks(content, chunk_size)\n",
    "\n",
    "\n",
    "def translate_file(input, output):\n",
    "        a = read_file(input)\n",
    "        # tr = [trans(ch) for ch in a]\n",
    "        tr = [translate(ch) for ch in a]\n",
    "        with open(output, 'w') as file:\n",
    "            for line in tr:\n",
    "                file.write(line + '\\n')\n",
    "\n",
    "\n",
    "# translate_file(args[0], args[1])"
   ]
  },
  {
   "cell_type": "code",
   "execution_count": 9,
   "id": "20ec6ec3-a4fd-45dd-b875-036b2d958925",
   "metadata": {},
   "outputs": [],
   "source": [
    "def translate(text):\n",
    "    input_ids = tokenizer(text, return_tensors=\"pt\").input_ids.to(model.device)\n",
    "    \n",
    "    with torch.no_grad():\n",
    "        outputs = model.generate(input_ids=input_ids)\n",
    "    \n",
    "    return tokenizer.decode(outputs[0], skip_special_tokens=True)\n",
    "\n",
    "def translate_batch(texts):\n",
    "    input_ids = tokenizer(texts, return_tensors=\"pt\", padding=True, truncation=True).to(model.device)\n",
    "    \n",
    "    with torch.no_grad():\n",
    "        outputs = model.generate(**input_ids)\n",
    "    \n",
    "    return tokenizer.batch_decode(outputs, skip_special_tokens=True)"
   ]
  },
  {
   "cell_type": "code",
   "execution_count": 12,
   "id": "71843a74-ac85-49a5-bc15-0fb334d7f72c",
   "metadata": {},
   "outputs": [],
   "source": [
    "def batch(iterable, n=1):\n",
    "    l = len(iterable)\n",
    "    for ndx in range(0, l, n):\n",
    "        yield iterable[ndx:min(ndx + n, l)]"
   ]
  },
  {
   "cell_type": "code",
   "execution_count": 17,
   "id": "cbe31bef-438b-48bf-80f7-859feec21330",
   "metadata": {},
   "outputs": [],
   "source": [
    "import pandas as pd"
   ]
  },
  {
   "cell_type": "code",
   "execution_count": null,
   "id": "adeeea96-1e6c-43b0-ab77-f83cba434b7c",
   "metadata": {},
   "outputs": [],
   "source": []
  },
  {
   "cell_type": "code",
   "execution_count": 16,
   "id": "4e0eed22-a0e9-432d-9716-c1accc6a99ba",
   "metadata": {},
   "outputs": [
    {
     "ename": "NameError",
     "evalue": "name 'df' is not defined",
     "output_type": "error",
     "traceback": [
      "\u001b[0;31m---------------------------------------------------------------------------\u001b[0m",
      "\u001b[0;31mNameError\u001b[0m                                 Traceback (most recent call last)",
      "Cell \u001b[0;32mIn[16], line 4\u001b[0m\n\u001b[1;32m      1\u001b[0m bs \u001b[38;5;241m=\u001b[39m \u001b[38;5;241m16\u001b[39m\n\u001b[1;32m      2\u001b[0m \u001b[38;5;28;01mfrom\u001b[39;00m \u001b[38;5;21;01mtqdm\u001b[39;00m \u001b[38;5;28;01mimport\u001b[39;00m tqdm\n\u001b[1;32m      3\u001b[0m \u001b[38;5;28;01mfor\u001b[39;00m chunk \u001b[38;5;129;01min\u001b[39;00m tqdm(\n\u001b[0;32m----> 4\u001b[0m     batch(\u001b[43mdf\u001b[49m[\u001b[38;5;124m'\u001b[39m\u001b[38;5;124mtgt_abs\u001b[39m\u001b[38;5;124m'\u001b[39m]\u001b[38;5;241m.\u001b[39mtolist(), bs),\n\u001b[1;32m      5\u001b[0m     total\u001b[38;5;241m=\u001b[39m\u001b[38;5;28mlen\u001b[39m(df[\u001b[38;5;124m'\u001b[39m\u001b[38;5;124mtgt_abs\u001b[39m\u001b[38;5;124m'\u001b[39m]) \u001b[38;5;241m/\u001b[39m\u001b[38;5;241m/\u001b[39m bs\n\u001b[1;32m      6\u001b[0m ):\n\u001b[1;32m      7\u001b[0m     translate_batch(chunk)\n\u001b[1;32m      8\u001b[0m     torch\u001b[38;5;241m.\u001b[39mcuda\u001b[38;5;241m.\u001b[39mempty_cache()\n",
      "\u001b[0;31mNameError\u001b[0m: name 'df' is not defined"
     ]
    }
   ],
   "source": [
    "bs = 16\n",
    "from tqdm import tqdm\n",
    "import df \n",
    "for chunk in tqdm(\n",
    "    batch(df['tgt_abs'].tolist(), bs),\n",
    "    total=len(df['tgt_abs']) // bs\n",
    "):\n",
    "    translate_batch(chunk)\n",
    "    torch.cuda.empty_cache()"
   ]
  },
  {
   "cell_type": "code",
   "execution_count": 19,
   "id": "a243e29d-cfd6-45d3-90f2-dc220988045e",
   "metadata": {},
   "outputs": [],
   "source": [
    "translate_file('aref.doc.txt.head', 'aref.doc.txt.head.tr')"
   ]
  },
  {
   "cell_type": "code",
   "execution_count": null,
   "id": "6dabaf1e-0f3e-4a4a-8a68-7475743f0d94",
   "metadata": {},
   "outputs": [],
   "source": []
  }
 ],
 "metadata": {
  "kernelspec": {
   "display_name": "Python 3 (ipykernel)",
   "language": "python",
   "name": "python3"
  },
  "language_info": {
   "codemirror_mode": {
    "name": "ipython",
    "version": 3
   },
   "file_extension": ".py",
   "mimetype": "text/x-python",
   "name": "python",
   "nbconvert_exporter": "python",
   "pygments_lexer": "ipython3",
   "version": "3.11.6"
  }
 },
 "nbformat": 4,
 "nbformat_minor": 5
}
