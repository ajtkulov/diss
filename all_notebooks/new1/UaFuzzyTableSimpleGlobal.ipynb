{
 "cells": [
  {
   "cell_type": "code",
   "execution_count": 3,
   "metadata": {},
   "outputs": [
    {
     "name": "stdout",
     "output_type": "stream",
     "text": [
      "Compiling /home/jovyan/data/(console)\n",
      "Compiling /home/jovyan/data/(console)\n"
     ]
    }
   ],
   "source": [
    "repl.load(os.read(os.pwd/'git/'src/'main/'scala/\"import.sc\"))\n",
    "repl.load(os.read(os.pwd/'git/'src/'main/'scala/\"a.scala\"))\n"
   ]
  },
  {
   "cell_type": "code",
   "execution_count": 4,
   "metadata": {},
   "outputs": [
    {
     "data": {
      "text/plain": [
       "\u001b[32mimport \u001b[39m\u001b[36mDiss._\u001b[39m\n",
       "\u001b[32mimport \u001b[39m\u001b[36mUaMeta._\u001b[39m"
      ]
     },
     "execution_count": 4,
     "metadata": {},
     "output_type": "execute_result"
    }
   ],
   "source": [
    "import Diss._\n",
    "import UaMeta._"
   ]
  },
  {
   "cell_type": "code",
   "execution_count": 5,
   "metadata": {},
   "outputs": [
    {
     "data": {
      "text/plain": [
       "\u001b[36mbadFiles\u001b[39m: \u001b[32mSet\u001b[39m[(\u001b[32mString\u001b[39m, \u001b[32mString\u001b[39m)] = \u001b[32m[lazy]\u001b[39m\n",
       "defined \u001b[32mfunction\u001b[39m \u001b[36mextractNumSimple3\u001b[39m\n",
       "defined \u001b[32mfunction\u001b[39m \u001b[36muaFileHandleToNum\u001b[39m\n",
       "defined \u001b[32mfunction\u001b[39m \u001b[36mgetDirPath\u001b[39m\n",
       "defined \u001b[32mfunction\u001b[39m \u001b[36mreadById\u001b[39m\n",
       "defined \u001b[32mfunction\u001b[39m \u001b[36muaReadBy1000\u001b[39m"
      ]
     },
     "execution_count": 5,
     "metadata": {},
     "output_type": "execute_result"
    }
   ],
   "source": [
    "  lazy val badFiles: Set[(String, String)] =\n",
    "    scala.io.Source.fromFile(\"all.ban\", \"UTF-8\").getLines.map { line =>\n",
    "      val split = line.split(\"\\t\")\n",
    "      split.head -> split(1)\n",
    "    }.toSet\n",
    "\n",
    "\n",
    "  def extractNumSimple3(str: String): List[String] = {\n",
    "    if (str.count(_ == 177.toChar) <= 4) {\n",
    "      val main: String = str.replaceAll(\"[.,]\", \"\").map(c => if (c.isDigit) c else ' ')\n",
    "      val list = main.split(\" \").filter(_.nonEmpty)\n",
    "            val filter: Array[String] = list.filter { n =>\n",
    "        n match {\n",
    "          case _ if n.startsWith(\"0\") => true\n",
    "          case _ if !n.startsWith(\"0\") && n.length <= 4 && n.toInt <= 200 => false\n",
    "          case _ if !n.startsWith(\"0\") && n.length <= 4 && n.toInt >= 1900 && n.toInt <= 2024 => false\n",
    "          case _ => true\n",
    "        }\n",
    "      }\n",
    "\n",
    "      filter.sliding(3, 1).map(t => t.mkString(\"/\")).toList\n",
    "    } else {\n",
    "      Nil\n",
    "    }\n",
    "  }\n",
    "\n",
    "  def uaFileHandleToNum(work: String): List[(List[String], Int)] = {\n",
    "    import scala.util.Try\n",
    "    val numbers: List[(List[String], Int)] = Try {\n",
    "\n",
    "      val a = work.split(12.toChar)\n",
    "\n",
    "      val zip: Array[(String, Int)] = a.zipWithIndex\n",
    "\n",
    "      val sub: List[(String, Int)] = zip.toList.sliding(3).toList.flatMap { array =>\n",
    "        if (array(1)._1.toUpperCase.contains(\"ТАБЛИЦ\")) {\n",
    "          array\n",
    "        } else {\n",
    "          List.empty\n",
    "        }\n",
    "      }.distinct.sortBy(_._2)\n",
    "\n",
    "      val res: List[(List[String], Int)] = sub.map(x => (extractNumSimple3(x._1), x._2))\n",
    "\n",
    "      res.filter(_._1.size >= 8)\n",
    "    }.getOrElse(List())\n",
    "\n",
    "    numbers\n",
    "  }\n",
    "\n",
    "  def getDirPath(id: String): String = {\n",
    "    s\"txt/${id.takeRight(3).toInt}/$id/\"\n",
    "  }\n",
    "\n",
    "  def readById(id: String): String = {\n",
    "    val dir = getDirPath(id)\n",
    "    val all: Vector[String] = FileUtils.traverse(dir).filter(_.endsWith(\".txt\")).filterNot(x => isAutoRefUA(x)).filterNot(x => badFiles.contains(id -> x.split(\"/\").last)).map(read)\n",
    "    all.mkString(12.toChar.toString)\n",
    "  }\n",
    "\n",
    "  def uaReadBy1000(id: Int) = {\n",
    "    val iter: Iterator[String] = uaMetaVec.filter(x => x.id.takeRight(3).toInt == id).iterator.flatMap { meta =>\n",
    "      val work = readById(meta.id)\n",
    "\n",
    "      val tables: List[(List[String], Int)] = uaFileHandleToNum(work)\n",
    "\n",
    "      val numUaId: Int = idUaRevMap(meta.id)\n",
    "\n",
    "      tables.flatMap { case (pageNumbers, page) =>\n",
    "        pageNumbers.map { pmNumber =>\n",
    "          s\"$pmNumber\\tU${numUaId}:${page}\"\n",
    "        }\n",
    "      }\n",
    "    }\n",
    "\n",
    "    FileUtils.write(s\"uaPM$id.st\", iter)\n",
    "  }\n"
   ]
  },
  {
   "cell_type": "code",
   "execution_count": 6,
   "metadata": {},
   "outputs": [],
   "source": [
    "uaReadBy1000(0)"
   ]
  },
  {
   "cell_type": "code",
   "execution_count": 7,
   "metadata": {},
   "outputs": [],
   "source": [
    "(1 to 999).toVector.par.foreach(x => uaReadBy1000(x))"
   ]
  },
  {
   "cell_type": "code",
   "execution_count": 8,
   "metadata": {},
   "outputs": [
    {
     "data": {
      "text/plain": [
       "defined \u001b[32mfunction\u001b[39m \u001b[36mrufileHandleToNum\u001b[39m\n",
       "defined \u001b[32mfunction\u001b[39m \u001b[36mruDirHandle\u001b[39m"
      ]
     },
     "execution_count": 8,
     "metadata": {},
     "output_type": "execute_result"
    }
   ],
   "source": [
    "  def rufileHandleToNum(fileName: String): List[(List[String], Int)] = {\n",
    "    val bibList = List[String](\n",
    "      \"СПИСОК ЛИТЕРАТУРЫ\", \"СПИСОК ИСПОЛЬЗОВАННОЙ\", \"СПИСОК ИСПОЛЬЗУЕМОЙ\", \"СПИСОКЛИТЕРАТУРЫ\", \"УКАЗАТЕЛЬ ЛИТЕРАТУРЫ\",\n",
    "      \"СПИСОК ЦИТИРУЕМОЙ\", \"ИСПОЛЬЗОВАННАЯ ЛИТЕРАТУРА\", \"БИБЛИОГРАФИЧЕСКИЙ СПИСОК\", \"СПИСОК ИСПОЛЬЗОВАННЫХ\",\n",
    "      \"БИБЛИОГРАФИЧЕСКИЙ\", \"БИБЛИОГРАФИЯ\", \"СПИСОК ИСТОЧНИКОВ\", \"ЛИТЕРАТУРА\")\n",
    "\n",
    "    val endList = List[String](\"ВЫВОДЫ\", \"ЗАКЛЮЧЕНИЕ\")\n",
    "\n",
    "    import scala.util.Try\n",
    "    val numbers: List[(List[String], Int)] = Try {\n",
    "\n",
    "      val a: Array[String] = {\n",
    "        import java.io._\n",
    "        val br = new BufferedReader(new InputStreamReader(\n",
    "          new FileInputStream(fileName), \"UTF-8\"))\n",
    "        val res = br.lines().toArray.toList.map(_.toString).mkString(\" \").split(12.toChar)\n",
    "        br.close()\n",
    "        res\n",
    "      }\n",
    "\n",
    "      val zip: Array[(String, Int)] = a.zipWithIndex\n",
    "      val rev = zip.reverse\n",
    "\n",
    "      val bib: Option[Int] = rev.take((rev.size * 3 / 4).toInt).find { case (str, _) =>\n",
    "        val list = str.take(100).toUpperCase.filter(x => x.isLetter || x == ' ').split(\" \").filter(_.nonEmpty)\n",
    "        val head = list.mkString(\" \")\n",
    "        bibList.exists(prefix => head.startsWith(prefix))\n",
    "      }.map(_._2)\n",
    "\n",
    "      val end: Option[Int] = rev.take((rev.size * 3 / 4).toInt).find { case (str, _) =>\n",
    "        val list = str.take(100).toUpperCase.filter(x => x.isLetter || x == ' ').split(\" \").filter(_.nonEmpty)\n",
    "        val head = list.mkString(\" \")\n",
    "        endList.exists(prefix => head.startsWith(prefix))\n",
    "      }.map(_._2)\n",
    "\n",
    "      val endPos = (bib, end) match {\n",
    "        case (Some(b), Some(e)) => scala.math.min(b, e)\n",
    "        case (None, Some(e)) => e\n",
    "        case (Some(b), None) => b\n",
    "        case _ => a.size - 10\n",
    "      }\n",
    "\n",
    "      val sub: List[(String, Int)] = zip.toList.slice(30, endPos).sliding(3).toList.flatMap { array =>\n",
    "        if (array(1)._1.toUpperCase.contains(\"ТАБЛИЦ\")) {\n",
    "          array\n",
    "        } else {\n",
    "          List.empty\n",
    "        }\n",
    "      }.distinct.sortBy(_._2)\n",
    "\n",
    "      val res: List[(List[String], Int)] = sub.map(x => (extractNumSimple3(x._1), x._2))\n",
    "\n",
    "      res.filter(_._1.size >= 10)\n",
    "    }.getOrElse(List())\n",
    "\n",
    "    numbers\n",
    "  }\n",
    "\n",
    "\n",
    "  def ruDirHandle(id: Int): Unit = {\n",
    "    val iter = FileUtils.traverse(s\"data/d/$id\").iterator.flatMap { fileName =>\n",
    "      val i = fileName.split(\"/\").last\n",
    "      val rgbId: Int = all(i)\n",
    "\n",
    "      val tables: List[(List[String], Int)] = rufileHandleToNum(fileName)\n",
    "\n",
    "      tables.flatMap { case (pageNumbers, page) =>\n",
    "        pageNumbers.map { pmNumber =>\n",
    "          s\"$pmNumber\\tD${rgbId}:${page}\"\n",
    "        }\n",
    "      }\n",
    "    }\n",
    "\n",
    "    FileUtils.write(s\"rust$id.st\", iter)\n",
    "  }\n"
   ]
  },
  {
   "cell_type": "code",
   "execution_count": 9,
   "metadata": {},
   "outputs": [],
   "source": [
    "ruDirHandle(0)"
   ]
  },
  {
   "cell_type": "code",
   "execution_count": 10,
   "metadata": {},
   "outputs": [],
   "source": [
    "(1 to 999).toVector.par.foreach(x => ruDirHandle(x))"
   ]
  },
  {
   "cell_type": "code",
   "execution_count": 11,
   "metadata": {},
   "outputs": [
    {
     "data": {
      "text/plain": [
       "\u001b[36miter\u001b[39m: \u001b[32mIterator\u001b[39m[\u001b[32mString\u001b[39m] = \u001b[32mempty iterator\u001b[39m"
      ]
     },
     "execution_count": 11,
     "metadata": {},
     "output_type": "execute_result"
    }
   ],
   "source": [
    "  val iter = GroupIterator[String, String, Vector[String]](scala.io.Source.fromFile(\"st.all.sort.st\").getLines, x => {\n",
    "    val split = x.split(\"\\t\")\n",
    "    split.head -> Vector(split.last)\n",
    "  }, _ ++ _).filter(x => x._2.size >= 2 && x._2.size <= 50).map {\n",
    "    case (head, vector) => s\"$head\\t${vector.mkString(\"\\t\")}\"\n",
    "  }\n",
    "\n",
    "  FileUtils.write(\"st.all.grouped.st\", iter)\n"
   ]
  },
  {
   "cell_type": "code",
   "execution_count": 12,
   "metadata": {},
   "outputs": [
    {
     "data": {
      "text/plain": [
       "\u001b[36miter\u001b[39m: \u001b[32mIterator\u001b[39m[\u001b[32mString\u001b[39m] = \u001b[32mempty iterator\u001b[39m"
      ]
     },
     "execution_count": 12,
     "metadata": {},
     "output_type": "execute_result"
    }
   ],
   "source": [
    "    val iter = scala.io.Source.fromFile(\"st.all.sort.st\").getLines.map { line =>\n",
    "      line.split(\"\\t\").reverse.mkString(\"\\t\")\n",
    "    }\n",
    "\n",
    "    FileUtils.write(\"st.all.sort.rev.st\", iter)\n"
   ]
  },
  {
   "cell_type": "code",
   "execution_count": null,
   "metadata": {},
   "outputs": [],
   "source": [
    "  case class PMTableSource(source: String) {\n",
    "    def isRuDiss: Boolean = source.head == 'D'\n",
    "\n",
    "    def isUaDiss: Boolean = source.head == 'U'\n",
    "\n",
    "    def id: Int = source.split(\":\").head.drop(1).toInt\n",
    "\n",
    "    def page: Int = source.split(\":\").last.toInt\n",
    "\n",
    "    def year: Int = {\n",
    "      if (isUaDiss) {\n",
    "        getUaMetaById(id).year\n",
    "      } else {\n",
    "        scala.util.Try {\n",
    "          getDissMeta(id).year.toInt\n",
    "        }.getOrElse(2023)\n",
    "      }\n",
    "    }\n",
    "\n",
    "    def ruMeta: MetaData2 = getDissMeta(id)\n",
    "\n",
    "    def uaMeta: UaMeta = getUaMetaById(id)\n",
    "  }\n",
    "\n",
    "  case class PMTable(source: PMTableSource, numbers: Vector[String]) {}\n",
    "\n",
    "  lazy val inverseIndex: Map[String, Vector[PMTableSource]] = scala.io.Source.fromFile(\"st.all.grouped.st\").getLines.map { line =>\n",
    "    val split = line.split(\"\\t\")\n",
    "    split.head -> split.drop(1).toVector.map(PMTableSource.apply)\n",
    "  }.toMap.withDefaultValue(Vector.empty)\n",
    "\n",
    "\n",
    "  lazy val pmTables: Vector[PMTable] = GroupIterator[String, String, Vector[String]](scala.io.Source.fromFile(\"st.all.byWork.st\").getLines, x => {\n",
    "    val split = x.split(\"\\t\")\n",
    "    split.head -> Vector(split.last)\n",
    "  }, _ ++ _).map { case (source, numbers) => PMTable(PMTableSource(source), numbers)\n",
    "  }.toVector\n",
    "\n",
    "  lazy val pmTablesMap: Map[PMTableSource, PMTable] = pmTables.map { table =>\n",
    "    table.source -> table\n",
    "  }.toMap\n"
   ]
  },
  {
   "cell_type": "code",
   "execution_count": null,
   "metadata": {},
   "outputs": [],
   "source": [
    "  def findCandidates(table: PMTable): Vector[PMTable] = {\n",
    "    val mainYear = table.source.year\n",
    "    val sources: Vector[PMTableSource] = table.numbers.flatMap(number => inverseIndex(number)).filter(_.isUaDiss).filter(x => mainYear >= x.year)\n",
    "\n",
    "    val options: Vector[PMTableSource] = sources.groupBy(identity).mapValues(_.size).filter(_._2 >= 6).toVector.take(5).map(_._1)\n",
    "\n",
    "    options.flatMap { opt =>\n",
    "      pmTablesMap.get(opt)\n",
    "    }\n",
    "  }\n",
    "\n",
    "\n",
    "  def splitPair(value: String): (String, String, String) = {\n",
    "    val split = value.split(\"/\")\n",
    "    (split.head, split(1), split.last)\n",
    "  }\n",
    "\n",
    "\n",
    "  def comparePair(fst: String, snd: String): Boolean = {\n",
    "    val (fa, fb, fc) = splitPair(fst)\n",
    "    val (sa, sb, sc) = splitPair(snd)\n",
    "\n",
    "\n",
    "    val lev1 = editDist(fa, sa)\n",
    "    val lev2 = editDist(fb, sb)\n",
    "    val lev3 = editDist(fc, sc)\n",
    "\n",
    "\n",
    "    (fst, snd, lev1, lev2, lev3) match {\n",
    "      case (f, s, l1, l2, l3) if l1 + l2 + l3 <= 1 => true\n",
    "      case _ => false\n",
    "    }\n",
    "  }\n",
    "\n",
    "  def similarity(list: Seq[(Int, Int)]): Double = {\n",
    "    val s = list.sortBy(_._1).toVector\n",
    "    var res = 0\n",
    "    for {i <- s.indices\n",
    "         j <- i + 1 until s.size\n",
    "         if s(i)._2 > s(j)._2\n",
    "         } {\n",
    "      res = res + 1\n",
    "    }\n",
    "\n",
    "    1 - (res.toDouble / (s.size * s.size))\n",
    "  }\n",
    "\n",
    "  def similarityLinear(list: Seq[(Int, Int)]): Double = {\n",
    "    val s = list.sortBy(_._1).toVector\n",
    "    var res = 0\n",
    "    for {i <- 0 until s.size - 2\n",
    "         if s(i)._2 > s(i + 1)._2\n",
    "         } {\n",
    "      res = res + 1\n",
    "    }\n",
    "\n",
    "    1 - (res.toDouble / (s.size - 1))\n",
    "  }\n",
    "\n",
    "\n",
    "  def compareTwoTables(fst: Vector[String], snd: Vector[String]): (Int, Int, Int, Int, Double, Double, Int, Int, Int, Int) = {\n",
    "    val fstU = fst.zipWithIndex\n",
    "    val sndSet = snd.toSet\n",
    "    val sndZip = snd.zipWithIndex\n",
    "\n",
    "    val fuzzy: Vector[(Int, Int)] = fstU.filter(x => !sndSet.contains(x._1)).flatMap {\n",
    "      f => sndZip.find(s => comparePair(f._1, s._1)).map(s => (f._2, s._2))\n",
    "    }\n",
    "\n",
    "    val eq: Vector[(Int, Int)] = fstU.filter { case (f, idx) =>\n",
    "      sndSet.contains(f)\n",
    "    }.flatMap(f => sndZip.find(x => f._1 == x._1).map(x => (f._2, x._2)))\n",
    "\n",
    "    val tuples: Vector[(Int, Int)] = fuzzy ++ eq\n",
    "\n",
    "    val f1 = tuples.map(p => fst(p._1)).distinct.size\n",
    "    val s1 = tuples.map(p => snd(p._2)).distinct.size\n",
    "\n",
    "    (fuzzy.size, eq.size, fst.size, snd.size, similarity(tuples), similarityLinear(tuples), fst.distinct.size, snd.distinct.size, f1, s1)\n",
    "  }\n",
    "\n",
    "  def validate(fst: PMTable, snd: PMTable): Option[(Int, Int, Int, Int, Double, Double, Int, Int, Int, Int, PMTable, PMTable)] = {\n",
    "    val s2 = compareTwoTables(fst.numbers, snd.numbers)\n",
    "    if (s2._1 + s2._2 >= 15 && (s2._1 + s2._2 + 0.1) / s2._3 >= 0.5 && s2._5 >= 0.95) {\n",
    "      Some(s2._1, s2._2, s2._3, s2._4, s2._5, s2._6, s2._7, s2._8, s2._9, s2._10, fst, snd)\n",
    "    } else {\n",
    "      None\n",
    "    }\n",
    "  }\n"
   ]
  },
  {
   "cell_type": "code",
   "execution_count": null,
   "metadata": {},
   "outputs": [],
   "source": [
    "  val pmIter: Iterator[String] = pmTables.filter(_.source.isRuDiss).sortBy(x => x.source.year)(Ordering[Int].reverse).iterator.flatMap { table =>\n",
    "    val candidates: Vector[PMTable] = findCandidates(table)\n",
    "    val options: Vector[(Int, Int, Int, Int, Double, Double, Int, Int, Int, Int, PMTable, PMTable)] = candidates.flatMap(x => validate(table, x))\n",
    "\n",
    "    if (options.nonEmpty) {\n",
    "      val mainMeta = table.source.ruMeta\n",
    "\n",
    "      options.flatMap { case (f, eq, total1, total2, sim, simL, fstUniq, sndUniq, f1, s1, t1, t2) =>\n",
    "        val otherMeta = t2.source.uaMeta\n",
    "        val header = List[String](mainMeta.id, mainMeta.year, mainMeta.toString, otherMeta.id, otherMeta.year.toString, otherMeta.toString)\n",
    "        val list = List[String](\"\", \"\", \"\", \"\", \"\", \"\", \"page: \" + (t1.source.page + 1).toString, \"page: \" + (t2.source.page + 1).toString,\n",
    "                            \"fuzzy: \" + f.toString, \"eq: \" + eq.toString, \"total1: \" + total1.toString, \"total2: \" + total2.toString, \"sim: \" + sim.toString, \"simL:\" + simL.toString, \"fstUniq: \" + fstUniq.toString, \"sndUniq: \" + sndUniq.toString,\n",
    "                            \"dSize1: \" + f1.toString, \"dSize2: \" + s1.toString)\n",
    "        Vector(header.mkString(\"\\t\"), list.mkString(\"\\t\"))\n",
    "      }\n",
    "    } else {\n",
    "      Vector.empty\n",
    "    }\n",
    "  }\n",
    "\n",
    "  FileUtils.write(\"table.simple.UA2RU.csv\", pmIter)\n",
    "\n"
   ]
  },
  {
   "cell_type": "code",
   "execution_count": null,
   "metadata": {},
   "outputs": [],
   "source": [
    "  def findCandidatesRu(table: PMTable): Vector[PMTable] = {\n",
    "    val mainYear = table.source.year\n",
    "    val sources: Vector[PMTableSource] = table.numbers.flatMap(number => inverseIndex(number)).filter(_.isRuDiss).filter(x => mainYear >= x.year)\n",
    "\n",
    "    val options: Vector[PMTableSource] = sources.groupBy(identity).mapValues(_.size).filter(_._2 >= 6).toVector.take(5).map(_._1)\n",
    "\n",
    "    options.flatMap { opt =>\n",
    "      pmTablesMap.get(opt)\n",
    "    }\n",
    "  }\n"
   ]
  },
  {
   "cell_type": "code",
   "execution_count": null,
   "metadata": {},
   "outputs": [],
   "source": [
    "    val pmIter: Iterator[String] = pmTables.filter(_.source.isUaDiss).sortBy(x => x.source.year)(Ordering[Int].reverse).iterator.flatMap { table =>\n",
    "      val candidates: Vector[PMTable] = findCandidatesRu(table)\n",
    "      val options: Vector[(Int, Int, Int, Int, Double, Double, Int, Int, Int, Int, PMTable, PMTable)] = candidates.flatMap(x => validate(table, x))\n",
    "\n",
    "      if (options.nonEmpty) {\n",
    "        val mainMeta = table.source.uaMeta\n",
    "\n",
    "        options.flatMap { case (f, eq, total1, total2, sim, simL, fstUniq, sndUniq, f1, s1, t1, t2) =>\n",
    "          val otherMeta = t2.source.ruMeta\n",
    "          val header = List[String](mainMeta.id, mainMeta.year.toString, mainMeta.toString, otherMeta.id, otherMeta.year.toString, otherMeta.toString)\n",
    "          val list = List[String](\"\", \"\", \"\", \"\", \"\", \"\", \"page: \" + (t1.source.page + 1).toString, \"page: \" + (t2.source.page + 1).toString,\n",
    "            \"fuzzy: \" + f.toString, \"eq: \" + eq.toString, \"total1: \" + total1.toString, \"total2: \" + total2.toString, \"sim: \" + sim.toString, \"simL:\" + simL.toString, \"fstUniq: \" + fstUniq.toString, \"sndUniq: \" + sndUniq.toString,\n",
    "            \"dSize1: \" + f1.toString, \"dSize2: \" + s1.toString)\n",
    "          Vector(header.mkString(\"\\t\"), list.mkString(\"\\t\"))\n",
    "        }\n",
    "      } else {\n",
    "        Vector.empty\n",
    "      }\n",
    "    }\n",
    "\n",
    "    FileUtils.write(\"table.simple.RU2UA.csv\", pmIter)\n"
   ]
  },
  {
   "cell_type": "code",
   "execution_count": null,
   "metadata": {},
   "outputs": [],
   "source": [
    "  def findCandidatesUa(table: PMTable): Vector[PMTable] = {\n",
    "    val mainYear = table.source.year\n",
    "    val sources: Vector[PMTableSource] = table.numbers.flatMap(number => inverseIndex(number)).filter(_.isUaDiss).filter(x => mainYear >= x.year)\n",
    "\n",
    "    val options: Vector[PMTableSource] = sources.groupBy(identity).mapValues(_.size).filter(_._2 >= 6).toVector.take(5).map(_._1)\n",
    "\n",
    "    options.flatMap { opt =>\n",
    "      pmTablesMap.get(opt)\n",
    "    }\n",
    "  }\n"
   ]
  },
  {
   "cell_type": "code",
   "execution_count": null,
   "metadata": {},
   "outputs": [],
   "source": [
    "    val pmIter: Iterator[String] = pmTables.filter(_.source.isUaDiss).sortBy(x => x.source.year)(Ordering[Int].reverse).iterator.flatMap { table =>\n",
    "      val candidates: Vector[PMTable] = findCandidatesUa(table)\n",
    "      val options: Vector[(Int, Int, Int, Int, Double, Double, Int, Int, Int, Int, PMTable, PMTable)] = candidates.flatMap(x => validate(table, x)).filter(x => x._11.source != x._12.source)\n",
    "\n",
    "      if (options.nonEmpty) {\n",
    "        val mainMeta = table.source.uaMeta\n",
    "\n",
    "        options.flatMap { case (f, eq, total1, total2, sim, simL, fstUniq, sndUniq, f1, s1, t1, t2) =>\n",
    "          val otherMeta = t2.source.uaMeta\n",
    "          val header = List[String](mainMeta.id, mainMeta.year.toString, mainMeta.toString, otherMeta.id, otherMeta.year.toString, otherMeta.toString)\n",
    "          val list = List[String](\"\", \"\", \"\", \"\", \"\", \"\", \"page: \" + (t1.source.page + 1).toString, \"page: \" + (t2.source.page + 1).toString,\n",
    "            \"fuzzy: \" + f.toString, \"eq: \" + eq.toString, \"total1: \" + total1.toString, \"total2: \" + total2.toString, \"sim: \" + sim.toString, \"simL:\" + simL.toString, \"fstUniq: \" + fstUniq.toString, \"sndUniq: \" + sndUniq.toString,\n",
    "            \"dSize1: \" + f1.toString, \"dSize2: \" + s1.toString)\n",
    "          Vector(header.mkString(\"\\t\"), list.mkString(\"\\t\"))\n",
    "        }\n",
    "      } else {\n",
    "        Vector.empty\n",
    "      }\n",
    "    }\n",
    "\n",
    "    FileUtils.write(\"table.simple.UA2UA.csv\", pmIter)\n"
   ]
  },
  {
   "cell_type": "code",
   "execution_count": null,
   "metadata": {},
   "outputs": [],
   "source": []
  }
 ],
 "metadata": {
  "kernelspec": {
   "display_name": "Scala 2.12",
   "language": "scala",
   "name": "scala212"
  },
  "language_info": {
   "codemirror_mode": "text/x-scala",
   "file_extension": ".sc",
   "mimetype": "text/x-scala",
   "name": "scala",
   "nbconvert_exporter": "script",
   "version": "2.12.18"
  }
 },
 "nbformat": 4,
 "nbformat_minor": 4
}
