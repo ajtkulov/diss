{
 "cells": [
  {
   "cell_type": "code",
   "execution_count": 3,
   "id": "157a0d7b-1ef4-436c-92b4-f79675bbfb0d",
   "metadata": {},
   "outputs": [
    {
     "name": "stdout",
     "output_type": "stream",
     "text": [
      "Compiling /home/jovyan/data/(console)\n",
      "Compiling /home/jovyan/data/(console)\n"
     ]
    }
   ],
   "source": [
    "repl.load(os.read(os.pwd/'git/'src/'main/'scala/\"import.sc\"))\n",
    "repl.load(os.read(os.pwd/'git/'src/'main/'scala/\"a.scala\"))"
   ]
  },
  {
   "cell_type": "code",
   "execution_count": 4,
   "id": "efc9194e-168a-4a0c-a64a-2ce3c2e78535",
   "metadata": {},
   "outputs": [
    {
     "data": {
      "text/plain": [
       "\u001b[32mimport \u001b[39m\u001b[36mDiss._\u001b[39m\n",
       "\u001b[32mimport \u001b[39m\u001b[36mUaMeta._\u001b[39m\n",
       "\u001b[32mimport \u001b[39m\u001b[36mFileUtils._\u001b[39m"
      ]
     },
     "execution_count": 4,
     "metadata": {},
     "output_type": "execute_result"
    }
   ],
   "source": [
    "import Diss._\n",
    "import UaMeta._\n",
    "import FileUtils._"
   ]
  },
  {
   "cell_type": "code",
   "execution_count": 5,
   "id": "67e99bcc-d42b-4173-b629-4a8931c3bff5",
   "metadata": {},
   "outputs": [
    {
     "data": {
      "text/plain": [
       "\u001b[36mgrouped\u001b[39m: \u001b[32mVector\u001b[39m[(\u001b[32mInt\u001b[39m, \u001b[32mInt\u001b[39m)] = \u001b[33mVector\u001b[39m(\n",
       "  (\u001b[32m1995\u001b[39m, \u001b[32m1\u001b[39m),\n",
       "  (\u001b[32m1996\u001b[39m, \u001b[32m3\u001b[39m),\n",
       "  (\u001b[32m1997\u001b[39m, \u001b[32m23\u001b[39m),\n",
       "  (\u001b[32m1998\u001b[39m, \u001b[32m67\u001b[39m),\n",
       "  (\u001b[32m1999\u001b[39m, \u001b[32m237\u001b[39m),\n",
       "  (\u001b[32m2000\u001b[39m, \u001b[32m565\u001b[39m),\n",
       "  (\u001b[32m2001\u001b[39m, \u001b[32m1202\u001b[39m),\n",
       "  (\u001b[32m2002\u001b[39m, \u001b[32m4421\u001b[39m),\n",
       "  (\u001b[32m2003\u001b[39m, \u001b[32m3705\u001b[39m),\n",
       "  (\u001b[32m2004\u001b[39m, \u001b[32m5625\u001b[39m),\n",
       "  (\u001b[32m2005\u001b[39m, \u001b[32m5714\u001b[39m),\n",
       "  (\u001b[32m2006\u001b[39m, \u001b[32m6041\u001b[39m),\n",
       "  (\u001b[32m2007\u001b[39m, \u001b[32m6089\u001b[39m),\n",
       "  (\u001b[32m2008\u001b[39m, \u001b[32m6530\u001b[39m),\n",
       "  (\u001b[32m2009\u001b[39m, \u001b[32m6933\u001b[39m),\n",
       "  (\u001b[32m2010\u001b[39m, \u001b[32m7617\u001b[39m),\n",
       "  (\u001b[32m2011\u001b[39m, \u001b[32m8441\u001b[39m),\n",
       "  (\u001b[32m2012\u001b[39m, \u001b[32m8177\u001b[39m),\n",
       "  (\u001b[32m2013\u001b[39m, \u001b[32m8693\u001b[39m),\n",
       "  (\u001b[32m2014\u001b[39m, \u001b[32m7215\u001b[39m),\n",
       "  (\u001b[32m2015\u001b[39m, \u001b[32m7867\u001b[39m),\n",
       "  (\u001b[32m2016\u001b[39m, \u001b[32m6887\u001b[39m),\n",
       "  (\u001b[32m2017\u001b[39m, \u001b[32m5770\u001b[39m),\n",
       "  (\u001b[32m2018\u001b[39m, \u001b[32m5801\u001b[39m),\n",
       "  (\u001b[32m2019\u001b[39m, \u001b[32m5461\u001b[39m),\n",
       "  (\u001b[32m2020\u001b[39m, \u001b[32m4275\u001b[39m),\n",
       "  (\u001b[32m2021\u001b[39m, \u001b[32m8533\u001b[39m),\n",
       "  (\u001b[32m2022\u001b[39m, \u001b[32m882\u001b[39m),\n",
       "  (\u001b[32m2023\u001b[39m, \u001b[32m1421\u001b[39m),\n",
       "  (\u001b[32m2024\u001b[39m, \u001b[32m15\u001b[39m)\n",
       ")"
      ]
     },
     "execution_count": 5,
     "metadata": {},
     "output_type": "execute_result"
    }
   ],
   "source": [
    "val grouped = uaMetaVec.groupBy(_.year).mapValues(_.size).toVector.sortBy(_._1)"
   ]
  },
  {
   "cell_type": "code",
   "execution_count": null,
   "id": "2366aeeb-916b-4015-a715-e5762ae8e8a5",
   "metadata": {},
   "outputs": [],
   "source": []
  }
 ],
 "metadata": {
  "kernelspec": {
   "display_name": "Scala 2.12",
   "language": "scala",
   "name": "scala212"
  },
  "language_info": {
   "codemirror_mode": "text/x-scala",
   "file_extension": ".sc",
   "mimetype": "text/x-scala",
   "name": "scala",
   "nbconvert_exporter": "script",
   "version": "2.12.18"
  }
 },
 "nbformat": 4,
 "nbformat_minor": 5
}
