{
 "cells": [
  {
   "cell_type": "code",
   "execution_count": 3,
   "id": "d7064e49-9889-47b5-bf00-03d5a4a58057",
   "metadata": {},
   "outputs": [
    {
     "name": "stdout",
     "output_type": "stream",
     "text": [
      "Compiling /home/jovyan/data/(console)\n",
      "Compiling /home/jovyan/data/(console)\n"
     ]
    }
   ],
   "source": [
    "repl.load(os.read(os.pwd/'git/'src/'main/'scala/\"import.sc\"))\n",
    "repl.load(os.read(os.pwd/'git/'src/'main/'scala/\"a.scala\"))"
   ]
  },
  {
   "cell_type": "code",
   "execution_count": 4,
   "id": "7171b945-e6b8-4c25-9512-0a803a5b6fd6",
   "metadata": {},
   "outputs": [
    {
     "data": {
      "text/plain": [
       "\u001b[32mimport \u001b[39m\u001b[36mDiss._\u001b[39m\n",
       "\u001b[32mimport \u001b[39m\u001b[36mUaMeta._\u001b[39m"
      ]
     },
     "execution_count": 4,
     "metadata": {},
     "output_type": "execute_result"
    }
   ],
   "source": [
    "import Diss._\n",
    "import UaMeta._"
   ]
  },
  {
   "cell_type": "code",
   "execution_count": 5,
   "id": "56435d9e-8b9a-4cf1-abe8-b3ea63c78a12",
   "metadata": {},
   "outputs": [
    {
     "data": {
      "text/plain": [
       "\u001b[32mimport \u001b[39m\u001b[36mFileUtils._\u001b[39m"
      ]
     },
     "execution_count": 5,
     "metadata": {},
     "output_type": "execute_result"
    }
   ],
   "source": [
    "import FileUtils._"
   ]
  },
  {
   "cell_type": "code",
   "execution_count": 6,
   "id": "d2a43792-37c0-42c6-a485-64a589edf89f",
   "metadata": {},
   "outputs": [
    {
     "data": {
      "text/html": [
       "<div class=\"jp-RenderedText\">\n",
       "<pre><code>defined <span style=\"color: rgb(0, 187, 0)\"><span class=\"ansi-green-fg\">function</span></span> <span style=\"color: rgb(0, 187, 187)\"><span class=\"ansi-cyan-fg\">hash</span></span>\n",
       "defined <span style=\"color: rgb(0, 187, 0)\"><span class=\"ansi-green-fg\">function</span></span> <span style=\"color: rgb(0, 187, 187)\"><span class=\"ansi-cyan-fg\">extractUaFromPath</span></span>\n",
       "<span style=\"color: rgb(0, 187, 187)\"><span class=\"ansi-cyan-fg\">autoRefSet</span></span>: <span style=\"color: rgb(0, 187, 0)\"><span class=\"ansi-green-fg\">Set</span></span>[<span style=\"color: rgb(0, 187, 0)\"><span class=\"ansi-green-fg\">String</span></span>] = <span style=\"color: yellow\"><span class=\"ansi-yellow-fg\">Set</span></span>(<span style=\"color: rgb(0, 187, 0)\"><span class=\"ansi-green-fg\">&quot;ref&quot;</span></span>, <span style=\"color: rgb(0, 187, 0)\"><span class=\"ansi-green-fg\">&quot;реферат&quot;</span></span>, <span style=\"color: rgb(0, 187, 0)\"><span class=\"ansi-green-fg\">&quot;avto&quot;</span></span>)\n",
       "defined <span style=\"color: rgb(0, 187, 0)\"><span class=\"ansi-green-fg\">function</span></span> <span style=\"color: rgb(0, 187, 187)\"><span class=\"ansi-cyan-fg\">isAutoRefUA</span></span>\n",
       "defined <span style=\"color: rgb(0, 187, 0)\"><span class=\"ansi-green-fg\">function</span></span> <span style=\"color: rgb(0, 187, 187)\"><span class=\"ansi-cyan-fg\">convertNgUa</span></span>\n",
       "<span style=\"color: rgb(0, 187, 187)\"><span class=\"ansi-cyan-fg\">badFiles</span></span>: <span style=\"color: rgb(0, 187, 0)\"><span class=\"ansi-green-fg\">Set</span></span>[(<span style=\"color: rgb(0, 187, 0)\"><span class=\"ansi-green-fg\">String</span></span>, <span style=\"color: rgb(0, 187, 0)\"><span class=\"ansi-green-fg\">String</span></span>)] = <style>@keyframes fadein { from { opacity: 0; } to { opacity: 1; } }</style><span style=\"animation: fadein 2s;\"><span style=\"color: yellow\"><span class=\"ansi-yellow-fg\">Set</span></span>(\n",
       "  (<span style=\"color: rgb(0, 187, 0)\"><span class=\"ansi-green-fg\">&quot;0514U000833&quot;</span></span>, <span style=\"color: rgb(0, 187, 0)\"><span class=\"ansi-green-fg\">&quot;dis.doc.txt&quot;</span></span>),\n",
       "  (<span style=\"color: rgb(0, 187, 0)\"><span class=\"ansi-green-fg\">&quot;0418U003307&quot;</span></span>, <span style=\"color: rgb(0, 187, 0)\"><span class=\"ansi-green-fg\">&quot;dis Заднєпровська.doc.txt&quot;</span></span>),\n",
       "  (<span style=\"color: rgb(0, 187, 0)\"><span class=\"ansi-green-fg\">&quot;0420U100505&quot;</span></span>, <span style=\"color: rgb(0, 187, 0)\"><span class=\"ansi-green-fg\">&quot;Дисертація_Ібрагим.docx.txt&quot;</span></span>),\n",
       "  (\n",
       "    <span style=\"color: rgb(0, 187, 0)\"><span class=\"ansi-green-fg\">&quot;0410U000823&quot;</span></span>,\n",
       "    <span style=\"color: rgb(0, 187, 0)\"><span class=\"ansi-green-fg\">&quot;дисер+автореф--текст дис 12.03--Дис[1]. Черкашина 11.03.10[1].doc.txt&quot;</span></span>\n",
       "  ),\n",
       "  (<span style=\"color: rgb(0, 187, 0)\"><span class=\"ansi-green-fg\">&quot;0518U000044&quot;</span></span>, <span style=\"color: rgb(0, 187, 0)\"><span class=\"ansi-green-fg\">&quot;Dysser-Shpotyuk.pdf.txt&quot;</span></span>),\n",
       "  (<span style=\"color: rgb(0, 187, 0)\"><span class=\"ansi-green-fg\">&quot;0515U000605&quot;</span></span>, <span style=\"color: rgb(0, 187, 0)\"><span class=\"ansi-green-fg\">&quot;dis Курта С.А..doc.txt&quot;</span></span>),\n",
       "  (<span style=\"color: rgb(0, 187, 0)\"><span class=\"ansi-green-fg\">&quot;0821U100735&quot;</span></span>, <span style=\"color: rgb(0, 187, 0)\"><span class=\"ansi-green-fg\">&quot;Zlenko_diss.pdf.txt&quot;</span></span>),\n",
       "  (<span style=\"color: rgb(0, 187, 0)\"><span class=\"ansi-green-fg\">&quot;0508U000331&quot;</span></span>, <span style=\"color: rgb(0, 187, 0)\"><span class=\"ansi-green-fg\">&quot;Розділ 3.doc.txt&quot;</span></span>),\n",
       "  (<span style=\"color: rgb(0, 187, 0)\"><span class=\"ansi-green-fg\">&quot;0410U003049&quot;</span></span>, <span style=\"color: rgb(0, 187, 0)\"><span class=\"ansi-green-fg\">&quot;disser--dis3.doc.txt&quot;</span></span>),\n",
       "  (<span style=\"color: rgb(0, 187, 0)\"><span class=\"ansi-green-fg\">&quot;0417U001002&quot;</span></span>, <span style=\"color: rgb(0, 187, 0)\"><span class=\"ansi-green-fg\">&quot;dis .doc.txt&quot;</span></span>),\n",
       "  (<span style=\"color: rgb(0, 187, 0)\"><span class=\"ansi-green-fg\">&quot;0419U002578&quot;</span></span>, <span style=\"color: rgb(0, 187, 0)\"><span class=\"ansi-green-fg\">&quot;dis.doc.txt&quot;</span></span>),\n",
       "  (<span style=\"color: rgb(0, 187, 0)\"><span class=\"ansi-green-fg\">&quot;0407U001929&quot;</span></span>, <span style=\"color: rgb(0, 187, 0)\"><span class=\"ansi-green-fg\">&quot;ELENA.doc.txt&quot;</span></span>),\n",
       "  (<span style=\"color: rgb(0, 187, 0)\"><span class=\"ansi-green-fg\">&quot;0507U000152&quot;</span></span>, <span style=\"color: rgb(0, 187, 0)\"><span class=\"ansi-green-fg\">&quot;dis 3.doc.txt&quot;</span></span>),\n",
       "  (<span style=\"color: rgb(0, 187, 0)\"><span class=\"ansi-green-fg\">&quot;0821U100099&quot;</span></span>, <span style=\"color: rgb(0, 187, 0)\"><span class=\"ansi-green-fg\">&quot;dis.doc.txt&quot;</span></span>),\n",
       "  (<span style=\"color: rgb(0, 187, 0)\"><span class=\"ansi-green-fg\">&quot;0512U000112&quot;</span></span>, <span style=\"color: rgb(0, 187, 0)\"><span class=\"ansi-green-fg\">&quot;dis.pdf.txt&quot;</span></span>),\n",
       "  (<span style=\"color: rgb(0, 187, 0)\"><span class=\"ansi-green-fg\">&quot;0420U100433&quot;</span></span>, <span style=\"color: rgb(0, 187, 0)\"><span class=\"ansi-green-fg\">&quot;Дисертація_Савченко О.В..pdf.txt&quot;</span></span>),\n",
       "  (<span style=\"color: rgb(0, 187, 0)\"><span class=\"ansi-green-fg\">&quot;0512U000622&quot;</span></span>, <span style=\"color: rgb(0, 187, 0)\"><span class=\"ansi-green-fg\">&quot;Диссертация Шаповал ВМ--Дис 02052012.doc.txt&quot;</span></span>),\n",
       "  (<span style=\"color: rgb(0, 187, 0)\"><span class=\"ansi-green-fg\">&quot;0420U100302&quot;</span></span>, <span style=\"color: rgb(0, 187, 0)\"><span class=\"ansi-green-fg\">&quot;dis.docx.txt&quot;</span></span>),\n",
       "  (<span style=\"color: rgb(0, 187, 0)\"><span class=\"ansi-green-fg\">&quot;0418U001757&quot;</span></span>, <span style=\"color: rgb(0, 187, 0)\"><span class=\"ansi-green-fg\">&quot;Diss_Grytsenko.pdf.txt&quot;</span></span>),\n",
       "  (<span style=\"color: rgb(0, 187, 0)\"><span class=\"ansi-green-fg\">&quot;0415U001624&quot;</span></span>, <span style=\"color: rgb(0, 187, 0)\"><span class=\"ansi-green-fg\">&quot;dis.doc.txt&quot;</span></span>),\n",
       "  (<span style=\"color: rgb(0, 187, 0)\"><span class=\"ansi-green-fg\">&quot;0521U101520&quot;</span></span>, <span style=\"color: rgb(0, 187, 0)\"><span class=\"ansi-green-fg\">&quot;dis.doc.txt&quot;</span></span>),\n",
       "  (<span style=\"color: rgb(0, 187, 0)\"><span class=\"ansi-green-fg\">&quot;0498U000413&quot;</span></span>, <span style=\"color: rgb(0, 187, 0)\"><span class=\"ansi-green-fg\">&quot;dysertacia.doc.txt&quot;</span></span>),\n",
       "  (<span style=\"color: rgb(0, 187, 0)\"><span class=\"ansi-green-fg\">&quot;0821U100982&quot;</span></span>, <span style=\"color: rgb(0, 187, 0)\"><span class=\"ansi-green-fg\">&quot;dysertatsiia_2021_Pylypenko_Rozrobka_skladu.pdf.txt&quot;</span></span>),\n",
       "  (<span style=\"color: rgb(0, 187, 0)\"><span class=\"ansi-green-fg\">&quot;0404U001102&quot;</span></span>, <span style=\"color: rgb(0, 187, 0)\"><span class=\"ansi-green-fg\">&quot;dys01.doc.txt&quot;</span></span>),\n",
       "  (<span style=\"color: rgb(0, 187, 0)\"><span class=\"ansi-green-fg\">&quot;0418U000072&quot;</span></span>, <span style=\"color: rgb(0, 187, 0)\"><span class=\"ansi-green-fg\">&quot;дисертація_zhuravska_19.11.18_друк.doc.txt&quot;</span></span>),\n",
       "  (<span style=\"color: rgb(0, 187, 0)\"><span class=\"ansi-green-fg\">&quot;0420U100045&quot;</span></span>, <span style=\"color: rgb(0, 187, 0)\"><span class=\"ansi-green-fg\">&quot;дисертація Москальов 28.05.2020.pdf.txt&quot;</span></span>),\n",
       "  (<span style=\"color: rgb(0, 187, 0)\"><span class=\"ansi-green-fg\">&quot;0408U003646&quot;</span></span>, <span style=\"color: rgb(0, 187, 0)\"><span class=\"ansi-green-fg\">&quot;Оксана-дисер-посл.вар..doc.txt&quot;</span></span>),\n",
       "  (\n",
       "    <span style=\"color: rgb(0, 187, 0)\"><span class=\"ansi-green-fg\">&quot;0822U100316&quot;</span></span>,\n",
       "    <span style=\"color: rgb(0, 187, 0)\"><span class=\"ansi-green-fg\">&quot;1_Овчаренко_Метафора і метафоризація_філософсько-антропологічний вимір_14.12.21_остаточн.варіант.pdf.txt&quot;</span></span>\n",
       "  ),\n",
       "  (<span style=\"color: rgb(0, 187, 0)\"><span class=\"ansi-green-fg\">&quot;0823U100716&quot;</span></span>, <span style=\"color: rgb(0, 187, 0)\"><span class=\"ansi-green-fg\">&quot;Dis_Ходирєва.pdf.txt&quot;</span></span>),\n",
       "  (<span style=\"color: rgb(0, 187, 0)\"><span class=\"ansi-green-fg\">&quot;0410U006583&quot;</span></span>, <span style=\"color: rgb(0, 187, 0)\"><span class=\"ansi-green-fg\">&quot;dis.doc.txt&quot;</span></span>),\n",
       "  (<span style=\"color: rgb(0, 187, 0)\"><span class=\"ansi-green-fg\">&quot;0521U100239&quot;</span></span>, <span style=\"color: rgb(0, 187, 0)\"><span class=\"ansi-green-fg\">&quot;Диссертация.pdf.txt&quot;</span></span>),\n",
       "...</span>\n",
       "<span style=\"color: rgb(0, 187, 187)\"><span class=\"ansi-cyan-fg\">res6_6</span></span>: <span style=\"color: rgb(0, 187, 0)\"><span class=\"ansi-green-fg\">Set</span></span>[<span style=\"color: rgb(0, 187, 0)\"><span class=\"ansi-green-fg\">Nothing</span></span>] = <span style=\"color: yellow\"><span class=\"ansi-yellow-fg\">Set</span></span>()</code></pre>\n",
       "</div>"
      ],
      "text/plain": [
       "defined \u001b[32mfunction\u001b[39m \u001b[36mhash\u001b[39m\n",
       "defined \u001b[32mfunction\u001b[39m \u001b[36mextractUaFromPath\u001b[39m\n",
       "\u001b[36mautoRefSet\u001b[39m: \u001b[32mSet\u001b[39m[\u001b[32mString\u001b[39m] = \u001b[33mSet\u001b[39m(\u001b[32m\"ref\"\u001b[39m, \u001b[32m\"реферат\"\u001b[39m, \u001b[32m\"avto\"\u001b[39m)\n",
       "defined \u001b[32mfunction\u001b[39m \u001b[36misAutoRefUA\u001b[39m\n",
       "defined \u001b[32mfunction\u001b[39m \u001b[36mconvertNgUa\u001b[39m\n",
       "\u001b[36mbadFiles\u001b[39m: \u001b[32mSet\u001b[39m[(\u001b[32mString\u001b[39m, \u001b[32mString\u001b[39m)] = \u001b[33mSet\u001b[39m(\n",
       "  (\u001b[32m\"0514U000833\"\u001b[39m, \u001b[32m\"dis.doc.txt\"\u001b[39m),\n",
       "  (\u001b[32m\"0418U003307\"\u001b[39m, \u001b[32m\"dis Заднєпровська.doc.txt\"\u001b[39m),\n",
       "  (\u001b[32m\"0420U100505\"\u001b[39m, \u001b[32m\"Дисертація_Ібрагим.docx.txt\"\u001b[39m),\n",
       "  (\n",
       "    \u001b[32m\"0410U000823\"\u001b[39m,\n",
       "    \u001b[32m\"дисер+автореф--текст дис 12.03--Дис[1]. Черкашина 11.03.10[1].doc.txt\"\u001b[39m\n",
       "  ),\n",
       "  (\u001b[32m\"0518U000044\"\u001b[39m, \u001b[32m\"Dysser-Shpotyuk.pdf.txt\"\u001b[39m),\n",
       "  (\u001b[32m\"0515U000605\"\u001b[39m, \u001b[32m\"dis Курта С.А..doc.txt\"\u001b[39m),\n",
       "  (\u001b[32m\"0821U100735\"\u001b[39m, \u001b[32m\"Zlenko_diss.pdf.txt\"\u001b[39m),\n",
       "  (\u001b[32m\"0508U000331\"\u001b[39m, \u001b[32m\"Розділ 3.doc.txt\"\u001b[39m),\n",
       "  (\u001b[32m\"0410U003049\"\u001b[39m, \u001b[32m\"disser--dis3.doc.txt\"\u001b[39m),\n",
       "  (\u001b[32m\"0417U001002\"\u001b[39m, \u001b[32m\"dis .doc.txt\"\u001b[39m),\n",
       "  (\u001b[32m\"0419U002578\"\u001b[39m, \u001b[32m\"dis.doc.txt\"\u001b[39m),\n",
       "  (\u001b[32m\"0407U001929\"\u001b[39m, \u001b[32m\"ELENA.doc.txt\"\u001b[39m),\n",
       "  (\u001b[32m\"0507U000152\"\u001b[39m, \u001b[32m\"dis 3.doc.txt\"\u001b[39m),\n",
       "  (\u001b[32m\"0821U100099\"\u001b[39m, \u001b[32m\"dis.doc.txt\"\u001b[39m),\n",
       "  (\u001b[32m\"0512U000112\"\u001b[39m, \u001b[32m\"dis.pdf.txt\"\u001b[39m),\n",
       "  (\u001b[32m\"0420U100433\"\u001b[39m, \u001b[32m\"Дисертація_Савченко О.В..pdf.txt\"\u001b[39m),\n",
       "  (\u001b[32m\"0512U000622\"\u001b[39m, \u001b[32m\"Диссертация Шаповал ВМ--Дис 02052012.doc.txt\"\u001b[39m),\n",
       "  (\u001b[32m\"0420U100302\"\u001b[39m, \u001b[32m\"dis.docx.txt\"\u001b[39m),\n",
       "  (\u001b[32m\"0418U001757\"\u001b[39m, \u001b[32m\"Diss_Grytsenko.pdf.txt\"\u001b[39m),\n",
       "  (\u001b[32m\"0415U001624\"\u001b[39m, \u001b[32m\"dis.doc.txt\"\u001b[39m),\n",
       "  (\u001b[32m\"0521U101520\"\u001b[39m, \u001b[32m\"dis.doc.txt\"\u001b[39m),\n",
       "  (\u001b[32m\"0498U000413\"\u001b[39m, \u001b[32m\"dysertacia.doc.txt\"\u001b[39m),\n",
       "  (\u001b[32m\"0821U100982\"\u001b[39m, \u001b[32m\"dysertatsiia_2021_Pylypenko_Rozrobka_skladu.pdf.txt\"\u001b[39m),\n",
       "  (\u001b[32m\"0404U001102\"\u001b[39m, \u001b[32m\"dys01.doc.txt\"\u001b[39m),\n",
       "  (\u001b[32m\"0418U000072\"\u001b[39m, \u001b[32m\"дисертація_zhuravska_19.11.18_друк.doc.txt\"\u001b[39m),\n",
       "  (\u001b[32m\"0420U100045\"\u001b[39m, \u001b[32m\"дисертація Москальов 28.05.2020.pdf.txt\"\u001b[39m),\n",
       "  (\u001b[32m\"0408U003646\"\u001b[39m, \u001b[32m\"Оксана-дисер-посл.вар..doc.txt\"\u001b[39m),\n",
       "  (\n",
       "    \u001b[32m\"0822U100316\"\u001b[39m,\n",
       "    \u001b[32m\"1_Овчаренко_Метафора і метафоризація_філософсько-антропологічний вимір_14.12.21_остаточн.варіант.pdf.txt\"\u001b[39m\n",
       "  ),\n",
       "  (\u001b[32m\"0823U100716\"\u001b[39m, \u001b[32m\"Dis_Ходирєва.pdf.txt\"\u001b[39m),\n",
       "  (\u001b[32m\"0410U006583\"\u001b[39m, \u001b[32m\"dis.doc.txt\"\u001b[39m),\n",
       "  (\u001b[32m\"0521U100239\"\u001b[39m, \u001b[32m\"Диссертация.pdf.txt\"\u001b[39m),\n",
       "...\n",
       "\u001b[36mres6_6\u001b[39m: \u001b[32mSet\u001b[39m[\u001b[32mNothing\u001b[39m] = \u001b[33mSet\u001b[39m()"
      ]
     },
     "metadata": {},
     "output_type": "display_data"
    }
   ],
   "source": [
    "  def hash(str: String, seed: Int): Int = {\n",
    "    var res = 1\n",
    "    for (c <- str) {\n",
    "      res = res * seed + c.toInt\n",
    "    }\n",
    "\n",
    "    res\n",
    "  }\n",
    "\n",
    "  def extractUaFromPath(path: String) = {\n",
    "    path.split(\"/\").dropRight(1).last\n",
    "  }\n",
    "\n",
    "  lazy val autoRefSet = Set(\"ref\", \"реферат\", \"avto\")\n",
    "\n",
    "  def isAutoRefUA(path: String): Boolean = {\n",
    "    val fileName = path.split(\"/\").last.toLowerCase\n",
    "    autoRefSet.exists(x => fileName.contains(x))\n",
    "  }\n",
    "\n",
    "  def convertNgUa(str: String): String = {\n",
    "    str.filter(ch => ch == ' ' || (ch >= 'а' && ch <= 'Я') || (ch >= '\\u0410' && ch <= '\\u044F')).toUpperCase\n",
    "  }\n",
    "\n",
    "  //ID -> FileName\n",
    "  lazy val badFiles: Set[(String, String)] =\n",
    "    scala.io.Source.fromFile(\"all.ban.1\", \"UTF-8\").getLines.map { line =>\n",
    "      val split = line.split(\"\\t\")\n",
    "      split.head -> split(1)\n",
    "    }.toSet\n",
    "//    scala.io.Source.fromFile(\"bad.files\", \"UTF-8\").getLines.map { line =>\n",
    "//      val split = line.split(\"\\t\")\n",
    "//      split.head -> split.last\n",
    "//    }.toSet\n",
    "  Set.empty\n"
   ]
  },
  {
   "cell_type": "code",
   "execution_count": 20,
   "id": "ee5c9c21-13c6-4cc2-a0a4-014cf245e741",
   "metadata": {},
   "outputs": [
    {
     "data": {
      "text/plain": [
       "defined \u001b[32mfunction\u001b[39m \u001b[36muaHashDir\u001b[39m"
      ]
     },
     "execution_count": 20,
     "metadata": {},
     "output_type": "execute_result"
    }
   ],
   "source": [
    "  def uaHashDir(id: Int): Unit = {\n",
    "    val byId: Map[String, Vector[(String, FileName)]] = FileUtils.traverse(s\"txt/$id/\")\n",
    "      .filter(_.endsWith(\".txt\")).map(p => extractUaFromPath(p) -> p).groupBy(_._1).mapValues(v => v.filterNot { case (_, path) => isAutoRefUA(path) })\n",
    "\n",
    "    val iter: Iterator[String] = byId.toVector.iterator.flatMap { case (id, vec) =>\n",
    "\n",
    "      val pages: Vector[String] = vec.filterNot{case (idd, path) =>\n",
    "        badFiles.contains(idd -> path.split(\"/\").last)}.flatMap { case (_, p) =>\n",
    "        read(p).split(12.toChar)\n",
    "      }\n",
    "\n",
    "      val mainText: Vector[String] = pages.map(page => convertNgUa(page).split(\" \").filter(_.nonEmpty).mkString(\" \")).flatMap { page => page.split(\" \").sliding(6).map(_.mkString(\" \")) }.filter(_.size >= 20)\n",
    "      \n",
    "      mainText.flatMap { ng =>\n",
    "        val h5 = hash(ng, 5)\n",
    "        val h7 = hash(ng, 7)\n",
    "        val sum = (h5.toLong << 32) + h7\n",
    "        if ((scala.math.abs(sum) % 10) == 0) {\n",
    "          Some(s\"${h5}\\t${h7}\\t${id}\")\n",
    "        } else {\n",
    "          None\n",
    "        }\n",
    "      }\n",
    "    }\n",
    "\n",
    "    FileUtils.write(s\"ua$id.ua\", iter)\n",
    "  }\n"
   ]
  },
  {
   "cell_type": "code",
   "execution_count": null,
   "id": "3848adc5-1683-46eb-8ee1-aea7a5c594e0",
   "metadata": {},
   "outputs": [],
   "source": [
    "uaHashDir(0)"
   ]
  },
  {
   "cell_type": "code",
   "execution_count": null,
   "id": "e4a0b16f-529d-4e53-b68e-7f484eae470c",
   "metadata": {},
   "outputs": [],
   "source": [
    "(1 to 999).par.foreach(uaHashDir)"
   ]
  },
  {
   "cell_type": "code",
   "execution_count": null,
   "id": "9ea0acdf-0e4c-4e8b-a24c-c6237b679d93",
   "metadata": {},
   "outputs": [],
   "source": [
    "  val uaHashMap = scala.collection.mutable.Map[(Int, Int), Int]().withDefaultValue(0)\n"
   ]
  },
  {
   "cell_type": "code",
   "execution_count": null,
   "id": "91ede829-b90c-4464-a386-7e46650ed0e6",
   "metadata": {},
   "outputs": [],
   "source": [
    "  GroupIterator[String, String, Vector[String]](scala.io.Source.fromFile(\"ua.hash.sort\").getLines(), { x => {\n",
    "    val split = x.split(\"\\t\")\n",
    "    split.take(2).mkString(\" \") -> Vector(split.last)\n",
    "  }\n",
    "  }, _ ++ _).filter(x => x._2.size > 1 && x._2.size <= 7).foreach {case (_, vec) =>\n",
    "    for { i <- vec.indices\n",
    "      j <- i + 1 until vec.size\n",
    "    } {\n",
    "      val fst = vec(i)\n",
    "      val snd = vec(j)\n",
    "\n",
    "      val meta1 = getUaMetaByStringId(fst)\n",
    "      val meta2 = getUaMetaByStringId(snd)\n",
    "\n",
    "      val (i1, i2) = (meta1.year,  meta2.year) match {\n",
    "        case (y1, y2) if y1 < y2 => idUaRevMap(meta1.id) -> idUaRevMap(meta2.id)\n",
    "        case (y1, y2) if y1 > y2 => idUaRevMap(meta2.id) -> idUaRevMap(meta1.id)\n",
    "        case (_, _) if meta1.id < meta2.id => idUaRevMap(meta1.id) -> idUaRevMap(meta2.id)\n",
    "        case _ => idUaRevMap(meta2.id) -> idUaRevMap(meta1.id)\n",
    "      }\n",
    "\n",
    "      uaHashMap(i1 -> i2) = uaHashMap(i1 -> i2) + 1\n",
    "    }\n",
    "  }\n"
   ]
  },
  {
   "cell_type": "code",
   "execution_count": null,
   "id": "5a2795ed-14b1-4355-9d9a-570824fdd60b",
   "metadata": {},
   "outputs": [],
   "source": [
    "  // val iter = uaHashMap.filter(_._2 >= 7).iterator.map(x => s\"${x._1._1}\\t${x._1._2}\\t${x._2}\")\n",
    "  // FileUtils.write(\"ua.hash.7.graph.1\", iter)\n"
   ]
  },
  {
   "cell_type": "code",
   "execution_count": null,
   "id": "5ec8bc83-6beb-4998-b70f-2a1ee3161923",
   "metadata": {},
   "outputs": [],
   "source": [
    "\n",
    "lazy val uaSuspect: Vector[((Int, Int), Int)] = uaHashMap.filter(x => x._2 >= 200 && x._2 <= 2000).toVector\n",
    "  lazy val uaSuspectGrouped: Vector[(Int, Vector[((Int, Int), Int)])] = uaSuspect.groupBy(_._1._2).toVector.sortBy(_._2.map(_._2).sum)(Ordering[Int].reverse)\n"
   ]
  },
  {
   "cell_type": "code",
   "execution_count": null,
   "id": "5aa12543-a3c2-407f-80cc-a96d1d17b34d",
   "metadata": {},
   "outputs": [],
   "source": [
    "uaSuspectGrouped.take(10).foreach(println)"
   ]
  },
  {
   "cell_type": "code",
   "execution_count": null,
   "id": "82d510ac-9c67-44ee-8568-55f5a3041b75",
   "metadata": {},
   "outputs": [],
   "source": [
    "  getUaMetaById(130947)\n",
    "  getUaMetaById(130951)\n"
   ]
  },
  {
   "cell_type": "code",
   "execution_count": null,
   "id": "ca594d12-9d1f-487f-9f7e-b3252cbafc04",
   "metadata": {},
   "outputs": [],
   "source": [
    "  // val iter1 = uaSuspectGrouped.take(5000).map { case (id, vec: Vector[((Int, Int), Int)]) =>\n",
    "val iter1 = uaSuspectGrouped.map { case (id, vec: Vector[((Int, Int), Int)]) =>\n",
    "    val m = getUaMetaById(id)\n",
    "\n",
    "    val sources = vec.sortBy(_._2)(Ordering[Int].reverse).take(4).map { case ((other, _), pop) =>\n",
    "      val mm = getUaMetaById(other)\n",
    "      List(mm.id, mm.fullDate, mm.author, mm.title, s\"weight=${pop}\").mkString(\"[\", \", \", \"]\")\n",
    "    }.mkString(\"[[*\", \", \", \"*]]\")\n",
    "\n",
    "    List(m.id.toString, m.fullDate, m.title, m.author, sources).mkString(\"\\t\")\n",
    "  }.iterator\n",
    "\n",
    "  FileUtils.write(\"ua.top.p200-2000.csv\", iter1)\n"
   ]
  },
  {
   "cell_type": "code",
   "execution_count": null,
   "id": "1e65f8ec-d92c-4696-ad0e-8f907eefc4d6",
   "metadata": {},
   "outputs": [],
   "source": [
    "        // lazy val uaSuspect1: Vector[((Int, Int), Int)] = uaHashMap.filter(x => x._2 >= 200).toVector\n",
    "        // lazy val uaSuspectGrouped1Map: Map[Int, Vector[((Int, Int), Int)]] = uaSuspect1.groupBy(_._1._2)\n"
   ]
  },
  {
   "cell_type": "code",
   "execution_count": null,
   "id": "a17fbf32-4c4f-42df-8d9d-3d03376ea776",
   "metadata": {},
   "outputs": [],
   "source": [
    "    val iter = scala.io.Source.fromFile(\"ua.hash.7.all\").getLines.flatMap { line =>\n",
    "      val split = line.split(\"\\t\")\n",
    "      val fst = split(0).toInt\n",
    "      val snd = split(1).toInt\n",
    "      val size = split(2).toInt\n",
    "\n",
    "      val fstMeta: UaMeta = getUaMetaById(fst)\n",
    "      val sndMeta: UaMeta = getUaMetaById(snd)\n",
    "\n",
    "      val (fa, fb) = (fstMeta.year, sndMeta.year) match {\n",
    "        case (f, s) if f == s => \"--\" -> \"--\"\n",
    "        case (f, s) if f < s => \"->\" -> \"<-\"\n",
    "        case (f, s) => \"<-\" -> \"->\"\n",
    "      }\n",
    "\n",
    "      Vector(\n",
    "        s\"${fstMeta.id}\\t${fa}\\t${sndMeta.id}\\t$size\",\n",
    "        s\"${sndMeta.id}\\t${fb}\\t${fstMeta.id}\\t$size\"\n",
    "      )\n",
    "    }\n",
    "\n",
    "    FileUtils.write(\"ua.hash.7.all.graph\", iter)\n"
   ]
  },
  {
   "cell_type": "code",
   "execution_count": null,
   "id": "4c4a8dd4-0037-4db4-b839-d0e2ed2aca4e",
   "metadata": {},
   "outputs": [],
   "source": [
    "val allSpec = uaMetaVec.groupBy(_.spec).mapValues(_.size).toVector.sortBy(_._1)"
   ]
  },
  {
   "cell_type": "code",
   "execution_count": null,
   "id": "18773fe9-5318-4ff3-9318-6abe8b852abf",
   "metadata": {},
   "outputs": [],
   "source": [
    "uaMetaVec.filter(_.spec == \"\").take(5)"
   ]
  },
  {
   "cell_type": "code",
   "execution_count": null,
   "id": "8761b48a-c8a1-4c0b-b919-9e28039829fd",
   "metadata": {},
   "outputs": [],
   "source": []
  },
  {
   "cell_type": "code",
   "execution_count": null,
   "id": "d2fea01f-7285-4cf4-862a-e7b52ab9f944",
   "metadata": {},
   "outputs": [],
   "source": []
  },
  {
   "cell_type": "code",
   "execution_count": null,
   "id": "5989a6e2-cafd-4fe1-9e55-48f27a17ef04",
   "metadata": {},
   "outputs": [],
   "source": []
  },
  {
   "cell_type": "code",
   "execution_count": null,
   "id": "e476f521-419a-40a1-89b6-232cf5b68aad",
   "metadata": {},
   "outputs": [],
   "source": []
  },
  {
   "cell_type": "code",
   "execution_count": null,
   "id": "403e8669-52ff-4d87-8b0f-655de4493649",
   "metadata": {},
   "outputs": [],
   "source": [
    "    lazy val naPravahText = Set(\"НА ПРАВАХ\", \"НА ПРАВАХ\")\n",
    "    lazy val disserText = Set(\"ДИСЕРТ\", \"ДИСCЕРТ\", \"ДИССЕРТАЦИЯ\")\n",
    "    lazy val monoText = Set(\"МОНОГРАФІЯ\")\n",
    "    lazy val yearText = (2000 to 2024).toList.map(_.toString)\n",
    "\n",
    "    def isTitle(page: String): Boolean = {\n",
    "      disserText.exists(x => page.contains(x)) || naPravahText.exists(x => page.contains(x))\n",
    "    }\n"
   ]
  },
  {
   "cell_type": "code",
   "execution_count": null,
   "id": "55260ba8-be7c-4ffe-b2fd-d8cac7ae88c6",
   "metadata": {},
   "outputs": [],
   "source": [
    "    def uaBanCheck(id: Int): Unit = {\n",
    "      val byId: Map[String, Vector[(String, FileName)]] = FileUtils.traverse(s\"txt/$id/\")\n",
    "        .filter(_.endsWith(\".txt\")).map(p => extractUaFromPath(p) -> p).groupBy(_._1).mapValues(v => v.filter { case (_, path) => !isAutoRefUA(path) })\n",
    "\n",
    "      def badTitle(meta: UaMeta, fstPage: String, years: List[String]): Boolean = {\n",
    "        !(fstPage.filterNot(_ == ' ').contains(meta.spec) && years.exists(y => fstPage.contains(y)))\n",
    "      }\n",
    "\n",
    "      def isMono(fstPage: String): Boolean = {\n",
    "        monoText.exists(x => fstPage.contains(x)) && yearText.exists(y => fstPage.contains(y))\n",
    "      }\n",
    "\n",
    "      val iter: Iterator[String] = byId.toVector.iterator.flatMap { case (id, vec) =>\n",
    "        val meta = getUaMetaByStringId(id)\n",
    "\n",
    "        vec.filterNot(x => isAutoRefUA(x._2)).flatMap { case (_, p) =>\n",
    "          val fileSize = FileUtils.fileSize(p)\n",
    "          if (fileSize > 400000) {\n",
    "            val fstPage = read(p).split(12.toChar).head.toUpperCase\n",
    "\n",
    "            if (isTitle(fstPage)) {\n",
    "              val years = List(meta.year, meta.year + 1, meta.year - 1).map(_.toString)\n",
    "              if (badTitle(meta, fstPage, years)) {\n",
    "                Some(s\"$id\\t${p.split(\"/\").last}\\t${meta.spec}\\t${meta.year}\\t${fileSize}\\tDiss\")\n",
    "              } else {\n",
    "                None\n",
    "              }\n",
    "            } else {\n",
    "              if (isMono(fstPage)) {\n",
    "                Some(s\"$id\\t${p.split(\"/\").last}\\t${meta.spec}\\t${meta.year}\\t${fileSize}\\tMono\")\n",
    "              } else {\n",
    "                Some(s\"$id\\t${p.split(\"/\").last}\\t${meta.spec}\\t${meta.year}\\t${fileSize}\\tUnknown\")\n",
    "              }\n",
    "            }\n",
    "          } else {\n",
    "            None\n",
    "          }\n",
    "        }\n",
    "\n",
    "      }\n",
    "\n",
    "      FileUtils.write(s\"ua$id.ban\", iter)\n",
    "    }\n"
   ]
  },
  {
   "cell_type": "code",
   "execution_count": null,
   "id": "5b720990-9aa1-4ab0-b77a-017209f69099",
   "metadata": {},
   "outputs": [],
   "source": [
    "uaBanCheck(0)"
   ]
  },
  {
   "cell_type": "code",
   "execution_count": null,
   "id": "9b2459d7-ad07-4f1d-9c1b-ea94f106fb74",
   "metadata": {},
   "outputs": [],
   "source": [
    "(1 to 999).par.foreach(uaBanCheck)"
   ]
  },
  {
   "cell_type": "code",
   "execution_count": 22,
   "id": "6cd871b8-6aad-4a32-9001-6ce555110921",
   "metadata": {},
   "outputs": [
    {
     "data": {
      "text/plain": [
       "defined \u001b[32mfunction\u001b[39m \u001b[36mua2RuHashDir\u001b[39m"
      ]
     },
     "execution_count": 22,
     "metadata": {},
     "output_type": "execute_result"
    }
   ],
   "source": [
    "  def ua2RuHashDir(id: Int): Unit = {\n",
    "    val byId: Map[String, Vector[(String, FileName)]] = FileUtils.traverse(s\"tr_ru/$id/\")\n",
    "      .filter(_.endsWith(\".txt\")).map(p => extractUaFromPath(p) -> p).groupBy(_._1).mapValues(v => v.filterNot { case (_, path) => isAutoRefUA(path) })\n",
    "\n",
    "    val iter: Iterator[String] = byId.toVector.iterator.flatMap { case (id, vec) =>\n",
    "\n",
    "      val pages: Vector[String] = vec.filterNot{case (idd, path) =>\n",
    "        badFiles.contains(idd -> path.split(\"/\").last)}.flatMap { case (_, p) =>\n",
    "        read(p).split(12.toChar)\n",
    "      }\n",
    "\n",
    "      val mainText: Vector[String] = pages.map(page => convertNgUa(page).split(\" \").filter(_.nonEmpty).mkString(\" \")).flatMap { page => page.split(\" \").sliding(6).map(_.mkString(\" \")) }.filter(_.size >= 20)\n",
    "      \n",
    "      mainText.flatMap { ng =>\n",
    "        val h5 = hash(ng, 5)\n",
    "        val h7 = hash(ng, 7)\n",
    "        val sum = (h5.toLong << 32) + h7\n",
    "        if ((scala.math.abs(sum) % 10) == 0) {\n",
    "          Some(s\"${h5}\\t${h7}\\tR${id}\")\n",
    "        } else {\n",
    "          None\n",
    "        }\n",
    "      }\n",
    "    }\n",
    "\n",
    "    FileUtils.write(s\"rua$id.rua\", iter)\n",
    "  }\n"
   ]
  },
  {
   "cell_type": "code",
   "execution_count": 23,
   "id": "e4d690ff-03b5-41d9-8f6e-d57135f6f209",
   "metadata": {},
   "outputs": [],
   "source": [
    "ua2RuHashDir(0)"
   ]
  },
  {
   "cell_type": "code",
   "execution_count": 24,
   "id": "32544d25-ac0f-46ad-9a69-72383c8f3647",
   "metadata": {},
   "outputs": [],
   "source": [
    "(0 to 999).par.foreach(ua2RuHashDir)"
   ]
  },
  {
   "cell_type": "code",
   "execution_count": 13,
   "id": "d92a03b8-d421-4115-afac-8c6be5f54191",
   "metadata": {},
   "outputs": [
    {
     "name": "stderr",
     "output_type": "stream",
     "text": [
      "cell14.sc:47: not found: value hash\n",
      "        val h5 = hash(ng, 5)\n",
      "                 ^\n",
      "cell14.sc:48: not found: value hash\n",
      "        val h7 = hash(ng, 7)\n",
      "                 ^\n",
      "Compilation Failed"
     ]
    }
   ],
   "source": [
    "  def ruTextHash(fileName: String, id: String): Iterator[String] = {\n",
    "    val bibList = List[String](\n",
    "      \"СПИСОК ЛИТЕРАТУРЫ\", \"СПИСОК ИСПОЛЬЗОВАННОЙ\", \"СПИСОК ИСПОЛЬЗУЕМОЙ\", \"СПИСОКЛИТЕРАТУРЫ\", \"УКАЗАТЕЛЬ ЛИТЕРАТУРЫ\",\n",
    "      \"СПИСОК ЦИТИРУЕМОЙ\", \"ИСПОЛЬЗОВАННАЯ ЛИТЕРАТУРА\", \"БИБЛИОГРАФИЧЕСКИЙ СПИСОК\", \"СПИСОК ИСПОЛЬЗОВАННЫХ\",\n",
    "      \"БИБЛИОГРАФИЧЕСКИЙ\", \"БИБЛИОГРАФИЯ\", \"СПИСОК ИСТОЧНИКОВ\", \"ЛИТЕРАТУРА\")\n",
    "\n",
    "    val endList = List[String](\"ВЫВОДЫ\", \"ЗАКЛЮЧЕНИЕ\")\n",
    "\n",
    "    import scala.util.Try\n",
    "    Try {\n",
    "      val a: Array[String] = {\n",
    "        import java.io._\n",
    "        val br = new BufferedReader(new InputStreamReader(\n",
    "          new FileInputStream(fileName), \"UTF-8\"))\n",
    "        val res = br.lines().toArray.toList.map(_.toString).mkString(\" \").split(12.toChar)\n",
    "        br.close()\n",
    "        res\n",
    "      }\n",
    "\n",
    "      val zip: Array[(String, Int)] = a.zipWithIndex\n",
    "      val rev = zip.reverse\n",
    "\n",
    "      val bib: Option[Int] = rev.take((rev.size * 3 / 4).toInt).find { case (str, _) =>\n",
    "        val list = str.take(100).toUpperCase.filter(x => x.isLetter || x == ' ').split(\" \").filter(_.nonEmpty)\n",
    "        val head = list.mkString(\" \")\n",
    "        bibList.exists(prefix => head.startsWith(prefix))\n",
    "      }.map(_._2)\n",
    "\n",
    "      val end: Option[Int] = rev.take((rev.size * 3 / 4).toInt).find { case (str, _) =>\n",
    "        val list = str.take(100).toUpperCase.filter(x => x.isLetter || x == ' ').split(\" \").filter(_.nonEmpty)\n",
    "        val head = list.mkString(\" \")\n",
    "        endList.exists(prefix => head.startsWith(prefix))\n",
    "      }.map(_._2)\n",
    "\n",
    "      val endPos = (bib, end) match {\n",
    "        case (Some(b), Some(e)) => scala.math.min(b, e)\n",
    "        case (None, Some(e)) => e\n",
    "        case (Some(b), None) => b\n",
    "        case _ => a.size - 10\n",
    "      }\n",
    "\n",
    "      val pages: List[String] = zip.toList.slice(5, endPos).map(_._1)\n",
    "\n",
    "      val mainText: Vector[String] = pages.map(page => convertNgUa(page).split(\" \").filter(_.nonEmpty).mkString(\" \")).flatMap { page => page.split(\" \").sliding(6).map(_.mkString(\" \")) }.filter(_.size >= 20).toVector\n",
    "\n",
    "      mainText.flatMap { ng =>\n",
    "        val h5 = hash(ng, 5)\n",
    "        val h7 = hash(ng, 7)\n",
    "        val sum = (h5.toLong << 32) + h7\n",
    "        if ((scala.math.abs(sum) % 10) == 0) {\n",
    "          Some(s\"${h5}\\t${h7}\\t${id}\")\n",
    "        } else {\n",
    "          None\n",
    "        }\n",
    "      }.iterator\n",
    "    }.getOrElse(Iterator.empty)\n",
    "  }\n",
    "\n",
    "  def ruDirHashHandle(id: Int): Unit = {\n",
    "    val iter = FileUtils.traverse(s\"data/d/$id\").iterator.flatMap { fileName =>\n",
    "      val i = fileName.split(\"/\").last\n",
    "      val rgbId: Int = all(i)\n",
    "      ruTextHash(fileName, s\"D$rgbId\")\n",
    "    }\n",
    "\n",
    "    FileUtils.write(s\"ru$id.hash\", iter)\n",
    "  }\n"
   ]
  },
  {
   "cell_type": "code",
   "execution_count": null,
   "id": "7838acf6-d2a5-412d-84d7-db072e16f19b",
   "metadata": {},
   "outputs": [],
   "source": [
    "ruDirHashHandle(0)"
   ]
  },
  {
   "cell_type": "code",
   "execution_count": null,
   "id": "aec00cb2-dd63-459e-acb9-d2bc41087b6e",
   "metadata": {},
   "outputs": [],
   "source": []
  },
  {
   "cell_type": "code",
   "execution_count": null,
   "id": "05b681d1-27d3-40ae-bc2a-79aef6e5d486",
   "metadata": {},
   "outputs": [],
   "source": [
    "(1 to 999).par.foreach(ruDirHashHandle)"
   ]
  },
  {
   "cell_type": "code",
   "execution_count": null,
   "id": "1adbdab5-6ab2-45bd-bae4-66b83e6b3b9b",
   "metadata": {},
   "outputs": [],
   "source": []
  },
  {
   "cell_type": "code",
   "execution_count": null,
   "id": "d285e1ac-f79f-4bbe-bd35-4566c6086730",
   "metadata": {},
   "outputs": [],
   "source": [
    "  val map = scala.collection.mutable.Map[(String, String), Int]().withDefaultValue(0)\n",
    "\n",
    "  GroupIterator[String, String, Vector[String]](scala.io.Source.fromFile(\"ua.ru.hash.sort.hh\").getLines, { line =>\n",
    "    val split = line.split(\"\\t\")\n",
    "    split.take(2).mkString(\"\\t\") -> Vector(split.last)\n",
    "  }, _ ++ _).filter(x => x._2.size >= 2 && x._2.size <= 10).map(_._2).filter { vec =>\n",
    "    vec.count(_.startsWith(\"D\")) >= 1 && vec.count(s => s.head.isDigit) >= 1\n",
    "  }.foreach { vec =>\n",
    "    val ru = vec.filter(_.startsWith(\"D\"))\n",
    "    val ua = vec.filter(!_.startsWith(\"D\"))\n",
    "\n",
    "    for { r <- ru\n",
    "      u <- ua\n",
    "      p = r -> u\n",
    "    } {\n",
    "      map(p) = map(p) + 1\n",
    "    }\n",
    "  }\n",
    "\n",
    "  val iter = map.filter(_._2 >= 7).iterator.map { x =>\n",
    "    s\"${x._1._1}\\t${x._1._2}\\t${x._2}\"\n",
    "  }\n",
    "\n",
    "  FileUtils.write(\"ru.ua.text.hash.graph\", iter)\n"
   ]
  },
  {
   "cell_type": "code",
   "execution_count": null,
   "id": "965f6753-9fbc-4996-b89f-e754325a6b6a",
   "metadata": {},
   "outputs": [],
   "source": [
    "    val iter = scala.io.Source.fromFile(\"ru.ua.text.hash.graph\").getLines.flatMap { line =>\n",
    "      val split = line.split(\"\\t\")\n",
    "      val size = split.last.toInt\n",
    "\n",
    "      if (size >= 100) {\n",
    "        val ru = getDissMeta(split.head.drop(1).toInt)\n",
    "        val ua = getUaMetaByStringId(split(1))\n",
    "\n",
    "        Some(ru, ua, size)\n",
    "      } else {\n",
    "        None\n",
    "      }\n",
    "    }.toVector.sortBy(x => x._1.y)(Ordering[Int].reverse).toIterator.flatMap { case (ru, ua, size) =>\n",
    "      if (ru.y >= ua.year) {\n",
    "        val list = List[String](ru.id, ru.year, ru.author, ru.toString, ua.id, ua.year.toString, ua.author, ua.toString, size.toString)\n",
    "        Some(s\"${list.mkString(\"\\t\")}\")\n",
    "      } else {\n",
    "        None\n",
    "      }\n",
    "    }\n",
    "\n",
    "    FileUtils.write(\"ua2ru.text.csv\", iter)\n"
   ]
  },
  {
   "cell_type": "code",
   "execution_count": null,
   "id": "cc763b88-57bd-442d-b929-8e621c139643",
   "metadata": {},
   "outputs": [],
   "source": [
    "    val iter = scala.io.Source.fromFile(\"ru.ua.text.hash.graph\").getLines.flatMap { line =>\n",
    "      val split = line.split(\"\\t\")\n",
    "      val size = split.last.toInt\n",
    "\n",
    "      if (size >= 100) {\n",
    "        val ru = getDissMeta(split.head.drop(1).toInt)\n",
    "        val ua = getUaMetaByStringId(split(1))\n",
    "\n",
    "        Some(ru, ua, size)\n",
    "      } else {\n",
    "        None\n",
    "      }\n",
    "    }.toVector.sortBy(x => x._2.year)(Ordering[Int].reverse).toIterator.flatMap { case (ru, ua, size) =>\n",
    "      if (ru.y <= ua.year) {\n",
    "        val list = List[String](ua.id, ua.year.toString, ua.author, ua.toString, ru.id, ru.year, ru.author, ru.toString, size.toString)\n",
    "        Some(s\"${list.mkString(\"\\t\")}\")\n",
    "      } else {\n",
    "        None\n",
    "      }\n",
    "    }\n",
    "\n",
    "    FileUtils.write(\"ru2ua.text.csv\", iter)\n"
   ]
  },
  {
   "cell_type": "code",
   "execution_count": 25,
   "id": "c932b40e-c8ab-4558-aa57-ca550e162992",
   "metadata": {},
   "outputs": [
    {
     "data": {
      "text/plain": [
       "\u001b[36mmap\u001b[39m: \u001b[32mmutable\u001b[39m.\u001b[32mMap\u001b[39m[(\u001b[32mString\u001b[39m, \u001b[32mString\u001b[39m), \u001b[32mInt\u001b[39m] = \u001b[33mMap\u001b[39m(\n",
       "  (\u001b[32m\"R0410U005223\"\u001b[39m, \u001b[32m\"D147628\"\u001b[39m) -> \u001b[32m1\u001b[39m,\n",
       "  (\u001b[32m\"R0418U002271\"\u001b[39m, \u001b[32m\"D898557\"\u001b[39m) -> \u001b[32m1\u001b[39m,\n",
       "  (\u001b[32m\"R0415U003860\"\u001b[39m, \u001b[32m\"D637317\"\u001b[39m) -> \u001b[32m1\u001b[39m,\n",
       "  (\u001b[32m\"R0415U000311\"\u001b[39m, \u001b[32m\"D959275\"\u001b[39m) -> \u001b[32m1\u001b[39m,\n",
       "  (\u001b[32m\"R0419U004814\"\u001b[39m, \u001b[32m\"D455917\"\u001b[39m) -> \u001b[32m1\u001b[39m,\n",
       "  (\u001b[32m\"R0515U000560\"\u001b[39m, \u001b[32m\"D806309\"\u001b[39m) -> \u001b[32m1\u001b[39m,\n",
       "  (\u001b[32m\"R0410U003726\"\u001b[39m, \u001b[32m\"D599283\"\u001b[39m) -> \u001b[32m1\u001b[39m,\n",
       "  (\u001b[32m\"R0504U000421\"\u001b[39m, \u001b[32m\"D71972\"\u001b[39m) -> \u001b[32m1\u001b[39m,\n",
       "  (\u001b[32m\"R0417U003801\"\u001b[39m, \u001b[32m\"D810692\"\u001b[39m) -> \u001b[32m1\u001b[39m,\n",
       "  (\u001b[32m\"R0519U000255\"\u001b[39m, \u001b[32m\"D605242\"\u001b[39m) -> \u001b[32m1\u001b[39m,\n",
       "  (\u001b[32m\"R0410U001177\"\u001b[39m, \u001b[32m\"D634223\"\u001b[39m) -> \u001b[32m1\u001b[39m,\n",
       "  (\u001b[32m\"R0416U003063\"\u001b[39m, \u001b[32m\"D236213\"\u001b[39m) -> \u001b[32m1\u001b[39m,\n",
       "  (\u001b[32m\"R0521U100081\"\u001b[39m, \u001b[32m\"D645348\"\u001b[39m) -> \u001b[32m2\u001b[39m,\n",
       "  (\u001b[32m\"R0420U102221\"\u001b[39m, \u001b[32m\"D485141\"\u001b[39m) -> \u001b[32m1\u001b[39m,\n",
       "  (\u001b[32m\"R0821U101785\"\u001b[39m, \u001b[32m\"D891501\"\u001b[39m) -> \u001b[32m1\u001b[39m,\n",
       "  (\u001b[32m\"R0406U000876\"\u001b[39m, \u001b[32m\"D253359\"\u001b[39m) -> \u001b[32m2\u001b[39m,\n",
       "  (\u001b[32m\"R0409U001433\"\u001b[39m, \u001b[32m\"D785095\"\u001b[39m) -> \u001b[32m1\u001b[39m,\n",
       "  (\u001b[32m\"R0411U003858\"\u001b[39m, \u001b[32m\"D976364\"\u001b[39m) -> \u001b[32m1\u001b[39m,\n",
       "  (\u001b[32m\"R0415U001352\"\u001b[39m, \u001b[32m\"D780757\"\u001b[39m) -> \u001b[32m1\u001b[39m,\n",
       "  (\u001b[32m\"R0505U000023\"\u001b[39m, \u001b[32m\"D363266\"\u001b[39m) -> \u001b[32m1\u001b[39m,\n",
       "  (\u001b[32m\"R0406U002168\"\u001b[39m, \u001b[32m\"D44303\"\u001b[39m) -> \u001b[32m1\u001b[39m,\n",
       "  (\u001b[32m\"R0410U004943\"\u001b[39m, \u001b[32m\"D53395\"\u001b[39m) -> \u001b[32m1\u001b[39m,\n",
       "  (\u001b[32m\"R0403U002358\"\u001b[39m, \u001b[32m\"D95318\"\u001b[39m) -> \u001b[32m1\u001b[39m,\n",
       "  (\u001b[32m\"R0405U003324\"\u001b[39m, \u001b[32m\"D141405\"\u001b[39m) -> \u001b[32m1\u001b[39m,\n",
       "  (\u001b[32m\"R0518U000720\"\u001b[39m, \u001b[32m\"D75517\"\u001b[39m) -> \u001b[32m1\u001b[39m,\n",
       "  (\u001b[32m\"R0405U001721\"\u001b[39m, \u001b[32m\"D652745\"\u001b[39m) -> \u001b[32m1\u001b[39m,\n",
       "  (\u001b[32m\"R0521U100820\"\u001b[39m, \u001b[32m\"D718342\"\u001b[39m) -> \u001b[32m1\u001b[39m,\n",
       "  (\u001b[32m\"R0407U003279\"\u001b[39m, \u001b[32m\"D718169\"\u001b[39m) -> \u001b[32m1\u001b[39m,\n",
       "  (\u001b[32m\"R0821U100516\"\u001b[39m, \u001b[32m\"D649328\"\u001b[39m) -> \u001b[32m1\u001b[39m,\n",
       "  (\u001b[32m\"R0412U002566\"\u001b[39m, \u001b[32m\"D485770\"\u001b[39m) -> \u001b[32m1\u001b[39m,\n",
       "  (\u001b[32m\"R0518U002550\"\u001b[39m, \u001b[32m\"D889151\"\u001b[39m) -> \u001b[32m5\u001b[39m,\n",
       "  (\u001b[32m\"R0412U001550\"\u001b[39m, \u001b[32m\"D272690\"\u001b[39m) -> \u001b[32m1\u001b[39m,\n",
       "  (\u001b[32m\"R0415U001806\"\u001b[39m, \u001b[32m\"D380975\"\u001b[39m) -> \u001b[32m1\u001b[39m,\n",
       "  (\u001b[32m\"R0410U003272\"\u001b[39m, \u001b[32m\"D679064\"\u001b[39m) -> \u001b[32m1\u001b[39m,\n",
       "  (\u001b[32m\"R0519U000406\"\u001b[39m, \u001b[32m\"D678859\"\u001b[39m) -> \u001b[32m1\u001b[39m,\n",
       "  (\u001b[32m\"R0517U000002\"\u001b[39m, \u001b[32m\"D624512\"\u001b[39m) -> \u001b[32m1\u001b[39m,\n",
       "  (\u001b[32m\"R0419U003539\"\u001b[39m, \u001b[32m\"D797764\"\u001b[39m) -> \u001b[32m1\u001b[39m,\n",
       "  (\u001b[32m\"R0421U102161\"\u001b[39m, \u001b[32m\"D134470\"\u001b[39m) -> \u001b[32m1\u001b[39m,\n",
       "...\n",
       "\u001b[36miter\u001b[39m: \u001b[32mIterator\u001b[39m[\u001b[32mString\u001b[39m] = \u001b[32mempty iterator\u001b[39m"
      ]
     },
     "execution_count": 25,
     "metadata": {},
     "output_type": "execute_result"
    }
   ],
   "source": [
    "  val map = scala.collection.mutable.Map[(String, String), Int]().withDefaultValue(0)\n",
    "\n",
    "  GroupIterator[String, String, Vector[String]](scala.io.Source.fromFile(\"rua.ru.hash.sort.hh\").getLines, { line =>\n",
    "    val split = line.split(\"\\t\")\n",
    "    split.take(2).mkString(\"\\t\") -> Vector(split.last)\n",
    "  }, _ ++ _).filter(x => x._2.size >= 2 && x._2.size <= 10).map(_._2).filter { vec =>\n",
    "    vec.count(_.startsWith(\"D\")) >= 1 && vec.count(_.startsWith(\"R\")) >= 1\n",
    "  }.foreach { vec =>\n",
    "    val ruTr = vec.filter(_.startsWith(\"R\"))\n",
    "    val ru = vec.filter(_.startsWith(\"D\"))\n",
    "\n",
    "    for {r <- ruTr\n",
    "         u <- ru\n",
    "         p = r -> u\n",
    "         } {\n",
    "      map(p) = map(p) + 1\n",
    "    }\n",
    "  }\n",
    "\n",
    "  val iter = map.filter(_._2 >= 7).iterator.map { x =>\n",
    "    s\"${x._1._1}\\t${x._1._2}\\t${x._2}\"\n",
    "  }\n",
    "\n",
    "  FileUtils.write(\"rua.ru.hash.hh.graph\", iter)\n"
   ]
  },
  {
   "cell_type": "code",
   "execution_count": null,
   "id": "b549c64c-4a23-4ef5-b002-b7b5ac283281",
   "metadata": {},
   "outputs": [],
   "source": []
  },
  {
   "cell_type": "code",
   "execution_count": 26,
   "id": "8d902fc9-ef09-42eb-a346-9d439be1da03",
   "metadata": {},
   "outputs": [
    {
     "data": {
      "text/plain": [
       "\u001b[36mordering2\u001b[39m: \u001b[32mObject\u001b[39m with \u001b[32mOrdering\u001b[39m[(\u001b[32mMetaData2\u001b[39m, \u001b[32mUaMeta\u001b[39m, \u001b[32mInt\u001b[39m)] = ammonite.$sess.cell26$Helper$$anon$1@608b381c\n",
       "\u001b[36miter\u001b[39m: \u001b[32mIterator\u001b[39m[\u001b[32mString\u001b[39m] = \u001b[32mempty iterator\u001b[39m"
      ]
     },
     "execution_count": 26,
     "metadata": {},
     "output_type": "execute_result"
    }
   ],
   "source": [
    "    val ordering2 = new Ordering[(MetaData2, UaMeta, Int)] {\n",
    "      override def compare(x: (MetaData2, UaMeta, Int), y: (MetaData2, UaMeta, Int)): Int = {\n",
    "        val c1 = -(x._1.year compareTo y._1.year)\n",
    "        val c2 = x._1.id compareTo y._1.id\n",
    "        (c1, c2) match {\n",
    "          case (a, _) if a != 0 => a\n",
    "          case (_, a) => a\n",
    "        }\n",
    "      }\n",
    "    }\n",
    "\n",
    "    val iter = scala.io.Source.fromFile(\"rua.ru.hash.hh.graph\").getLines.flatMap { line =>\n",
    "      val split = line.split(\"\\t\")\n",
    "      val size = split.last.toInt\n",
    "\n",
    "      if (size >= 7) {\n",
    "        val ru = getDissMeta(split(1).drop(1).toInt)\n",
    "        val ua = getUaMetaByStringId(split.head.drop(1))\n",
    "\n",
    "        Some(ru, ua, size)\n",
    "      } else {\n",
    "        None\n",
    "      }\n",
    "    }.toVector.sorted(ordering2).toIterator.flatMap { case (ru, ua, size) =>\n",
    "      if (ru.y >= ua.year) {\n",
    "        val list = List[String](ru.id, ru.year, ru.author, ru.toString, ua.id, ua.year.toString, ua.author, ua.toString, size.toString)\n",
    "        Some(s\"${list.mkString(\"\\t\")}\")\n",
    "      } else {\n",
    "        None\n",
    "      }\n",
    "    }\n",
    "\n",
    "    FileUtils.write(\"trans.ua2ru.from7.4of4.text.csv\", iter)\n"
   ]
  },
  {
   "cell_type": "code",
   "execution_count": null,
   "id": "58f7245c-bedc-49d8-8422-0b4f4c292875",
   "metadata": {},
   "outputs": [],
   "source": []
  },
  {
   "cell_type": "code",
   "execution_count": 27,
   "id": "d7ec5ca7-34b5-4ca2-a6f4-7a4e5c0272c5",
   "metadata": {},
   "outputs": [
    {
     "data": {
      "text/plain": [
       "\u001b[36mordering1\u001b[39m: \u001b[32mObject\u001b[39m with \u001b[32mOrdering\u001b[39m[(\u001b[32mMetaData2\u001b[39m, \u001b[32mUaMeta\u001b[39m, \u001b[32mInt\u001b[39m)] = ammonite.$sess.cell27$Helper$$anon$1@223b787a\n",
       "\u001b[36miter\u001b[39m: \u001b[32mIterator\u001b[39m[\u001b[32mString\u001b[39m] = \u001b[32mempty iterator\u001b[39m"
      ]
     },
     "execution_count": 27,
     "metadata": {},
     "output_type": "execute_result"
    }
   ],
   "source": [
    "    val ordering1 = new Ordering[(MetaData2, UaMeta, Int)] {\n",
    "      override def compare(x: (MetaData2, UaMeta, Int), y: (MetaData2, UaMeta, Int)): Int = {\n",
    "        val c1 = -(x._2.year compareTo y._2.year)\n",
    "        val c2 = x._2.id compareTo y._2.id\n",
    "        (c1, c2) match {\n",
    "          case (a, _) if a != 0 => a\n",
    "          case (_, a) => a\n",
    "        }\n",
    "      }\n",
    "    }\n",
    "\n",
    "    val iter = scala.io.Source.fromFile(\"rua.ru.hash.hh.graph\").getLines.flatMap { line =>\n",
    "      val split = line.split(\"\\t\")\n",
    "      val size = split.last.toInt\n",
    "\n",
    "      if (size >= 7) {\n",
    "        val ru = getDissMeta(split(1).drop(1).toInt)\n",
    "        val ua = getUaMetaByStringId(split.head.drop(1))\n",
    "\n",
    "        Some(ru, ua, size)\n",
    "      } else {\n",
    "        None\n",
    "      }\n",
    "    }.toVector.sorted(ordering1).toIterator.flatMap { case (ru, ua, size) =>\n",
    "      if (ru.y <= ua.year) {\n",
    "        val list = List[String](ua.id, ua.year.toString, ua.author, ua.toString, ru.id, ru.year, ru.author, ru.toString, size.toString)\n",
    "        Some(s\"${list.mkString(\"\\t\")}\")\n",
    "      } else {\n",
    "        None\n",
    "      }\n",
    "    }\n",
    "\n",
    "    FileUtils.write(\"trans.ru2ua.from7.4of4.text.csv\", iter)\n"
   ]
  },
  {
   "cell_type": "code",
   "execution_count": null,
   "id": "1e99d8a3-eff2-41ee-bcc6-d24e1cdd741c",
   "metadata": {},
   "outputs": [],
   "source": []
  },
  {
   "cell_type": "code",
   "execution_count": null,
   "id": "1854cbcf-70d4-4cbe-8dbc-f1d03994cbc3",
   "metadata": {},
   "outputs": [],
   "source": []
  },
  {
   "cell_type": "code",
   "execution_count": null,
   "id": "7023bd0e-122e-46bb-8d91-52e5c120116c",
   "metadata": {},
   "outputs": [],
   "source": [
    "  //   val lookingFor = Vector(\"Національний авіаційний університет\".toUpperCase(), \"national aviation university\".toUpperCase(), \n",
    "  // \"национальный авиационный университет\".toUpperCase())\n",
    "\n",
    "\n",
    "  // def uaFind(id: Int): Unit = {\n",
    "  //   val byId: Map[String, Vector[(String, FileName)]] = FileUtils.traverse(s\"txt/$id/\")\n",
    "  //     .filter(_.endsWith(\".txt\")).map(p => extractUaFromPath(p) -> p).groupBy(_._1).mapValues(v => v.filter { case (_, path) => isAutoRefUA(path) })\n",
    "\n",
    "  //   val iter: Iterator[String] = byId.toVector.iterator.flatMap { case (id, vec) =>\n",
    "  //     vec.iterator.filterNot { case (idd, path) =>\n",
    "  //       badFiles.contains(idd -> path.split(\"/\").last)\n",
    "  //     }.flatMap { case (_, p) =>\n",
    "  //       val page = read(p).split(12.toChar).headOption.getOrElse(\"\").replace('\\n', ' ').split(\" \").filter(_.nonEmpty).mkString(\" \").toUpperCase()\n",
    "  //       if (lookingFor.exists(look => page.contains(look))) {\n",
    "  //         Some(extractUaFromPath(p))\n",
    "  //       } else {\n",
    "  //         None\n",
    "  //       }\n",
    "  //     }\n",
    "  //   }\n",
    "\n",
    "  //   FileUtils.write(s\"look$id.search\", iter)\n",
    "  // }\n"
   ]
  },
  {
   "cell_type": "code",
   "execution_count": 40,
   "id": "cabeee7c-17be-445e-9d77-36c0c7f38e83",
   "metadata": {},
   "outputs": [],
   "source": [
    "uaFind(0)"
   ]
  },
  {
   "cell_type": "code",
   "execution_count": 41,
   "id": "304cc7e9-6ee8-474a-a8e3-d2efccf4f04c",
   "metadata": {},
   "outputs": [],
   "source": [
    "(0 to 999).par.foreach(uaFind)"
   ]
  },
  {
   "cell_type": "code",
   "execution_count": 49,
   "id": "5154be2b-a5c6-42fa-9dfa-1cf74e9e1b86",
   "metadata": {},
   "outputs": [
    {
     "data": {
      "text/plain": [
       "\u001b[36mautoref\u001b[39m: \u001b[32mString\u001b[39m = \u001b[32m\"АВТОРЕФЕРАТ\"\u001b[39m\n",
       "\u001b[36mdisser\u001b[39m: \u001b[32mSet\u001b[39m[\u001b[32mString\u001b[39m] = \u001b[33mSet\u001b[39m(\u001b[32m\"ДИСЕРТАЦІЯ\"\u001b[39m, \u001b[32m\"ДИССЕРТАЦИЯ\"\u001b[39m)\n",
       "defined \u001b[32mfunction\u001b[39m \u001b[36muaAutoMetaGen\u001b[39m"
      ]
     },
     "execution_count": 49,
     "metadata": {},
     "output_type": "execute_result"
    }
   ],
   "source": [
    "  val autoref = \"Автореферат\".toUpperCase\n",
    "  val disser = Set(\"Дисертація\".toUpperCase, \"диссертация\".toUpperCase)\n",
    "\n",
    "  def uaAutoMetaGen(id: Int): Unit = {\n",
    "    val byId: Map[String, Vector[(String, FileName)]] = FileUtils.traverse(s\"txt/$id/\")\n",
    "      .filter(_.endsWith(\".txt\")).map(p => extractUaFromPath(p) -> p).groupBy(_._1).mapValues(v => v.filter { case (_, path) => isAutoRefUA(path) })\n",
    "\n",
    "    val dissById: Map[String, Vector[(String, FileName)]] = FileUtils.traverse(s\"txt/$id/\")\n",
    "      .filter(_.endsWith(\".txt\")).map(p => extractUaFromPath(p) -> p).groupBy(_._1).mapValues(v => v.filter { case (_, path) => !isAutoRefUA(path) })\n",
    "\n",
    "    val iter: Iterator[String] = byId.toVector.iterator.flatMap { case (id, vec) =>\n",
    "      vec.iterator.filterNot { case (idd, path) =>\n",
    "        badFiles.contains(idd -> path.split(\"/\").last)\n",
    "      }.flatMap { case (_, p) =>\n",
    "        val pages: Array[String] = read(p).split(12.toChar).take(2)\n",
    "        if (pages.map(_.toUpperCase()).exists(p => {\n",
    "          p.contains(autoref)\n",
    "        })) {\n",
    "          val id = extractUaFromPath(p)\n",
    "          val meta = getUaMetaByStringId(id)\n",
    "\n",
    "          Some(s\"$id\\tdiss\\t${meta.spec}\\t${meta.year}\\t${pages.map(pageNorm).mkString(\"\\t\")}\")\n",
    "        } else {\n",
    "          None\n",
    "        }\n",
    "      }\n",
    "    }\n",
    "\n",
    "    val dissiter: Iterator[String] = dissById.toVector.iterator.flatMap { case (id, vec) =>\n",
    "      vec.iterator.filterNot { case (idd, path) =>\n",
    "        badFiles.contains(idd -> path.split(\"/\").last)\n",
    "      }.flatMap { case (_, p) =>\n",
    "        val page = read(p).split(12.toChar).take(1).headOption.getOrElse(\"\")\n",
    "        val pp = page.toUpperCase\n",
    "        if (disser.exists(dis => pp.contains(dis))) {\n",
    "          val id = extractUaFromPath(p)\n",
    "          val meta = getUaMetaByStringId(id)\n",
    "\n",
    "          Some(s\"$id\\tautoref\\t${meta.spec}\\t${meta.year}\\t${page}\")\n",
    "        } else {\n",
    "          None\n",
    "        }\n",
    "      }\n",
    "    }\n",
    "\n",
    "    FileUtils.write(s\"aumeta$id.aumeta\", iter ++ dissiter)\n",
    "  }\n"
   ]
  },
  {
   "cell_type": "code",
   "execution_count": 50,
   "id": "8d8234a1-a50f-46d5-97fc-b8b10678283e",
   "metadata": {},
   "outputs": [],
   "source": [
    "uaAutoMetaGen(0)"
   ]
  },
  {
   "cell_type": "code",
   "execution_count": 51,
   "id": "0aa7180c-67dc-4379-9171-455237cbefcd",
   "metadata": {},
   "outputs": [],
   "source": [
    "(0 to 999).par.foreach(uaAutoMetaGen)"
   ]
  },
  {
   "cell_type": "code",
   "execution_count": null,
   "id": "e500205b-05a0-433f-9cc3-c561c0f6de06",
   "metadata": {},
   "outputs": [],
   "source": []
  }
 ],
 "metadata": {
  "kernelspec": {
   "display_name": "Scala 2.12",
   "language": "scala",
   "name": "scala212"
  },
  "language_info": {
   "codemirror_mode": "text/x-scala",
   "file_extension": ".sc",
   "mimetype": "text/x-scala",
   "name": "scala",
   "nbconvert_exporter": "script",
   "version": "2.12.18"
  }
 },
 "nbformat": 4,
 "nbformat_minor": 5
}
